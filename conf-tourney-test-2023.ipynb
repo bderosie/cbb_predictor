{
 "cells": [
  {
   "cell_type": "code",
   "execution_count": 1,
   "id": "a303e68e",
   "metadata": {
    "_cell_guid": "b1076dfc-b9ad-4769-8c92-a6c4dae69d19",
    "_uuid": "8f2839f25d086af736a60e9eeb907d3b93b6e0e5",
    "execution": {
     "iopub.execute_input": "2023-03-16T22:20:46.205337Z",
     "iopub.status.busy": "2023-03-16T22:20:46.204963Z",
     "iopub.status.idle": "2023-03-16T22:20:46.225394Z",
     "shell.execute_reply": "2023-03-16T22:20:46.224348Z"
    },
    "papermill": {
     "duration": 0.050728,
     "end_time": "2023-03-16T22:20:46.227984",
     "exception": false,
     "start_time": "2023-03-16T22:20:46.177256",
     "status": "completed"
    },
    "tags": []
   },
   "outputs": [
    {
     "name": "stdout",
     "output_type": "stream",
     "text": [
      "/kaggle/input/ncaa-tourney-training-data/MVConfData.csv\n",
      "/kaggle/input/ncaa-tourney-training-data/TourneyPredictorTrainingData.csv\n",
      "/kaggle/input/ncaa-tourney-training-data/MAAConfData.csv\n",
      "/kaggle/input/ncaa-tourney-training-data/TourneyFullData.csv\n",
      "/kaggle/input/ncaa-tourney-training-data/WAConfData.csv\n",
      "/kaggle/input/ncaa-tourney-training-data/SLandConfData.csv\n",
      "/kaggle/input/ncaa-tourney-training-data/ACConfData.csv\n",
      "/kaggle/input/ncaa-tourney-training-data/test2015.csv\n",
      "/kaggle/input/ncaa-tourney-training-data/B12ConfData.csv\n",
      "/kaggle/input/ncaa-tourney-training-data/MAConfData.csv\n",
      "/kaggle/input/ncaa-tourney-training-data/Test2016.csv\n",
      "/kaggle/input/ncaa-tourney-training-data/BEastConfData.csv\n",
      "/kaggle/input/ncaa-tourney-training-data/Fieldof682023.csv\n",
      "/kaggle/input/ncaa-tourney-training-data/OVConfData.csv\n",
      "/kaggle/input/ncaa-tourney-training-data/SEConfData.csv\n",
      "/kaggle/input/ncaa-tourney-training-data/IVYConfData.csv\n",
      "/kaggle/input/ncaa-tourney-training-data/NEConfData.csv\n",
      "/kaggle/input/ncaa-tourney-training-data/SumConfData.csv\n",
      "/kaggle/input/ncaa-tourney-training-data/BSkyConfData.csv\n",
      "/kaggle/input/ncaa-tourney-training-data/HorzConfData.csv\n",
      "/kaggle/input/ncaa-tourney-training-data/MWConfData.csv\n",
      "/kaggle/input/ncaa-tourney-training-data/SWAConfData.csv\n",
      "/kaggle/input/ncaa-tourney-training-data/BigSthConfData.csv\n",
      "/kaggle/input/ncaa-tourney-training-data/A10ConfData.csv\n",
      "/kaggle/input/ncaa-tourney-training-data/B10ConfData.csv\n",
      "/kaggle/input/ncaa-tourney-training-data/BWestConfData.csv\n",
      "/kaggle/input/ncaa-tourney-training-data/CUSAConfData.csv\n",
      "/kaggle/input/ncaa-tourney-training-data/ColonialConfData.csv\n",
      "/kaggle/input/ncaa-tourney-training-data/AMERConfData.csv\n",
      "/kaggle/input/ncaa-tourney-training-data/SouthernConfData.csv\n",
      "/kaggle/input/ncaa-tourney-training-data/SBConfData.csv\n",
      "/kaggle/input/ncaa-tourney-training-data/P12ConfData.csv\n",
      "/kaggle/input/ncaa-tourney-training-data/WCConfData.csv\n",
      "/kaggle/input/ncaa-tourney-training-data/ASUNConfData.csv\n",
      "/kaggle/input/ncaa-tourney-training-data/MEAConfData.csv\n",
      "/kaggle/input/ncaa-tourney-training-data/AmEastConfData.csv\n",
      "/kaggle/input/ncaa-tourney-training-data/PatConfData.csv\n"
     ]
    }
   ],
   "source": [
    "# This Python 3 environment comes with many helpful analytics libraries installed\n",
    "# It is defined by the kaggle/python Docker image: https://github.com/kaggle/docker-python\n",
    "# For example, here's several helpful packages to load\n",
    "\n",
    "import numpy as np # linear algebra\n",
    "import pandas as pd # data processing, CSV file I/O (e.g. pd.read_csv)\n",
    "\n",
    "# Input data files are available in the read-only \"../input/\" directory\n",
    "# For example, running this (by clicking run or pressing Shift+Enter) will list all files under the input directory\n",
    "\n",
    "import os\n",
    "for dirname, _, filenames in os.walk('/kaggle/input'):\n",
    "    for filename in filenames:\n",
    "        print(os.path.join(dirname, filename))\n",
    "\n",
    "# You can write up to 20GB to the current directory (/kaggle/working/) that gets preserved as output when you create a version using \"Save & Run All\" \n",
    "# You can also write temporary files to /kaggle/temp/, but they won't be saved outside of the current session"
   ]
  },
  {
   "cell_type": "code",
   "execution_count": 2,
   "id": "c1609272",
   "metadata": {
    "execution": {
     "iopub.execute_input": "2023-03-16T22:20:46.278093Z",
     "iopub.status.busy": "2023-03-16T22:20:46.277752Z",
     "iopub.status.idle": "2023-03-16T22:20:47.546175Z",
     "shell.execute_reply": "2023-03-16T22:20:47.545105Z"
    },
    "papermill": {
     "duration": 1.295889,
     "end_time": "2023-03-16T22:20:47.548837",
     "exception": false,
     "start_time": "2023-03-16T22:20:46.252948",
     "status": "completed"
    },
    "tags": []
   },
   "outputs": [],
   "source": [
    "# import all of the python modules/packages you'll need here\n",
    "import matplotlib.pyplot as plt\n",
    "import statistics\n",
    "from sklearn.metrics import mean_squared_error\n",
    "from sklearn.model_selection import train_test_split\n",
    "from sklearn import linear_model\n",
    "from sklearn import neighbors\n",
    "# ..."
   ]
  },
  {
   "cell_type": "code",
   "execution_count": 3,
   "id": "fa5662f0",
   "metadata": {
    "execution": {
     "iopub.execute_input": "2023-03-16T22:20:47.602094Z",
     "iopub.status.busy": "2023-03-16T22:20:47.600929Z",
     "iopub.status.idle": "2023-03-16T22:20:47.664066Z",
     "shell.execute_reply": "2023-03-16T22:20:47.662825Z"
    },
    "papermill": {
     "duration": 0.090443,
     "end_time": "2023-03-16T22:20:47.666241",
     "exception": false,
     "start_time": "2023-03-16T22:20:47.575798",
     "status": "completed"
    },
    "tags": []
   },
   "outputs": [
    {
     "data": {
      "text/html": [
       "<div>\n",
       "<style scoped>\n",
       "    .dataframe tbody tr th:only-of-type {\n",
       "        vertical-align: middle;\n",
       "    }\n",
       "\n",
       "    .dataframe tbody tr th {\n",
       "        vertical-align: top;\n",
       "    }\n",
       "\n",
       "    .dataframe thead th {\n",
       "        text-align: right;\n",
       "    }\n",
       "</style>\n",
       "<table border=\"1\" class=\"dataframe\">\n",
       "  <thead>\n",
       "    <tr style=\"text-align: right;\">\n",
       "      <th></th>\n",
       "      <th>Team</th>\n",
       "      <th>ADJOE</th>\n",
       "      <th>ADJDE</th>\n",
       "      <th>BARTHAG</th>\n",
       "      <th>W</th>\n",
       "      <th>G</th>\n",
       "      <th>EFG</th>\n",
       "      <th>EFGd</th>\n",
       "      <th>FTR</th>\n",
       "      <th>FTRD</th>\n",
       "      <th>...</th>\n",
       "      <th>2Pper</th>\n",
       "      <th>2PperD</th>\n",
       "      <th>3Pper</th>\n",
       "      <th>3PperD</th>\n",
       "      <th>ADJTEMP</th>\n",
       "      <th>Yr</th>\n",
       "      <th>WAB</th>\n",
       "      <th>BestPlyr</th>\n",
       "      <th>SigWARPlyr</th>\n",
       "      <th>AdvScore</th>\n",
       "    </tr>\n",
       "  </thead>\n",
       "  <tbody>\n",
       "    <tr>\n",
       "      <th>0</th>\n",
       "      <td>Indiana</td>\n",
       "      <td>107.973</td>\n",
       "      <td>90.507</td>\n",
       "      <td>0.8838</td>\n",
       "      <td>20</td>\n",
       "      <td>33</td>\n",
       "      <td>51.3</td>\n",
       "      <td>45.6</td>\n",
       "      <td>33.5</td>\n",
       "      <td>30.6</td>\n",
       "      <td>...</td>\n",
       "      <td>51.4</td>\n",
       "      <td>43.4</td>\n",
       "      <td>33.9</td>\n",
       "      <td>32.6</td>\n",
       "      <td>68.2</td>\n",
       "      <td>2022</td>\n",
       "      <td>0.2242</td>\n",
       "      <td>5.2</td>\n",
       "      <td>3</td>\n",
       "      <td>0</td>\n",
       "    </tr>\n",
       "    <tr>\n",
       "      <th>1</th>\n",
       "      <td>Wright St.</td>\n",
       "      <td>104.209</td>\n",
       "      <td>106.863</td>\n",
       "      <td>0.4282</td>\n",
       "      <td>20</td>\n",
       "      <td>33</td>\n",
       "      <td>52.0</td>\n",
       "      <td>51.2</td>\n",
       "      <td>31.1</td>\n",
       "      <td>26.0</td>\n",
       "      <td>...</td>\n",
       "      <td>53.2</td>\n",
       "      <td>51.6</td>\n",
       "      <td>33.0</td>\n",
       "      <td>33.7</td>\n",
       "      <td>69.6</td>\n",
       "      <td>2022</td>\n",
       "      <td>-8.3947</td>\n",
       "      <td>4.3</td>\n",
       "      <td>3</td>\n",
       "      <td>0</td>\n",
       "    </tr>\n",
       "    <tr>\n",
       "      <th>2</th>\n",
       "      <td>UAB</td>\n",
       "      <td>111.104</td>\n",
       "      <td>98.065</td>\n",
       "      <td>0.8078</td>\n",
       "      <td>25</td>\n",
       "      <td>32</td>\n",
       "      <td>52.9</td>\n",
       "      <td>47.9</td>\n",
       "      <td>29.5</td>\n",
       "      <td>31.5</td>\n",
       "      <td>...</td>\n",
       "      <td>50.6</td>\n",
       "      <td>47.5</td>\n",
       "      <td>38.3</td>\n",
       "      <td>32.4</td>\n",
       "      <td>69.9</td>\n",
       "      <td>2022</td>\n",
       "      <td>-0.1033</td>\n",
       "      <td>4.7</td>\n",
       "      <td>4</td>\n",
       "      <td>0</td>\n",
       "    </tr>\n",
       "    <tr>\n",
       "      <th>3</th>\n",
       "      <td>Villanova</td>\n",
       "      <td>117.142</td>\n",
       "      <td>92.968</td>\n",
       "      <td>0.9345</td>\n",
       "      <td>26</td>\n",
       "      <td>33</td>\n",
       "      <td>52.0</td>\n",
       "      <td>47.5</td>\n",
       "      <td>30.5</td>\n",
       "      <td>25.1</td>\n",
       "      <td>...</td>\n",
       "      <td>50.3</td>\n",
       "      <td>48.2</td>\n",
       "      <td>35.9</td>\n",
       "      <td>31.0</td>\n",
       "      <td>63.6</td>\n",
       "      <td>2022</td>\n",
       "      <td>7.2884</td>\n",
       "      <td>5.7</td>\n",
       "      <td>6</td>\n",
       "      <td>15</td>\n",
       "    </tr>\n",
       "    <tr>\n",
       "      <th>4</th>\n",
       "      <td>Arizona</td>\n",
       "      <td>118.039</td>\n",
       "      <td>92.430</td>\n",
       "      <td>0.9433</td>\n",
       "      <td>31</td>\n",
       "      <td>34</td>\n",
       "      <td>55.9</td>\n",
       "      <td>44.4</td>\n",
       "      <td>35.1</td>\n",
       "      <td>22.8</td>\n",
       "      <td>...</td>\n",
       "      <td>57.5</td>\n",
       "      <td>41.9</td>\n",
       "      <td>35.4</td>\n",
       "      <td>32.7</td>\n",
       "      <td>73.4</td>\n",
       "      <td>2022</td>\n",
       "      <td>8.7612</td>\n",
       "      <td>4.6</td>\n",
       "      <td>6</td>\n",
       "      <td>3</td>\n",
       "    </tr>\n",
       "    <tr>\n",
       "      <th>...</th>\n",
       "      <td>...</td>\n",
       "      <td>...</td>\n",
       "      <td>...</td>\n",
       "      <td>...</td>\n",
       "      <td>...</td>\n",
       "      <td>...</td>\n",
       "      <td>...</td>\n",
       "      <td>...</td>\n",
       "      <td>...</td>\n",
       "      <td>...</td>\n",
       "      <td>...</td>\n",
       "      <td>...</td>\n",
       "      <td>...</td>\n",
       "      <td>...</td>\n",
       "      <td>...</td>\n",
       "      <td>...</td>\n",
       "      <td>...</td>\n",
       "      <td>...</td>\n",
       "      <td>...</td>\n",
       "      <td>...</td>\n",
       "      <td>...</td>\n",
       "    </tr>\n",
       "    <tr>\n",
       "      <th>335</th>\n",
       "      <td>North Carolina Central</td>\n",
       "      <td>101.818</td>\n",
       "      <td>100.759</td>\n",
       "      <td>0.5300</td>\n",
       "      <td>22</td>\n",
       "      <td>30</td>\n",
       "      <td>51.8</td>\n",
       "      <td>45.1</td>\n",
       "      <td>34.8</td>\n",
       "      <td>27.6</td>\n",
       "      <td>...</td>\n",
       "      <td>53.0</td>\n",
       "      <td>45.9</td>\n",
       "      <td>33.3</td>\n",
       "      <td>29.1</td>\n",
       "      <td>67.9</td>\n",
       "      <td>2017</td>\n",
       "      <td>-4.9820</td>\n",
       "      <td>2.9</td>\n",
       "      <td>2</td>\n",
       "      <td>-1</td>\n",
       "    </tr>\n",
       "    <tr>\n",
       "      <th>336</th>\n",
       "      <td>Arkansas</td>\n",
       "      <td>115.356</td>\n",
       "      <td>101.139</td>\n",
       "      <td>0.8194</td>\n",
       "      <td>25</td>\n",
       "      <td>34</td>\n",
       "      <td>51.5</td>\n",
       "      <td>48.2</td>\n",
       "      <td>38.8</td>\n",
       "      <td>39.3</td>\n",
       "      <td>...</td>\n",
       "      <td>50.2</td>\n",
       "      <td>47.2</td>\n",
       "      <td>36.4</td>\n",
       "      <td>33.2</td>\n",
       "      <td>70.9</td>\n",
       "      <td>2017</td>\n",
       "      <td>3.8886</td>\n",
       "      <td>3.7</td>\n",
       "      <td>5</td>\n",
       "      <td>1</td>\n",
       "    </tr>\n",
       "    <tr>\n",
       "      <th>337</th>\n",
       "      <td>Dayton</td>\n",
       "      <td>110.492</td>\n",
       "      <td>96.542</td>\n",
       "      <td>0.8252</td>\n",
       "      <td>23</td>\n",
       "      <td>30</td>\n",
       "      <td>54.2</td>\n",
       "      <td>47.7</td>\n",
       "      <td>43.7</td>\n",
       "      <td>34.6</td>\n",
       "      <td>...</td>\n",
       "      <td>51.8</td>\n",
       "      <td>47.2</td>\n",
       "      <td>38.7</td>\n",
       "      <td>32.4</td>\n",
       "      <td>69.8</td>\n",
       "      <td>2017</td>\n",
       "      <td>1.5564</td>\n",
       "      <td>3.6</td>\n",
       "      <td>5</td>\n",
       "      <td>0</td>\n",
       "    </tr>\n",
       "    <tr>\n",
       "      <th>338</th>\n",
       "      <td>USC</td>\n",
       "      <td>111.201</td>\n",
       "      <td>99.606</td>\n",
       "      <td>0.7801</td>\n",
       "      <td>24</td>\n",
       "      <td>33</td>\n",
       "      <td>51.9</td>\n",
       "      <td>49.7</td>\n",
       "      <td>37.2</td>\n",
       "      <td>23.9</td>\n",
       "      <td>...</td>\n",
       "      <td>50.5</td>\n",
       "      <td>46.8</td>\n",
       "      <td>36.3</td>\n",
       "      <td>36.5</td>\n",
       "      <td>70.5</td>\n",
       "      <td>2017</td>\n",
       "      <td>1.3601</td>\n",
       "      <td>4.0</td>\n",
       "      <td>4</td>\n",
       "      <td>1</td>\n",
       "    </tr>\n",
       "    <tr>\n",
       "      <th>339</th>\n",
       "      <td>Wichita St.</td>\n",
       "      <td>116.905</td>\n",
       "      <td>92.842</td>\n",
       "      <td>0.9340</td>\n",
       "      <td>29</td>\n",
       "      <td>33</td>\n",
       "      <td>54.7</td>\n",
       "      <td>43.9</td>\n",
       "      <td>40.9</td>\n",
       "      <td>35.2</td>\n",
       "      <td>...</td>\n",
       "      <td>51.0</td>\n",
       "      <td>42.3</td>\n",
       "      <td>40.7</td>\n",
       "      <td>31.0</td>\n",
       "      <td>70.5</td>\n",
       "      <td>2017</td>\n",
       "      <td>4.1891</td>\n",
       "      <td>3.9</td>\n",
       "      <td>5</td>\n",
       "      <td>1</td>\n",
       "    </tr>\n",
       "  </tbody>\n",
       "</table>\n",
       "<p>340 rows × 24 columns</p>\n",
       "</div>"
      ],
      "text/plain": [
       "                       Team    ADJOE    ADJDE  BARTHAG   W   G   EFG  EFGd  \\\n",
       "0                   Indiana  107.973   90.507   0.8838  20  33  51.3  45.6   \n",
       "1                Wright St.  104.209  106.863   0.4282  20  33  52.0  51.2   \n",
       "2                       UAB  111.104   98.065   0.8078  25  32  52.9  47.9   \n",
       "3                 Villanova  117.142   92.968   0.9345  26  33  52.0  47.5   \n",
       "4                   Arizona  118.039   92.430   0.9433  31  34  55.9  44.4   \n",
       "..                      ...      ...      ...      ...  ..  ..   ...   ...   \n",
       "335  North Carolina Central  101.818  100.759   0.5300  22  30  51.8  45.1   \n",
       "336                Arkansas  115.356  101.139   0.8194  25  34  51.5  48.2   \n",
       "337                  Dayton  110.492   96.542   0.8252  23  30  54.2  47.7   \n",
       "338                     USC  111.201   99.606   0.7801  24  33  51.9  49.7   \n",
       "339             Wichita St.  116.905   92.842   0.9340  29  33  54.7  43.9   \n",
       "\n",
       "      FTR  FTRD  ...  2Pper  2PperD  3Pper  3PperD  ADJTEMP    Yr     WAB  \\\n",
       "0    33.5  30.6  ...   51.4    43.4   33.9    32.6     68.2  2022  0.2242   \n",
       "1    31.1  26.0  ...   53.2    51.6   33.0    33.7     69.6  2022 -8.3947   \n",
       "2    29.5  31.5  ...   50.6    47.5   38.3    32.4     69.9  2022 -0.1033   \n",
       "3    30.5  25.1  ...   50.3    48.2   35.9    31.0     63.6  2022  7.2884   \n",
       "4    35.1  22.8  ...   57.5    41.9   35.4    32.7     73.4  2022  8.7612   \n",
       "..    ...   ...  ...    ...     ...    ...     ...      ...   ...     ...   \n",
       "335  34.8  27.6  ...   53.0    45.9   33.3    29.1     67.9  2017 -4.9820   \n",
       "336  38.8  39.3  ...   50.2    47.2   36.4    33.2     70.9  2017  3.8886   \n",
       "337  43.7  34.6  ...   51.8    47.2   38.7    32.4     69.8  2017  1.5564   \n",
       "338  37.2  23.9  ...   50.5    46.8   36.3    36.5     70.5  2017  1.3601   \n",
       "339  40.9  35.2  ...   51.0    42.3   40.7    31.0     70.5  2017  4.1891   \n",
       "\n",
       "     BestPlyr  SigWARPlyr  AdvScore  \n",
       "0         5.2           3         0  \n",
       "1         4.3           3         0  \n",
       "2         4.7           4         0  \n",
       "3         5.7           6        15  \n",
       "4         4.6           6         3  \n",
       "..        ...         ...       ...  \n",
       "335       2.9           2        -1  \n",
       "336       3.7           5         1  \n",
       "337       3.6           5         0  \n",
       "338       4.0           4         1  \n",
       "339       3.9           5         1  \n",
       "\n",
       "[340 rows x 24 columns]"
      ]
     },
     "execution_count": 3,
     "metadata": {},
     "output_type": "execute_result"
    }
   ],
   "source": [
    "df = pd.read_csv('../input/ncaa-tourney-training-data/TourneyPredictorTrainingData.csv')\n",
    "df"
   ]
  },
  {
   "cell_type": "code",
   "execution_count": 4,
   "id": "f6a6fe93",
   "metadata": {
    "execution": {
     "iopub.execute_input": "2023-03-16T22:20:47.717255Z",
     "iopub.status.busy": "2023-03-16T22:20:47.716212Z",
     "iopub.status.idle": "2023-03-16T22:20:47.748397Z",
     "shell.execute_reply": "2023-03-16T22:20:47.747222Z"
    },
    "papermill": {
     "duration": 0.059648,
     "end_time": "2023-03-16T22:20:47.750541",
     "exception": false,
     "start_time": "2023-03-16T22:20:47.690893",
     "status": "completed"
    },
    "tags": []
   },
   "outputs": [
    {
     "data": {
      "text/html": [
       "<div>\n",
       "<style scoped>\n",
       "    .dataframe tbody tr th:only-of-type {\n",
       "        vertical-align: middle;\n",
       "    }\n",
       "\n",
       "    .dataframe tbody tr th {\n",
       "        vertical-align: top;\n",
       "    }\n",
       "\n",
       "    .dataframe thead th {\n",
       "        text-align: right;\n",
       "    }\n",
       "</style>\n",
       "<table border=\"1\" class=\"dataframe\">\n",
       "  <thead>\n",
       "    <tr style=\"text-align: right;\">\n",
       "      <th></th>\n",
       "      <th>ADJOE</th>\n",
       "      <th>ADJDE</th>\n",
       "      <th>BARTHAG</th>\n",
       "      <th>W</th>\n",
       "      <th>G</th>\n",
       "      <th>EFG</th>\n",
       "      <th>EFGd</th>\n",
       "      <th>FTR</th>\n",
       "      <th>FTRD</th>\n",
       "      <th>TOR</th>\n",
       "      <th>...</th>\n",
       "      <th>DRB</th>\n",
       "      <th>2Pper</th>\n",
       "      <th>2PperD</th>\n",
       "      <th>3Pper</th>\n",
       "      <th>3PperD</th>\n",
       "      <th>ADJTEMP</th>\n",
       "      <th>WAB</th>\n",
       "      <th>BestPlyr</th>\n",
       "      <th>SigWARPlyr</th>\n",
       "      <th>AdvScore</th>\n",
       "    </tr>\n",
       "  </thead>\n",
       "  <tbody>\n",
       "    <tr>\n",
       "      <th>0</th>\n",
       "      <td>107.973</td>\n",
       "      <td>90.507</td>\n",
       "      <td>0.8838</td>\n",
       "      <td>20</td>\n",
       "      <td>33</td>\n",
       "      <td>51.3</td>\n",
       "      <td>45.6</td>\n",
       "      <td>33.5</td>\n",
       "      <td>30.6</td>\n",
       "      <td>17.3</td>\n",
       "      <td>...</td>\n",
       "      <td>25.0</td>\n",
       "      <td>51.4</td>\n",
       "      <td>43.4</td>\n",
       "      <td>33.9</td>\n",
       "      <td>32.6</td>\n",
       "      <td>68.2</td>\n",
       "      <td>0.2242</td>\n",
       "      <td>5.2</td>\n",
       "      <td>3</td>\n",
       "      <td>0</td>\n",
       "    </tr>\n",
       "    <tr>\n",
       "      <th>1</th>\n",
       "      <td>104.209</td>\n",
       "      <td>106.863</td>\n",
       "      <td>0.4282</td>\n",
       "      <td>20</td>\n",
       "      <td>33</td>\n",
       "      <td>52.0</td>\n",
       "      <td>51.2</td>\n",
       "      <td>31.1</td>\n",
       "      <td>26.0</td>\n",
       "      <td>17.9</td>\n",
       "      <td>...</td>\n",
       "      <td>30.0</td>\n",
       "      <td>53.2</td>\n",
       "      <td>51.6</td>\n",
       "      <td>33.0</td>\n",
       "      <td>33.7</td>\n",
       "      <td>69.6</td>\n",
       "      <td>-8.3947</td>\n",
       "      <td>4.3</td>\n",
       "      <td>3</td>\n",
       "      <td>0</td>\n",
       "    </tr>\n",
       "    <tr>\n",
       "      <th>2</th>\n",
       "      <td>111.104</td>\n",
       "      <td>98.065</td>\n",
       "      <td>0.8078</td>\n",
       "      <td>25</td>\n",
       "      <td>32</td>\n",
       "      <td>52.9</td>\n",
       "      <td>47.9</td>\n",
       "      <td>29.5</td>\n",
       "      <td>31.5</td>\n",
       "      <td>16.3</td>\n",
       "      <td>...</td>\n",
       "      <td>27.4</td>\n",
       "      <td>50.6</td>\n",
       "      <td>47.5</td>\n",
       "      <td>38.3</td>\n",
       "      <td>32.4</td>\n",
       "      <td>69.9</td>\n",
       "      <td>-0.1033</td>\n",
       "      <td>4.7</td>\n",
       "      <td>4</td>\n",
       "      <td>0</td>\n",
       "    </tr>\n",
       "    <tr>\n",
       "      <th>3</th>\n",
       "      <td>117.142</td>\n",
       "      <td>92.968</td>\n",
       "      <td>0.9345</td>\n",
       "      <td>26</td>\n",
       "      <td>33</td>\n",
       "      <td>52.0</td>\n",
       "      <td>47.5</td>\n",
       "      <td>30.5</td>\n",
       "      <td>25.1</td>\n",
       "      <td>15.5</td>\n",
       "      <td>...</td>\n",
       "      <td>28.0</td>\n",
       "      <td>50.3</td>\n",
       "      <td>48.2</td>\n",
       "      <td>35.9</td>\n",
       "      <td>31.0</td>\n",
       "      <td>63.6</td>\n",
       "      <td>7.2884</td>\n",
       "      <td>5.7</td>\n",
       "      <td>6</td>\n",
       "      <td>15</td>\n",
       "    </tr>\n",
       "    <tr>\n",
       "      <th>4</th>\n",
       "      <td>118.039</td>\n",
       "      <td>92.430</td>\n",
       "      <td>0.9433</td>\n",
       "      <td>31</td>\n",
       "      <td>34</td>\n",
       "      <td>55.9</td>\n",
       "      <td>44.4</td>\n",
       "      <td>35.1</td>\n",
       "      <td>22.8</td>\n",
       "      <td>18.0</td>\n",
       "      <td>...</td>\n",
       "      <td>28.3</td>\n",
       "      <td>57.5</td>\n",
       "      <td>41.9</td>\n",
       "      <td>35.4</td>\n",
       "      <td>32.7</td>\n",
       "      <td>73.4</td>\n",
       "      <td>8.7612</td>\n",
       "      <td>4.6</td>\n",
       "      <td>6</td>\n",
       "      <td>3</td>\n",
       "    </tr>\n",
       "    <tr>\n",
       "      <th>...</th>\n",
       "      <td>...</td>\n",
       "      <td>...</td>\n",
       "      <td>...</td>\n",
       "      <td>...</td>\n",
       "      <td>...</td>\n",
       "      <td>...</td>\n",
       "      <td>...</td>\n",
       "      <td>...</td>\n",
       "      <td>...</td>\n",
       "      <td>...</td>\n",
       "      <td>...</td>\n",
       "      <td>...</td>\n",
       "      <td>...</td>\n",
       "      <td>...</td>\n",
       "      <td>...</td>\n",
       "      <td>...</td>\n",
       "      <td>...</td>\n",
       "      <td>...</td>\n",
       "      <td>...</td>\n",
       "      <td>...</td>\n",
       "      <td>...</td>\n",
       "    </tr>\n",
       "    <tr>\n",
       "      <th>335</th>\n",
       "      <td>101.818</td>\n",
       "      <td>100.759</td>\n",
       "      <td>0.5300</td>\n",
       "      <td>22</td>\n",
       "      <td>30</td>\n",
       "      <td>51.8</td>\n",
       "      <td>45.1</td>\n",
       "      <td>34.8</td>\n",
       "      <td>27.6</td>\n",
       "      <td>17.9</td>\n",
       "      <td>...</td>\n",
       "      <td>31.4</td>\n",
       "      <td>53.0</td>\n",
       "      <td>45.9</td>\n",
       "      <td>33.3</td>\n",
       "      <td>29.1</td>\n",
       "      <td>67.9</td>\n",
       "      <td>-4.9820</td>\n",
       "      <td>2.9</td>\n",
       "      <td>2</td>\n",
       "      <td>-1</td>\n",
       "    </tr>\n",
       "    <tr>\n",
       "      <th>336</th>\n",
       "      <td>115.356</td>\n",
       "      <td>101.139</td>\n",
       "      <td>0.8194</td>\n",
       "      <td>25</td>\n",
       "      <td>34</td>\n",
       "      <td>51.5</td>\n",
       "      <td>48.2</td>\n",
       "      <td>38.8</td>\n",
       "      <td>39.3</td>\n",
       "      <td>16.4</td>\n",
       "      <td>...</td>\n",
       "      <td>33.5</td>\n",
       "      <td>50.2</td>\n",
       "      <td>47.2</td>\n",
       "      <td>36.4</td>\n",
       "      <td>33.2</td>\n",
       "      <td>70.9</td>\n",
       "      <td>3.8886</td>\n",
       "      <td>3.7</td>\n",
       "      <td>5</td>\n",
       "      <td>1</td>\n",
       "    </tr>\n",
       "    <tr>\n",
       "      <th>337</th>\n",
       "      <td>110.492</td>\n",
       "      <td>96.542</td>\n",
       "      <td>0.8252</td>\n",
       "      <td>23</td>\n",
       "      <td>30</td>\n",
       "      <td>54.2</td>\n",
       "      <td>47.7</td>\n",
       "      <td>43.7</td>\n",
       "      <td>34.6</td>\n",
       "      <td>17.1</td>\n",
       "      <td>...</td>\n",
       "      <td>27.0</td>\n",
       "      <td>51.8</td>\n",
       "      <td>47.2</td>\n",
       "      <td>38.7</td>\n",
       "      <td>32.4</td>\n",
       "      <td>69.8</td>\n",
       "      <td>1.5564</td>\n",
       "      <td>3.6</td>\n",
       "      <td>5</td>\n",
       "      <td>0</td>\n",
       "    </tr>\n",
       "    <tr>\n",
       "      <th>338</th>\n",
       "      <td>111.201</td>\n",
       "      <td>99.606</td>\n",
       "      <td>0.7801</td>\n",
       "      <td>24</td>\n",
       "      <td>33</td>\n",
       "      <td>51.9</td>\n",
       "      <td>49.7</td>\n",
       "      <td>37.2</td>\n",
       "      <td>23.9</td>\n",
       "      <td>15.7</td>\n",
       "      <td>...</td>\n",
       "      <td>31.2</td>\n",
       "      <td>50.5</td>\n",
       "      <td>46.8</td>\n",
       "      <td>36.3</td>\n",
       "      <td>36.5</td>\n",
       "      <td>70.5</td>\n",
       "      <td>1.3601</td>\n",
       "      <td>4.0</td>\n",
       "      <td>4</td>\n",
       "      <td>1</td>\n",
       "    </tr>\n",
       "    <tr>\n",
       "      <th>339</th>\n",
       "      <td>116.905</td>\n",
       "      <td>92.842</td>\n",
       "      <td>0.9340</td>\n",
       "      <td>29</td>\n",
       "      <td>33</td>\n",
       "      <td>54.7</td>\n",
       "      <td>43.9</td>\n",
       "      <td>40.9</td>\n",
       "      <td>35.2</td>\n",
       "      <td>15.9</td>\n",
       "      <td>...</td>\n",
       "      <td>24.2</td>\n",
       "      <td>51.0</td>\n",
       "      <td>42.3</td>\n",
       "      <td>40.7</td>\n",
       "      <td>31.0</td>\n",
       "      <td>70.5</td>\n",
       "      <td>4.1891</td>\n",
       "      <td>3.9</td>\n",
       "      <td>5</td>\n",
       "      <td>1</td>\n",
       "    </tr>\n",
       "  </tbody>\n",
       "</table>\n",
       "<p>340 rows × 22 columns</p>\n",
       "</div>"
      ],
      "text/plain": [
       "       ADJOE    ADJDE  BARTHAG   W   G   EFG  EFGd   FTR  FTRD   TOR  ...  \\\n",
       "0    107.973   90.507   0.8838  20  33  51.3  45.6  33.5  30.6  17.3  ...   \n",
       "1    104.209  106.863   0.4282  20  33  52.0  51.2  31.1  26.0  17.9  ...   \n",
       "2    111.104   98.065   0.8078  25  32  52.9  47.9  29.5  31.5  16.3  ...   \n",
       "3    117.142   92.968   0.9345  26  33  52.0  47.5  30.5  25.1  15.5  ...   \n",
       "4    118.039   92.430   0.9433  31  34  55.9  44.4  35.1  22.8  18.0  ...   \n",
       "..       ...      ...      ...  ..  ..   ...   ...   ...   ...   ...  ...   \n",
       "335  101.818  100.759   0.5300  22  30  51.8  45.1  34.8  27.6  17.9  ...   \n",
       "336  115.356  101.139   0.8194  25  34  51.5  48.2  38.8  39.3  16.4  ...   \n",
       "337  110.492   96.542   0.8252  23  30  54.2  47.7  43.7  34.6  17.1  ...   \n",
       "338  111.201   99.606   0.7801  24  33  51.9  49.7  37.2  23.9  15.7  ...   \n",
       "339  116.905   92.842   0.9340  29  33  54.7  43.9  40.9  35.2  15.9  ...   \n",
       "\n",
       "      DRB  2Pper  2PperD  3Pper  3PperD  ADJTEMP     WAB  BestPlyr  \\\n",
       "0    25.0   51.4    43.4   33.9    32.6     68.2  0.2242       5.2   \n",
       "1    30.0   53.2    51.6   33.0    33.7     69.6 -8.3947       4.3   \n",
       "2    27.4   50.6    47.5   38.3    32.4     69.9 -0.1033       4.7   \n",
       "3    28.0   50.3    48.2   35.9    31.0     63.6  7.2884       5.7   \n",
       "4    28.3   57.5    41.9   35.4    32.7     73.4  8.7612       4.6   \n",
       "..    ...    ...     ...    ...     ...      ...     ...       ...   \n",
       "335  31.4   53.0    45.9   33.3    29.1     67.9 -4.9820       2.9   \n",
       "336  33.5   50.2    47.2   36.4    33.2     70.9  3.8886       3.7   \n",
       "337  27.0   51.8    47.2   38.7    32.4     69.8  1.5564       3.6   \n",
       "338  31.2   50.5    46.8   36.3    36.5     70.5  1.3601       4.0   \n",
       "339  24.2   51.0    42.3   40.7    31.0     70.5  4.1891       3.9   \n",
       "\n",
       "     SigWARPlyr  AdvScore  \n",
       "0             3         0  \n",
       "1             3         0  \n",
       "2             4         0  \n",
       "3             6        15  \n",
       "4             6         3  \n",
       "..          ...       ...  \n",
       "335           2        -1  \n",
       "336           5         1  \n",
       "337           5         0  \n",
       "338           4         1  \n",
       "339           5         1  \n",
       "\n",
       "[340 rows x 22 columns]"
      ]
     },
     "execution_count": 4,
     "metadata": {},
     "output_type": "execute_result"
    }
   ],
   "source": [
    "df = df.drop(columns = ['Team', 'Yr']);\n",
    "df"
   ]
  },
  {
   "cell_type": "code",
   "execution_count": 5,
   "id": "f30ae192",
   "metadata": {
    "execution": {
     "iopub.execute_input": "2023-03-16T22:20:47.802225Z",
     "iopub.status.busy": "2023-03-16T22:20:47.800919Z",
     "iopub.status.idle": "2023-03-16T22:20:47.810199Z",
     "shell.execute_reply": "2023-03-16T22:20:47.808889Z"
    },
    "papermill": {
     "duration": 0.038253,
     "end_time": "2023-03-16T22:20:47.813560",
     "exception": false,
     "start_time": "2023-03-16T22:20:47.775307",
     "status": "completed"
    },
    "tags": []
   },
   "outputs": [
    {
     "name": "stdout",
     "output_type": "stream",
     "text": [
      "[[ 1.07973e+02  9.05070e+01  8.83800e-01 ...  2.24200e-01  5.20000e+00\n",
      "   3.00000e+00]\n",
      " [ 1.04209e+02  1.06863e+02  4.28200e-01 ... -8.39470e+00  4.30000e+00\n",
      "   3.00000e+00]\n",
      " [ 1.11104e+02  9.80650e+01  8.07800e-01 ... -1.03300e-01  4.70000e+00\n",
      "   4.00000e+00]\n",
      " ...\n",
      " [ 1.10492e+02  9.65420e+01  8.25200e-01 ...  1.55640e+00  3.60000e+00\n",
      "   5.00000e+00]\n",
      " [ 1.11201e+02  9.96060e+01  7.80100e-01 ...  1.36010e+00  4.00000e+00\n",
      "   4.00000e+00]\n",
      " [ 1.16905e+02  9.28420e+01  9.34000e-01 ...  4.18910e+00  3.90000e+00\n",
      "   5.00000e+00]]\n",
      "0       0\n",
      "1       0\n",
      "2       0\n",
      "3      15\n",
      "4       3\n",
      "       ..\n",
      "335    -1\n",
      "336     1\n",
      "337     0\n",
      "338     1\n",
      "339     1\n",
      "Name: AdvScore, Length: 340, dtype: int64\n"
     ]
    }
   ],
   "source": [
    "x = df.iloc[:,:-1].values\n",
    "y = df.iloc[:,-1]\n",
    "print(x)\n",
    "print(y)"
   ]
  },
  {
   "cell_type": "code",
   "execution_count": 6,
   "id": "e7df5bfc",
   "metadata": {
    "execution": {
     "iopub.execute_input": "2023-03-16T22:20:47.868054Z",
     "iopub.status.busy": "2023-03-16T22:20:47.867476Z",
     "iopub.status.idle": "2023-03-16T22:20:47.892838Z",
     "shell.execute_reply": "2023-03-16T22:20:47.891685Z"
    },
    "papermill": {
     "duration": 0.055618,
     "end_time": "2023-03-16T22:20:47.895387",
     "exception": false,
     "start_time": "2023-03-16T22:20:47.839769",
     "status": "completed"
    },
    "tags": []
   },
   "outputs": [
    {
     "data": {
      "text/plain": [
       "array([ 0.23647511, -0.09262489, -0.00929986,  0.115362  , -0.05230843,\n",
       "        0.09178218, -0.04771636, -0.06037631, -0.03239277,  0.0025837 ,\n",
       "        0.11743912,  0.10707993,  0.0393229 ,  0.05448615,  0.03190894,\n",
       "        0.0833718 , -0.10485273, -0.00044442,  0.16603072,  0.03704898,\n",
       "       -0.01862687])"
      ]
     },
     "execution_count": 6,
     "metadata": {},
     "output_type": "execute_result"
    }
   ],
   "source": [
    "bay = linear_model.BayesianRidge()\n",
    "bay.fit(x,y)\n",
    "bay.coef_"
   ]
  },
  {
   "cell_type": "code",
   "execution_count": 7,
   "id": "504a1b0e",
   "metadata": {
    "execution": {
     "iopub.execute_input": "2023-03-16T22:20:47.946899Z",
     "iopub.status.busy": "2023-03-16T22:20:47.946541Z",
     "iopub.status.idle": "2023-03-16T22:20:47.968774Z",
     "shell.execute_reply": "2023-03-16T22:20:47.967534Z"
    },
    "papermill": {
     "duration": 0.050441,
     "end_time": "2023-03-16T22:20:47.970825",
     "exception": false,
     "start_time": "2023-03-16T22:20:47.920384",
     "status": "completed"
    },
    "tags": []
   },
   "outputs": [
    {
     "name": "stderr",
     "output_type": "stream",
     "text": [
      "/opt/conda/lib/python3.7/site-packages/sklearn/linear_model/_base.py:138: FutureWarning: The default of 'normalize' will be set to False in version 1.2 and deprecated in version 1.4.\n",
      "If you wish to scale the data, use Pipeline with a StandardScaler in a preprocessing stage. To reproduce the previous behavior:\n",
      "\n",
      "from sklearn.pipeline import make_pipeline\n",
      "\n",
      "model = make_pipeline(StandardScaler(with_mean=False), LassoLars())\n",
      "\n",
      "If you wish to pass a sample_weight parameter, you need to pass it as a fit parameter to each step of the pipeline as follows:\n",
      "\n",
      "kwargs = {s[0] + '__sample_weight': sample_weight for s in model.steps}\n",
      "model.fit(X, y, **kwargs)\n",
      "\n",
      "Set parameter alpha to: original_alpha * np.sqrt(n_samples). \n",
      "  FutureWarning,\n"
     ]
    },
    {
     "data": {
      "text/plain": [
       "array([ 1.47774726e+00, -1.42595844e+00, -6.52902676e+01,  2.36928141e-01,\n",
       "       -1.73008390e-01,  4.32350865e-01, -2.56251438e+00, -1.18903680e-01,\n",
       "        2.17448928e-02,  3.13936406e-01,  1.41302511e-01, -5.02859091e-02,\n",
       "       -6.07558459e-02, -3.57166338e-01,  1.95092101e+00, -1.49614999e-01,\n",
       "        1.32378054e+00,  2.21273032e-03,  1.92849122e-01,  1.15214900e-01,\n",
       "       -4.68028683e-01])"
      ]
     },
     "execution_count": 7,
     "metadata": {},
     "output_type": "execute_result"
    }
   ],
   "source": [
    "lars = linear_model.LassoLars(alpha=0.0001)\n",
    "lars.fit(x,y)\n",
    "lars.coef_"
   ]
  },
  {
   "cell_type": "code",
   "execution_count": 8,
   "id": "eb0385ad",
   "metadata": {
    "execution": {
     "iopub.execute_input": "2023-03-16T22:20:48.022616Z",
     "iopub.status.busy": "2023-03-16T22:20:48.022250Z",
     "iopub.status.idle": "2023-03-16T22:20:48.033207Z",
     "shell.execute_reply": "2023-03-16T22:20:48.032299Z"
    },
    "papermill": {
     "duration": 0.040018,
     "end_time": "2023-03-16T22:20:48.035726",
     "exception": false,
     "start_time": "2023-03-16T22:20:47.995708",
     "status": "completed"
    },
    "tags": []
   },
   "outputs": [
    {
     "data": {
      "text/plain": [
       "KNeighborsRegressor(n_neighbors=20, weights='distance')"
      ]
     },
     "execution_count": 8,
     "metadata": {},
     "output_type": "execute_result"
    }
   ],
   "source": [
    "n_neighbors = 20\n",
    "\n",
    "for i, weights in enumerate([\"uniform\", \"distance\"]):\n",
    "    knn = neighbors.KNeighborsRegressor(n_neighbors, weights=weights)\n",
    "knn.fit(x,y)"
   ]
  },
  {
   "cell_type": "code",
   "execution_count": 9,
   "id": "5283da1d",
   "metadata": {
    "execution": {
     "iopub.execute_input": "2023-03-16T22:20:48.089071Z",
     "iopub.status.busy": "2023-03-16T22:20:48.088689Z",
     "iopub.status.idle": "2023-03-16T22:20:48.095749Z",
     "shell.execute_reply": "2023-03-16T22:20:48.095080Z"
    },
    "papermill": {
     "duration": 0.036211,
     "end_time": "2023-03-16T22:20:48.097528",
     "exception": false,
     "start_time": "2023-03-16T22:20:48.061317",
     "status": "completed"
    },
    "tags": []
   },
   "outputs": [
    {
     "data": {
      "text/plain": [
       "array([ 1.49032086e+00, -1.43567116e+00, -6.55608314e+01,  2.49122488e-01,\n",
       "       -1.80069028e-01,  6.96178668e-01, -2.96490128e+00, -1.19662507e-01,\n",
       "        2.35663005e-02,  3.24196594e-01,  1.39743947e-01, -5.44388112e-02,\n",
       "       -6.52288172e-02, -5.32185938e-01,  2.20842959e+00, -3.06550396e-01,\n",
       "        1.55098071e+00,  5.40730653e-03,  1.83244636e-01,  1.15335385e-01,\n",
       "       -4.71641661e-01])"
      ]
     },
     "execution_count": 9,
     "metadata": {},
     "output_type": "execute_result"
    }
   ],
   "source": [
    "reg = linear_model.LinearRegression()\n",
    "reg.fit(x,y)\n",
    "reg.coef_"
   ]
  },
  {
   "cell_type": "markdown",
   "id": "4c70ab0d",
   "metadata": {
    "papermill": {
     "duration": 0.025361,
     "end_time": "2023-03-16T22:20:48.148464",
     "exception": false,
     "start_time": "2023-03-16T22:20:48.123103",
     "status": "completed"
    },
    "tags": []
   },
   "source": [
    "# ASUN 2023 Predictions"
   ]
  },
  {
   "cell_type": "code",
   "execution_count": 10,
   "id": "715ab86d",
   "metadata": {
    "execution": {
     "iopub.execute_input": "2023-03-16T22:20:48.200739Z",
     "iopub.status.busy": "2023-03-16T22:20:48.200404Z",
     "iopub.status.idle": "2023-03-16T22:20:48.211311Z",
     "shell.execute_reply": "2023-03-16T22:20:48.210180Z"
    },
    "papermill": {
     "duration": 0.040203,
     "end_time": "2023-03-16T22:20:48.213844",
     "exception": false,
     "start_time": "2023-03-16T22:20:48.173641",
     "status": "completed"
    },
    "tags": []
   },
   "outputs": [
    {
     "data": {
      "text/plain": [
       "0         North Florida\n",
       "1                Queens\n",
       "2               Liberty\n",
       "3            Bellarmine\n",
       "4         North Alabama\n",
       "5      Eastern Kentucky\n",
       "6               Stetson\n",
       "7          Kennesaw St.\n",
       "8    Florida Gulf Coast\n",
       "9              Lipscomb\n",
       "Name: Team, dtype: object"
      ]
     },
     "execution_count": 10,
     "metadata": {},
     "output_type": "execute_result"
    }
   ],
   "source": [
    "asun = pd.read_csv('../input/ncaa-tourney-training-data/ASUNConfData.csv')\n",
    "asunTeams = asun.iloc[:,0]\n",
    "asunTeams"
   ]
  },
  {
   "cell_type": "code",
   "execution_count": 11,
   "id": "c33d47a4",
   "metadata": {
    "execution": {
     "iopub.execute_input": "2023-03-16T22:20:48.266500Z",
     "iopub.status.busy": "2023-03-16T22:20:48.265345Z",
     "iopub.status.idle": "2023-03-16T22:20:48.273743Z",
     "shell.execute_reply": "2023-03-16T22:20:48.272557Z"
    },
    "papermill": {
     "duration": 0.036921,
     "end_time": "2023-03-16T22:20:48.276290",
     "exception": false,
     "start_time": "2023-03-16T22:20:48.239369",
     "status": "completed"
    },
    "tags": []
   },
   "outputs": [],
   "source": [
    "asun = asun.drop(columns = ['Team', 'Yr']);"
   ]
  },
  {
   "cell_type": "code",
   "execution_count": 12,
   "id": "7c28315a",
   "metadata": {
    "execution": {
     "iopub.execute_input": "2023-03-16T22:20:48.329842Z",
     "iopub.status.busy": "2023-03-16T22:20:48.328628Z",
     "iopub.status.idle": "2023-03-16T22:20:48.353171Z",
     "shell.execute_reply": "2023-03-16T22:20:48.351792Z"
    },
    "papermill": {
     "duration": 0.053354,
     "end_time": "2023-03-16T22:20:48.355157",
     "exception": false,
     "start_time": "2023-03-16T22:20:48.301803",
     "status": "completed"
    },
    "tags": []
   },
   "outputs": [
    {
     "name": "stderr",
     "output_type": "stream",
     "text": [
      "/opt/conda/lib/python3.7/site-packages/sklearn/base.py:444: UserWarning: X has feature names, but BayesianRidge was fitted without feature names\n",
      "  f\"X has feature names, but {self.__class__.__name__} was fitted without\"\n",
      "/opt/conda/lib/python3.7/site-packages/sklearn/base.py:444: UserWarning: X has feature names, but LassoLars was fitted without feature names\n",
      "  f\"X has feature names, but {self.__class__.__name__} was fitted without\"\n",
      "/opt/conda/lib/python3.7/site-packages/sklearn/base.py:444: UserWarning: X has feature names, but KNeighborsRegressor was fitted without feature names\n",
      "  f\"X has feature names, but {self.__class__.__name__} was fitted without\"\n",
      "/opt/conda/lib/python3.7/site-packages/sklearn/base.py:444: UserWarning: X has feature names, but LinearRegression was fitted without feature names\n",
      "  f\"X has feature names, but {self.__class__.__name__} was fitted without\"\n"
     ]
    },
    {
     "data": {
      "text/html": [
       "<div>\n",
       "<style scoped>\n",
       "    .dataframe tbody tr th:only-of-type {\n",
       "        vertical-align: middle;\n",
       "    }\n",
       "\n",
       "    .dataframe tbody tr th {\n",
       "        vertical-align: top;\n",
       "    }\n",
       "\n",
       "    .dataframe thead th {\n",
       "        text-align: right;\n",
       "    }\n",
       "</style>\n",
       "<table border=\"1\" class=\"dataframe\">\n",
       "  <thead>\n",
       "    <tr style=\"text-align: right;\">\n",
       "      <th></th>\n",
       "      <th>teams</th>\n",
       "      <th>Bay</th>\n",
       "      <th>Lars</th>\n",
       "      <th>KNN</th>\n",
       "      <th>Linear</th>\n",
       "    </tr>\n",
       "  </thead>\n",
       "  <tbody>\n",
       "    <tr>\n",
       "      <th>0</th>\n",
       "      <td>North Florida</td>\n",
       "      <td>-2.656322</td>\n",
       "      <td>0.667938</td>\n",
       "      <td>0.117053</td>\n",
       "      <td>0.729825</td>\n",
       "    </tr>\n",
       "    <tr>\n",
       "      <th>1</th>\n",
       "      <td>Queens</td>\n",
       "      <td>-2.820564</td>\n",
       "      <td>0.475955</td>\n",
       "      <td>-0.049554</td>\n",
       "      <td>0.549241</td>\n",
       "    </tr>\n",
       "    <tr>\n",
       "      <th>2</th>\n",
       "      <td>Liberty</td>\n",
       "      <td>2.553954</td>\n",
       "      <td>0.838322</td>\n",
       "      <td>0.563722</td>\n",
       "      <td>0.762226</td>\n",
       "    </tr>\n",
       "    <tr>\n",
       "      <th>3</th>\n",
       "      <td>Bellarmine</td>\n",
       "      <td>-4.900043</td>\n",
       "      <td>2.579029</td>\n",
       "      <td>0.063998</td>\n",
       "      <td>2.568725</td>\n",
       "    </tr>\n",
       "    <tr>\n",
       "      <th>4</th>\n",
       "      <td>North Alabama</td>\n",
       "      <td>-3.771071</td>\n",
       "      <td>-0.077060</td>\n",
       "      <td>0.180634</td>\n",
       "      <td>-0.147748</td>\n",
       "    </tr>\n",
       "    <tr>\n",
       "      <th>5</th>\n",
       "      <td>Eastern Kentucky</td>\n",
       "      <td>-1.643006</td>\n",
       "      <td>-0.841077</td>\n",
       "      <td>-0.022636</td>\n",
       "      <td>-0.862436</td>\n",
       "    </tr>\n",
       "    <tr>\n",
       "      <th>6</th>\n",
       "      <td>Stetson</td>\n",
       "      <td>-0.138474</td>\n",
       "      <td>0.168782</td>\n",
       "      <td>0.264111</td>\n",
       "      <td>0.253585</td>\n",
       "    </tr>\n",
       "    <tr>\n",
       "      <th>7</th>\n",
       "      <td>Kennesaw St.</td>\n",
       "      <td>-0.328536</td>\n",
       "      <td>0.855412</td>\n",
       "      <td>0.336117</td>\n",
       "      <td>0.858152</td>\n",
       "    </tr>\n",
       "    <tr>\n",
       "      <th>8</th>\n",
       "      <td>Florida Gulf Coast</td>\n",
       "      <td>-2.259634</td>\n",
       "      <td>1.630892</td>\n",
       "      <td>0.146216</td>\n",
       "      <td>1.695332</td>\n",
       "    </tr>\n",
       "    <tr>\n",
       "      <th>9</th>\n",
       "      <td>Lipscomb</td>\n",
       "      <td>-1.574739</td>\n",
       "      <td>0.494331</td>\n",
       "      <td>0.182375</td>\n",
       "      <td>0.457647</td>\n",
       "    </tr>\n",
       "  </tbody>\n",
       "</table>\n",
       "</div>"
      ],
      "text/plain": [
       "                teams       Bay      Lars       KNN    Linear\n",
       "0       North Florida -2.656322  0.667938  0.117053  0.729825\n",
       "1              Queens -2.820564  0.475955 -0.049554  0.549241\n",
       "2             Liberty  2.553954  0.838322  0.563722  0.762226\n",
       "3          Bellarmine -4.900043  2.579029  0.063998  2.568725\n",
       "4       North Alabama -3.771071 -0.077060  0.180634 -0.147748\n",
       "5    Eastern Kentucky -1.643006 -0.841077 -0.022636 -0.862436\n",
       "6             Stetson -0.138474  0.168782  0.264111  0.253585\n",
       "7        Kennesaw St. -0.328536  0.855412  0.336117  0.858152\n",
       "8  Florida Gulf Coast -2.259634  1.630892  0.146216  1.695332\n",
       "9            Lipscomb -1.574739  0.494331  0.182375  0.457647"
      ]
     },
     "execution_count": 12,
     "metadata": {},
     "output_type": "execute_result"
    }
   ],
   "source": [
    "asunBay = bay.predict(asun)\n",
    "asunLars = lars.predict(asun)\n",
    "asunKnn = knn.predict(asun)\n",
    "asunReg = reg.predict(asun)\n",
    "tableASUN = pd.DataFrame({'teams':asunTeams, 'Bay':asunBay, 'Lars':asunLars, 'KNN':asunKnn, 'Linear':asunReg})\n",
    "tableASUN"
   ]
  },
  {
   "cell_type": "markdown",
   "id": "6b6eb02a",
   "metadata": {
    "papermill": {
     "duration": 0.025567,
     "end_time": "2023-03-16T22:20:48.406071",
     "exception": false,
     "start_time": "2023-03-16T22:20:48.380504",
     "status": "completed"
    },
    "tags": []
   },
   "source": [
    "# Sun Belt 2023 Predictions"
   ]
  },
  {
   "cell_type": "code",
   "execution_count": 13,
   "id": "6cfb1ca4",
   "metadata": {
    "execution": {
     "iopub.execute_input": "2023-03-16T22:20:48.458448Z",
     "iopub.status.busy": "2023-03-16T22:20:48.458088Z",
     "iopub.status.idle": "2023-03-16T22:20:48.470798Z",
     "shell.execute_reply": "2023-03-16T22:20:48.469818Z"
    },
    "papermill": {
     "duration": 0.041196,
     "end_time": "2023-03-16T22:20:48.472591",
     "exception": false,
     "start_time": "2023-03-16T22:20:48.431395",
     "status": "completed"
    },
    "tags": []
   },
   "outputs": [
    {
     "data": {
      "text/plain": [
       "0        Georgia Southern\n",
       "1               Texas St.\n",
       "2         Appalachian St.\n",
       "3        Coastal Carolina\n",
       "4        Louisiana Monroe\n",
       "5           South Alabama\n",
       "6           Southern Miss\n",
       "7             Georgia St.\n",
       "8     Louisiana Lafayette\n",
       "9                Marshall\n",
       "10          James Madison\n",
       "11                   Troy\n",
       "12           Arkansas St.\n",
       "13           Old Dominion\n",
       "Name: Team, dtype: object"
      ]
     },
     "execution_count": 13,
     "metadata": {},
     "output_type": "execute_result"
    }
   ],
   "source": [
    "sunB = pd.read_csv('../input/ncaa-tourney-training-data/SBConfData.csv')\n",
    "sunBTeams = sunB.iloc[:,0]\n",
    "sunBTeams"
   ]
  },
  {
   "cell_type": "code",
   "execution_count": 14,
   "id": "b753c4f9",
   "metadata": {
    "execution": {
     "iopub.execute_input": "2023-03-16T22:20:48.525624Z",
     "iopub.status.busy": "2023-03-16T22:20:48.525244Z",
     "iopub.status.idle": "2023-03-16T22:20:48.531360Z",
     "shell.execute_reply": "2023-03-16T22:20:48.529966Z"
    },
    "papermill": {
     "duration": 0.034966,
     "end_time": "2023-03-16T22:20:48.533321",
     "exception": false,
     "start_time": "2023-03-16T22:20:48.498355",
     "status": "completed"
    },
    "tags": []
   },
   "outputs": [],
   "source": [
    "sunB = sunB.drop(columns = ['Team', 'Yr']);"
   ]
  },
  {
   "cell_type": "code",
   "execution_count": 15,
   "id": "f05ded1e",
   "metadata": {
    "execution": {
     "iopub.execute_input": "2023-03-16T22:20:48.596328Z",
     "iopub.status.busy": "2023-03-16T22:20:48.595848Z",
     "iopub.status.idle": "2023-03-16T22:20:48.622999Z",
     "shell.execute_reply": "2023-03-16T22:20:48.621546Z"
    },
    "papermill": {
     "duration": 0.067398,
     "end_time": "2023-03-16T22:20:48.626931",
     "exception": false,
     "start_time": "2023-03-16T22:20:48.559533",
     "status": "completed"
    },
    "tags": []
   },
   "outputs": [
    {
     "name": "stderr",
     "output_type": "stream",
     "text": [
      "/opt/conda/lib/python3.7/site-packages/sklearn/base.py:444: UserWarning: X has feature names, but BayesianRidge was fitted without feature names\n",
      "  f\"X has feature names, but {self.__class__.__name__} was fitted without\"\n",
      "/opt/conda/lib/python3.7/site-packages/sklearn/base.py:444: UserWarning: X has feature names, but LassoLars was fitted without feature names\n",
      "  f\"X has feature names, but {self.__class__.__name__} was fitted without\"\n",
      "/opt/conda/lib/python3.7/site-packages/sklearn/base.py:444: UserWarning: X has feature names, but KNeighborsRegressor was fitted without feature names\n",
      "  f\"X has feature names, but {self.__class__.__name__} was fitted without\"\n",
      "/opt/conda/lib/python3.7/site-packages/sklearn/base.py:444: UserWarning: X has feature names, but LinearRegression was fitted without feature names\n",
      "  f\"X has feature names, but {self.__class__.__name__} was fitted without\"\n"
     ]
    },
    {
     "data": {
      "text/html": [
       "<div>\n",
       "<style scoped>\n",
       "    .dataframe tbody tr th:only-of-type {\n",
       "        vertical-align: middle;\n",
       "    }\n",
       "\n",
       "    .dataframe tbody tr th {\n",
       "        vertical-align: top;\n",
       "    }\n",
       "\n",
       "    .dataframe thead th {\n",
       "        text-align: right;\n",
       "    }\n",
       "</style>\n",
       "<table border=\"1\" class=\"dataframe\">\n",
       "  <thead>\n",
       "    <tr style=\"text-align: right;\">\n",
       "      <th></th>\n",
       "      <th>teams</th>\n",
       "      <th>Bay</th>\n",
       "      <th>Lars</th>\n",
       "      <th>KNN</th>\n",
       "      <th>Linear</th>\n",
       "    </tr>\n",
       "  </thead>\n",
       "  <tbody>\n",
       "    <tr>\n",
       "      <th>0</th>\n",
       "      <td>Georgia Southern</td>\n",
       "      <td>-3.745540</td>\n",
       "      <td>-0.989720</td>\n",
       "      <td>0.285299</td>\n",
       "      <td>-0.955140</td>\n",
       "    </tr>\n",
       "    <tr>\n",
       "      <th>1</th>\n",
       "      <td>Texas St.</td>\n",
       "      <td>-5.124916</td>\n",
       "      <td>-0.184335</td>\n",
       "      <td>0.162314</td>\n",
       "      <td>-0.054401</td>\n",
       "    </tr>\n",
       "    <tr>\n",
       "      <th>2</th>\n",
       "      <td>Appalachian St.</td>\n",
       "      <td>-3.575092</td>\n",
       "      <td>-3.215593</td>\n",
       "      <td>-0.127779</td>\n",
       "      <td>-3.274624</td>\n",
       "    </tr>\n",
       "    <tr>\n",
       "      <th>3</th>\n",
       "      <td>Coastal Carolina</td>\n",
       "      <td>-5.841655</td>\n",
       "      <td>-2.381031</td>\n",
       "      <td>-0.079977</td>\n",
       "      <td>-2.478821</td>\n",
       "    </tr>\n",
       "    <tr>\n",
       "      <th>4</th>\n",
       "      <td>Louisiana Monroe</td>\n",
       "      <td>-6.694189</td>\n",
       "      <td>0.521173</td>\n",
       "      <td>-0.096087</td>\n",
       "      <td>0.520798</td>\n",
       "    </tr>\n",
       "    <tr>\n",
       "      <th>5</th>\n",
       "      <td>South Alabama</td>\n",
       "      <td>-0.779138</td>\n",
       "      <td>-3.278069</td>\n",
       "      <td>0.432313</td>\n",
       "      <td>-3.515881</td>\n",
       "    </tr>\n",
       "    <tr>\n",
       "      <th>6</th>\n",
       "      <td>Southern Miss</td>\n",
       "      <td>1.622541</td>\n",
       "      <td>-0.490049</td>\n",
       "      <td>0.501106</td>\n",
       "      <td>-0.483630</td>\n",
       "    </tr>\n",
       "    <tr>\n",
       "      <th>7</th>\n",
       "      <td>Georgia St.</td>\n",
       "      <td>-7.856434</td>\n",
       "      <td>-0.635752</td>\n",
       "      <td>-0.333029</td>\n",
       "      <td>-0.486797</td>\n",
       "    </tr>\n",
       "    <tr>\n",
       "      <th>8</th>\n",
       "      <td>Louisiana Lafayette</td>\n",
       "      <td>1.575224</td>\n",
       "      <td>0.369840</td>\n",
       "      <td>0.751736</td>\n",
       "      <td>0.527162</td>\n",
       "    </tr>\n",
       "    <tr>\n",
       "      <th>9</th>\n",
       "      <td>Marshall</td>\n",
       "      <td>3.089514</td>\n",
       "      <td>-0.462838</td>\n",
       "      <td>0.697511</td>\n",
       "      <td>-0.471635</td>\n",
       "    </tr>\n",
       "    <tr>\n",
       "      <th>10</th>\n",
       "      <td>James Madison</td>\n",
       "      <td>0.013056</td>\n",
       "      <td>-0.528954</td>\n",
       "      <td>-0.099738</td>\n",
       "      <td>-0.540036</td>\n",
       "    </tr>\n",
       "    <tr>\n",
       "      <th>11</th>\n",
       "      <td>Troy</td>\n",
       "      <td>-1.543011</td>\n",
       "      <td>0.062679</td>\n",
       "      <td>0.325963</td>\n",
       "      <td>0.021660</td>\n",
       "    </tr>\n",
       "    <tr>\n",
       "      <th>12</th>\n",
       "      <td>Arkansas St.</td>\n",
       "      <td>-7.525825</td>\n",
       "      <td>-0.722723</td>\n",
       "      <td>-0.237996</td>\n",
       "      <td>-0.695662</td>\n",
       "    </tr>\n",
       "    <tr>\n",
       "      <th>13</th>\n",
       "      <td>Old Dominion</td>\n",
       "      <td>-2.067622</td>\n",
       "      <td>-0.836928</td>\n",
       "      <td>0.286199</td>\n",
       "      <td>-0.850447</td>\n",
       "    </tr>\n",
       "  </tbody>\n",
       "</table>\n",
       "</div>"
      ],
      "text/plain": [
       "                  teams       Bay      Lars       KNN    Linear\n",
       "0      Georgia Southern -3.745540 -0.989720  0.285299 -0.955140\n",
       "1             Texas St. -5.124916 -0.184335  0.162314 -0.054401\n",
       "2       Appalachian St. -3.575092 -3.215593 -0.127779 -3.274624\n",
       "3      Coastal Carolina -5.841655 -2.381031 -0.079977 -2.478821\n",
       "4      Louisiana Monroe -6.694189  0.521173 -0.096087  0.520798\n",
       "5         South Alabama -0.779138 -3.278069  0.432313 -3.515881\n",
       "6         Southern Miss  1.622541 -0.490049  0.501106 -0.483630\n",
       "7           Georgia St. -7.856434 -0.635752 -0.333029 -0.486797\n",
       "8   Louisiana Lafayette  1.575224  0.369840  0.751736  0.527162\n",
       "9              Marshall  3.089514 -0.462838  0.697511 -0.471635\n",
       "10        James Madison  0.013056 -0.528954 -0.099738 -0.540036\n",
       "11                 Troy -1.543011  0.062679  0.325963  0.021660\n",
       "12         Arkansas St. -7.525825 -0.722723 -0.237996 -0.695662\n",
       "13         Old Dominion -2.067622 -0.836928  0.286199 -0.850447"
      ]
     },
     "execution_count": 15,
     "metadata": {},
     "output_type": "execute_result"
    }
   ],
   "source": [
    "sunBBay = bay.predict(sunB)\n",
    "sunBLars = lars.predict(sunB)\n",
    "sunBKnn = knn.predict(sunB)\n",
    "sunBReg = reg.predict(sunB)\n",
    "tablesunB = pd.DataFrame({'teams':sunBTeams, 'Bay':sunBBay, 'Lars':sunBLars, 'KNN':sunBKnn, 'Linear':sunBReg})\n",
    "tablesunB"
   ]
  },
  {
   "cell_type": "markdown",
   "id": "d8eb6c7c",
   "metadata": {
    "papermill": {
     "duration": 0.026277,
     "end_time": "2023-03-16T22:20:48.680283",
     "exception": false,
     "start_time": "2023-03-16T22:20:48.654006",
     "status": "completed"
    },
    "tags": []
   },
   "source": [
    "# Horizon League 2023 Predictions"
   ]
  },
  {
   "cell_type": "code",
   "execution_count": 16,
   "id": "7fa17b96",
   "metadata": {
    "execution": {
     "iopub.execute_input": "2023-03-16T22:20:48.733905Z",
     "iopub.status.busy": "2023-03-16T22:20:48.733545Z",
     "iopub.status.idle": "2023-03-16T22:20:48.746131Z",
     "shell.execute_reply": "2023-03-16T22:20:48.745049Z"
    },
    "papermill": {
     "duration": 0.042037,
     "end_time": "2023-03-16T22:20:48.748149",
     "exception": false,
     "start_time": "2023-03-16T22:20:48.706112",
     "status": "completed"
    },
    "tags": []
   },
   "outputs": [
    {
     "data": {
      "text/plain": [
       "0            Wright St.\n",
       "1         Robert Morris\n",
       "2            Fort Wayne\n",
       "3         Cleveland St.\n",
       "4     Northern Kentucky\n",
       "5                 IUPUI\n",
       "6             Milwaukee\n",
       "7             Green Bay\n",
       "8               Detroit\n",
       "9        Youngstown St.\n",
       "10              Oakland\n",
       "Name: Team, dtype: object"
      ]
     },
     "execution_count": 16,
     "metadata": {},
     "output_type": "execute_result"
    }
   ],
   "source": [
    "horz = pd.read_csv('../input/ncaa-tourney-training-data/HorzConfData.csv')\n",
    "horzTeams = horz.iloc[:,0]\n",
    "horzTeams"
   ]
  },
  {
   "cell_type": "code",
   "execution_count": 17,
   "id": "b884ee73",
   "metadata": {
    "execution": {
     "iopub.execute_input": "2023-03-16T22:20:48.803071Z",
     "iopub.status.busy": "2023-03-16T22:20:48.801988Z",
     "iopub.status.idle": "2023-03-16T22:20:48.806921Z",
     "shell.execute_reply": "2023-03-16T22:20:48.806271Z"
    },
    "papermill": {
     "duration": 0.034356,
     "end_time": "2023-03-16T22:20:48.808833",
     "exception": false,
     "start_time": "2023-03-16T22:20:48.774477",
     "status": "completed"
    },
    "tags": []
   },
   "outputs": [],
   "source": [
    "horz = horz.drop(columns = ['Team', 'Yr']);"
   ]
  },
  {
   "cell_type": "code",
   "execution_count": 18,
   "id": "5dc1d8c2",
   "metadata": {
    "execution": {
     "iopub.execute_input": "2023-03-16T22:20:48.863288Z",
     "iopub.status.busy": "2023-03-16T22:20:48.862534Z",
     "iopub.status.idle": "2023-03-16T22:20:48.885504Z",
     "shell.execute_reply": "2023-03-16T22:20:48.883992Z"
    },
    "papermill": {
     "duration": 0.05243,
     "end_time": "2023-03-16T22:20:48.888016",
     "exception": false,
     "start_time": "2023-03-16T22:20:48.835586",
     "status": "completed"
    },
    "tags": []
   },
   "outputs": [
    {
     "name": "stderr",
     "output_type": "stream",
     "text": [
      "/opt/conda/lib/python3.7/site-packages/sklearn/base.py:444: UserWarning: X has feature names, but BayesianRidge was fitted without feature names\n",
      "  f\"X has feature names, but {self.__class__.__name__} was fitted without\"\n",
      "/opt/conda/lib/python3.7/site-packages/sklearn/base.py:444: UserWarning: X has feature names, but LassoLars was fitted without feature names\n",
      "  f\"X has feature names, but {self.__class__.__name__} was fitted without\"\n",
      "/opt/conda/lib/python3.7/site-packages/sklearn/base.py:444: UserWarning: X has feature names, but KNeighborsRegressor was fitted without feature names\n",
      "  f\"X has feature names, but {self.__class__.__name__} was fitted without\"\n",
      "/opt/conda/lib/python3.7/site-packages/sklearn/base.py:444: UserWarning: X has feature names, but LinearRegression was fitted without feature names\n",
      "  f\"X has feature names, but {self.__class__.__name__} was fitted without\"\n"
     ]
    },
    {
     "data": {
      "text/html": [
       "<div>\n",
       "<style scoped>\n",
       "    .dataframe tbody tr th:only-of-type {\n",
       "        vertical-align: middle;\n",
       "    }\n",
       "\n",
       "    .dataframe tbody tr th {\n",
       "        vertical-align: top;\n",
       "    }\n",
       "\n",
       "    .dataframe thead th {\n",
       "        text-align: right;\n",
       "    }\n",
       "</style>\n",
       "<table border=\"1\" class=\"dataframe\">\n",
       "  <thead>\n",
       "    <tr style=\"text-align: right;\">\n",
       "      <th></th>\n",
       "      <th>teams</th>\n",
       "      <th>Bay</th>\n",
       "      <th>Lars</th>\n",
       "      <th>KNN</th>\n",
       "      <th>Linear</th>\n",
       "    </tr>\n",
       "  </thead>\n",
       "  <tbody>\n",
       "    <tr>\n",
       "      <th>0</th>\n",
       "      <td>Wright St.</td>\n",
       "      <td>-1.894621</td>\n",
       "      <td>0.744351</td>\n",
       "      <td>0.299446</td>\n",
       "      <td>0.812136</td>\n",
       "    </tr>\n",
       "    <tr>\n",
       "      <th>1</th>\n",
       "      <td>Robert Morris</td>\n",
       "      <td>-4.713965</td>\n",
       "      <td>1.149767</td>\n",
       "      <td>-0.268340</td>\n",
       "      <td>1.269262</td>\n",
       "    </tr>\n",
       "    <tr>\n",
       "      <th>2</th>\n",
       "      <td>Fort Wayne</td>\n",
       "      <td>-3.109101</td>\n",
       "      <td>4.283592</td>\n",
       "      <td>-0.149984</td>\n",
       "      <td>4.351621</td>\n",
       "    </tr>\n",
       "    <tr>\n",
       "      <th>3</th>\n",
       "      <td>Cleveland St.</td>\n",
       "      <td>-0.794046</td>\n",
       "      <td>-0.272117</td>\n",
       "      <td>-0.206296</td>\n",
       "      <td>-0.198578</td>\n",
       "    </tr>\n",
       "    <tr>\n",
       "      <th>4</th>\n",
       "      <td>Northern Kentucky</td>\n",
       "      <td>-1.395541</td>\n",
       "      <td>1.013726</td>\n",
       "      <td>0.002419</td>\n",
       "      <td>0.967646</td>\n",
       "    </tr>\n",
       "    <tr>\n",
       "      <th>5</th>\n",
       "      <td>IUPUI</td>\n",
       "      <td>-10.287591</td>\n",
       "      <td>-7.992955</td>\n",
       "      <td>-0.144184</td>\n",
       "      <td>-7.888935</td>\n",
       "    </tr>\n",
       "    <tr>\n",
       "      <th>6</th>\n",
       "      <td>Milwaukee</td>\n",
       "      <td>-1.391175</td>\n",
       "      <td>3.637148</td>\n",
       "      <td>-0.263048</td>\n",
       "      <td>3.655624</td>\n",
       "    </tr>\n",
       "    <tr>\n",
       "      <th>7</th>\n",
       "      <td>Green Bay</td>\n",
       "      <td>-12.220690</td>\n",
       "      <td>-9.559079</td>\n",
       "      <td>-0.231680</td>\n",
       "      <td>-9.658834</td>\n",
       "    </tr>\n",
       "    <tr>\n",
       "      <th>8</th>\n",
       "      <td>Detroit</td>\n",
       "      <td>-2.184688</td>\n",
       "      <td>-0.570194</td>\n",
       "      <td>0.052552</td>\n",
       "      <td>-0.478028</td>\n",
       "    </tr>\n",
       "    <tr>\n",
       "      <th>9</th>\n",
       "      <td>Youngstown St.</td>\n",
       "      <td>1.528223</td>\n",
       "      <td>0.664329</td>\n",
       "      <td>0.332022</td>\n",
       "      <td>0.632442</td>\n",
       "    </tr>\n",
       "    <tr>\n",
       "      <th>10</th>\n",
       "      <td>Oakland</td>\n",
       "      <td>-5.343875</td>\n",
       "      <td>-1.304347</td>\n",
       "      <td>-0.066401</td>\n",
       "      <td>-1.381051</td>\n",
       "    </tr>\n",
       "  </tbody>\n",
       "</table>\n",
       "</div>"
      ],
      "text/plain": [
       "                teams        Bay      Lars       KNN    Linear\n",
       "0          Wright St.  -1.894621  0.744351  0.299446  0.812136\n",
       "1       Robert Morris  -4.713965  1.149767 -0.268340  1.269262\n",
       "2          Fort Wayne  -3.109101  4.283592 -0.149984  4.351621\n",
       "3       Cleveland St.  -0.794046 -0.272117 -0.206296 -0.198578\n",
       "4   Northern Kentucky  -1.395541  1.013726  0.002419  0.967646\n",
       "5               IUPUI -10.287591 -7.992955 -0.144184 -7.888935\n",
       "6           Milwaukee  -1.391175  3.637148 -0.263048  3.655624\n",
       "7           Green Bay -12.220690 -9.559079 -0.231680 -9.658834\n",
       "8             Detroit  -2.184688 -0.570194  0.052552 -0.478028\n",
       "9      Youngstown St.   1.528223  0.664329  0.332022  0.632442\n",
       "10            Oakland  -5.343875 -1.304347 -0.066401 -1.381051"
      ]
     },
     "execution_count": 18,
     "metadata": {},
     "output_type": "execute_result"
    }
   ],
   "source": [
    "horzBay = bay.predict(horz)\n",
    "horzLars = lars.predict(horz)\n",
    "horzKnn = knn.predict(horz)\n",
    "horzReg = reg.predict(horz)\n",
    "tablehorz = pd.DataFrame({'teams':horzTeams, 'Bay':horzBay, 'Lars':horzLars, 'KNN':horzKnn, 'Linear':horzReg})\n",
    "tablehorz"
   ]
  },
  {
   "cell_type": "markdown",
   "id": "4c92bece",
   "metadata": {
    "papermill": {
     "duration": 0.027138,
     "end_time": "2023-03-16T22:20:48.942469",
     "exception": false,
     "start_time": "2023-03-16T22:20:48.915331",
     "status": "completed"
    },
    "tags": []
   },
   "source": [
    "# Partiot League Predictions"
   ]
  },
  {
   "cell_type": "code",
   "execution_count": 19,
   "id": "5a4fb5af",
   "metadata": {
    "execution": {
     "iopub.execute_input": "2023-03-16T22:20:48.998713Z",
     "iopub.status.busy": "2023-03-16T22:20:48.997823Z",
     "iopub.status.idle": "2023-03-16T22:20:49.009715Z",
     "shell.execute_reply": "2023-03-16T22:20:49.008744Z"
    },
    "papermill": {
     "duration": 0.042257,
     "end_time": "2023-03-16T22:20:49.011684",
     "exception": false,
     "start_time": "2023-03-16T22:20:48.969427",
     "status": "completed"
    },
    "tags": []
   },
   "outputs": [
    {
     "data": {
      "text/plain": [
       "0             American\n",
       "1            Lafayette\n",
       "2               Lehigh\n",
       "3                 Navy\n",
       "4           Holy Cross\n",
       "5             Bucknell\n",
       "6    Boston University\n",
       "7            Loyola MD\n",
       "8                 Army\n",
       "9              Colgate\n",
       "Name: Team, dtype: object"
      ]
     },
     "execution_count": 19,
     "metadata": {},
     "output_type": "execute_result"
    }
   ],
   "source": [
    "pat = pd.read_csv('../input/ncaa-tourney-training-data/PatConfData.csv')\n",
    "patTeams = pat.iloc[:,0]\n",
    "patTeams"
   ]
  },
  {
   "cell_type": "code",
   "execution_count": 20,
   "id": "577fc0e2",
   "metadata": {
    "execution": {
     "iopub.execute_input": "2023-03-16T22:20:49.065504Z",
     "iopub.status.busy": "2023-03-16T22:20:49.065134Z",
     "iopub.status.idle": "2023-03-16T22:20:49.070641Z",
     "shell.execute_reply": "2023-03-16T22:20:49.069623Z"
    },
    "papermill": {
     "duration": 0.034217,
     "end_time": "2023-03-16T22:20:49.072432",
     "exception": false,
     "start_time": "2023-03-16T22:20:49.038215",
     "status": "completed"
    },
    "tags": []
   },
   "outputs": [],
   "source": [
    "pat = pat.drop(columns = ['Team', 'Yr']);"
   ]
  },
  {
   "cell_type": "code",
   "execution_count": 21,
   "id": "95af2836",
   "metadata": {
    "execution": {
     "iopub.execute_input": "2023-03-16T22:20:49.128412Z",
     "iopub.status.busy": "2023-03-16T22:20:49.127808Z",
     "iopub.status.idle": "2023-03-16T22:20:49.149057Z",
     "shell.execute_reply": "2023-03-16T22:20:49.147517Z"
    },
    "papermill": {
     "duration": 0.052779,
     "end_time": "2023-03-16T22:20:49.151333",
     "exception": false,
     "start_time": "2023-03-16T22:20:49.098554",
     "status": "completed"
    },
    "tags": []
   },
   "outputs": [
    {
     "name": "stderr",
     "output_type": "stream",
     "text": [
      "/opt/conda/lib/python3.7/site-packages/sklearn/base.py:444: UserWarning: X has feature names, but BayesianRidge was fitted without feature names\n",
      "  f\"X has feature names, but {self.__class__.__name__} was fitted without\"\n",
      "/opt/conda/lib/python3.7/site-packages/sklearn/base.py:444: UserWarning: X has feature names, but LassoLars was fitted without feature names\n",
      "  f\"X has feature names, but {self.__class__.__name__} was fitted without\"\n",
      "/opt/conda/lib/python3.7/site-packages/sklearn/base.py:444: UserWarning: X has feature names, but KNeighborsRegressor was fitted without feature names\n",
      "  f\"X has feature names, but {self.__class__.__name__} was fitted without\"\n",
      "/opt/conda/lib/python3.7/site-packages/sklearn/base.py:444: UserWarning: X has feature names, but LinearRegression was fitted without feature names\n",
      "  f\"X has feature names, but {self.__class__.__name__} was fitted without\"\n"
     ]
    },
    {
     "data": {
      "text/html": [
       "<div>\n",
       "<style scoped>\n",
       "    .dataframe tbody tr th:only-of-type {\n",
       "        vertical-align: middle;\n",
       "    }\n",
       "\n",
       "    .dataframe tbody tr th {\n",
       "        vertical-align: top;\n",
       "    }\n",
       "\n",
       "    .dataframe thead th {\n",
       "        text-align: right;\n",
       "    }\n",
       "</style>\n",
       "<table border=\"1\" class=\"dataframe\">\n",
       "  <thead>\n",
       "    <tr style=\"text-align: right;\">\n",
       "      <th></th>\n",
       "      <th>teams</th>\n",
       "      <th>Bay</th>\n",
       "      <th>Lars</th>\n",
       "      <th>KNN</th>\n",
       "      <th>Linear</th>\n",
       "    </tr>\n",
       "  </thead>\n",
       "  <tbody>\n",
       "    <tr>\n",
       "      <th>0</th>\n",
       "      <td>American</td>\n",
       "      <td>-3.932698</td>\n",
       "      <td>2.663421</td>\n",
       "      <td>-0.123498</td>\n",
       "      <td>2.773504</td>\n",
       "    </tr>\n",
       "    <tr>\n",
       "      <th>1</th>\n",
       "      <td>Lafayette</td>\n",
       "      <td>-7.339186</td>\n",
       "      <td>0.739850</td>\n",
       "      <td>-0.221494</td>\n",
       "      <td>0.777616</td>\n",
       "    </tr>\n",
       "    <tr>\n",
       "      <th>2</th>\n",
       "      <td>Lehigh</td>\n",
       "      <td>-5.248269</td>\n",
       "      <td>2.599963</td>\n",
       "      <td>0.054472</td>\n",
       "      <td>2.590557</td>\n",
       "    </tr>\n",
       "    <tr>\n",
       "      <th>3</th>\n",
       "      <td>Navy</td>\n",
       "      <td>-1.537374</td>\n",
       "      <td>1.485963</td>\n",
       "      <td>0.055496</td>\n",
       "      <td>1.462329</td>\n",
       "    </tr>\n",
       "    <tr>\n",
       "      <th>4</th>\n",
       "      <td>Holy Cross</td>\n",
       "      <td>-7.775917</td>\n",
       "      <td>-0.597663</td>\n",
       "      <td>-0.069345</td>\n",
       "      <td>-0.764526</td>\n",
       "    </tr>\n",
       "    <tr>\n",
       "      <th>5</th>\n",
       "      <td>Bucknell</td>\n",
       "      <td>-6.484731</td>\n",
       "      <td>-0.500338</td>\n",
       "      <td>-0.181802</td>\n",
       "      <td>-0.464866</td>\n",
       "    </tr>\n",
       "    <tr>\n",
       "      <th>6</th>\n",
       "      <td>Boston University</td>\n",
       "      <td>-6.134755</td>\n",
       "      <td>1.595765</td>\n",
       "      <td>-0.231031</td>\n",
       "      <td>1.661733</td>\n",
       "    </tr>\n",
       "    <tr>\n",
       "      <th>7</th>\n",
       "      <td>Loyola MD</td>\n",
       "      <td>-5.951231</td>\n",
       "      <td>2.250853</td>\n",
       "      <td>-0.034586</td>\n",
       "      <td>2.267506</td>\n",
       "    </tr>\n",
       "    <tr>\n",
       "      <th>8</th>\n",
       "      <td>Army</td>\n",
       "      <td>-3.400800</td>\n",
       "      <td>0.801304</td>\n",
       "      <td>-0.104591</td>\n",
       "      <td>0.816545</td>\n",
       "    </tr>\n",
       "    <tr>\n",
       "      <th>9</th>\n",
       "      <td>Colgate</td>\n",
       "      <td>2.032546</td>\n",
       "      <td>-0.415351</td>\n",
       "      <td>0.443468</td>\n",
       "      <td>-0.531242</td>\n",
       "    </tr>\n",
       "  </tbody>\n",
       "</table>\n",
       "</div>"
      ],
      "text/plain": [
       "               teams       Bay      Lars       KNN    Linear\n",
       "0           American -3.932698  2.663421 -0.123498  2.773504\n",
       "1          Lafayette -7.339186  0.739850 -0.221494  0.777616\n",
       "2             Lehigh -5.248269  2.599963  0.054472  2.590557\n",
       "3               Navy -1.537374  1.485963  0.055496  1.462329\n",
       "4         Holy Cross -7.775917 -0.597663 -0.069345 -0.764526\n",
       "5           Bucknell -6.484731 -0.500338 -0.181802 -0.464866\n",
       "6  Boston University -6.134755  1.595765 -0.231031  1.661733\n",
       "7          Loyola MD -5.951231  2.250853 -0.034586  2.267506\n",
       "8               Army -3.400800  0.801304 -0.104591  0.816545\n",
       "9            Colgate  2.032546 -0.415351  0.443468 -0.531242"
      ]
     },
     "execution_count": 21,
     "metadata": {},
     "output_type": "execute_result"
    }
   ],
   "source": [
    "patBay = bay.predict(pat)\n",
    "patLars = lars.predict(pat)\n",
    "patKnn = knn.predict(pat)\n",
    "patReg = reg.predict(pat)\n",
    "tablepat = pd.DataFrame({'teams':patTeams, 'Bay':patBay, 'Lars':patLars, 'KNN':patKnn, 'Linear':patReg})\n",
    "tablepat"
   ]
  },
  {
   "cell_type": "markdown",
   "id": "10e465dc",
   "metadata": {
    "papermill": {
     "duration": 0.026956,
     "end_time": "2023-03-16T22:20:49.205531",
     "exception": false,
     "start_time": "2023-03-16T22:20:49.178575",
     "status": "completed"
    },
    "tags": []
   },
   "source": [
    "# Ohio Valley Predictions 2023"
   ]
  },
  {
   "cell_type": "code",
   "execution_count": 22,
   "id": "5d2196ea",
   "metadata": {
    "execution": {
     "iopub.execute_input": "2023-03-16T22:20:49.262290Z",
     "iopub.status.busy": "2023-03-16T22:20:49.261669Z",
     "iopub.status.idle": "2023-03-16T22:20:49.273229Z",
     "shell.execute_reply": "2023-03-16T22:20:49.272533Z"
    },
    "papermill": {
     "duration": 0.042168,
     "end_time": "2023-03-16T22:20:49.274948",
     "exception": false,
     "start_time": "2023-03-16T22:20:49.232780",
     "status": "completed"
    },
    "tags": []
   },
   "outputs": [
    {
     "data": {
      "text/plain": [
       "0          Tennessee Martin\n",
       "1              Morehead St.\n",
       "2          Eastern Illinois\n",
       "3            Tennessee Tech\n",
       "4          SIU Edwardsville\n",
       "5                Lindenwood\n",
       "6          Southern Indiana\n",
       "7    Southeast Missouri St.\n",
       "8               Little Rock\n",
       "9             Tennessee St.\n",
       "Name: Team, dtype: object"
      ]
     },
     "execution_count": 22,
     "metadata": {},
     "output_type": "execute_result"
    }
   ],
   "source": [
    "ohio = pd.read_csv('../input/ncaa-tourney-training-data/OVConfData.csv')\n",
    "ohioTeams = ohio.iloc[:,0]\n",
    "ohioTeams"
   ]
  },
  {
   "cell_type": "code",
   "execution_count": 23,
   "id": "09f50b0c",
   "metadata": {
    "execution": {
     "iopub.execute_input": "2023-03-16T22:20:49.331410Z",
     "iopub.status.busy": "2023-03-16T22:20:49.330735Z",
     "iopub.status.idle": "2023-03-16T22:20:49.336777Z",
     "shell.execute_reply": "2023-03-16T22:20:49.335827Z"
    },
    "papermill": {
     "duration": 0.037037,
     "end_time": "2023-03-16T22:20:49.339315",
     "exception": false,
     "start_time": "2023-03-16T22:20:49.302278",
     "status": "completed"
    },
    "tags": []
   },
   "outputs": [],
   "source": [
    "ohio = ohio.drop(columns = ['Team', 'Yr']);"
   ]
  },
  {
   "cell_type": "code",
   "execution_count": 24,
   "id": "dbf693fe",
   "metadata": {
    "execution": {
     "iopub.execute_input": "2023-03-16T22:20:49.396708Z",
     "iopub.status.busy": "2023-03-16T22:20:49.396321Z",
     "iopub.status.idle": "2023-03-16T22:20:49.417782Z",
     "shell.execute_reply": "2023-03-16T22:20:49.416157Z"
    },
    "papermill": {
     "duration": 0.052941,
     "end_time": "2023-03-16T22:20:49.420312",
     "exception": false,
     "start_time": "2023-03-16T22:20:49.367371",
     "status": "completed"
    },
    "tags": []
   },
   "outputs": [
    {
     "name": "stderr",
     "output_type": "stream",
     "text": [
      "/opt/conda/lib/python3.7/site-packages/sklearn/base.py:444: UserWarning: X has feature names, but BayesianRidge was fitted without feature names\n",
      "  f\"X has feature names, but {self.__class__.__name__} was fitted without\"\n",
      "/opt/conda/lib/python3.7/site-packages/sklearn/base.py:444: UserWarning: X has feature names, but LassoLars was fitted without feature names\n",
      "  f\"X has feature names, but {self.__class__.__name__} was fitted without\"\n",
      "/opt/conda/lib/python3.7/site-packages/sklearn/base.py:444: UserWarning: X has feature names, but KNeighborsRegressor was fitted without feature names\n",
      "  f\"X has feature names, but {self.__class__.__name__} was fitted without\"\n",
      "/opt/conda/lib/python3.7/site-packages/sklearn/base.py:444: UserWarning: X has feature names, but LinearRegression was fitted without feature names\n",
      "  f\"X has feature names, but {self.__class__.__name__} was fitted without\"\n"
     ]
    },
    {
     "data": {
      "text/html": [
       "<div>\n",
       "<style scoped>\n",
       "    .dataframe tbody tr th:only-of-type {\n",
       "        vertical-align: middle;\n",
       "    }\n",
       "\n",
       "    .dataframe tbody tr th {\n",
       "        vertical-align: top;\n",
       "    }\n",
       "\n",
       "    .dataframe thead th {\n",
       "        text-align: right;\n",
       "    }\n",
       "</style>\n",
       "<table border=\"1\" class=\"dataframe\">\n",
       "  <thead>\n",
       "    <tr style=\"text-align: right;\">\n",
       "      <th></th>\n",
       "      <th>teams</th>\n",
       "      <th>Bay</th>\n",
       "      <th>Lars</th>\n",
       "      <th>KNN</th>\n",
       "      <th>Linear</th>\n",
       "    </tr>\n",
       "  </thead>\n",
       "  <tbody>\n",
       "    <tr>\n",
       "      <th>0</th>\n",
       "      <td>Tennessee Martin</td>\n",
       "      <td>-4.387742</td>\n",
       "      <td>0.810196</td>\n",
       "      <td>-0.182218</td>\n",
       "      <td>0.865385</td>\n",
       "    </tr>\n",
       "    <tr>\n",
       "      <th>1</th>\n",
       "      <td>Morehead St.</td>\n",
       "      <td>-2.897604</td>\n",
       "      <td>1.485186</td>\n",
       "      <td>-0.048626</td>\n",
       "      <td>1.485027</td>\n",
       "    </tr>\n",
       "    <tr>\n",
       "      <th>2</th>\n",
       "      <td>Eastern Illinois</td>\n",
       "      <td>-8.877429</td>\n",
       "      <td>-3.105678</td>\n",
       "      <td>-0.243587</td>\n",
       "      <td>-3.174172</td>\n",
       "    </tr>\n",
       "    <tr>\n",
       "      <th>3</th>\n",
       "      <td>Tennessee Tech</td>\n",
       "      <td>-4.637002</td>\n",
       "      <td>1.344695</td>\n",
       "      <td>0.006909</td>\n",
       "      <td>1.457557</td>\n",
       "    </tr>\n",
       "    <tr>\n",
       "      <th>4</th>\n",
       "      <td>SIU Edwardsville</td>\n",
       "      <td>-4.555438</td>\n",
       "      <td>1.096480</td>\n",
       "      <td>-0.268744</td>\n",
       "      <td>1.147615</td>\n",
       "    </tr>\n",
       "    <tr>\n",
       "      <th>5</th>\n",
       "      <td>Lindenwood</td>\n",
       "      <td>-7.793451</td>\n",
       "      <td>-1.298093</td>\n",
       "      <td>-0.023785</td>\n",
       "      <td>-1.387128</td>\n",
       "    </tr>\n",
       "    <tr>\n",
       "      <th>6</th>\n",
       "      <td>Southern Indiana</td>\n",
       "      <td>-4.331071</td>\n",
       "      <td>0.398829</td>\n",
       "      <td>-0.169900</td>\n",
       "      <td>0.496832</td>\n",
       "    </tr>\n",
       "    <tr>\n",
       "      <th>7</th>\n",
       "      <td>Southeast Missouri St.</td>\n",
       "      <td>-6.190211</td>\n",
       "      <td>0.796858</td>\n",
       "      <td>-0.079189</td>\n",
       "      <td>0.846341</td>\n",
       "    </tr>\n",
       "    <tr>\n",
       "      <th>8</th>\n",
       "      <td>Little Rock</td>\n",
       "      <td>-7.367438</td>\n",
       "      <td>-2.227718</td>\n",
       "      <td>-0.074814</td>\n",
       "      <td>-2.246852</td>\n",
       "    </tr>\n",
       "    <tr>\n",
       "      <th>9</th>\n",
       "      <td>Tennessee St.</td>\n",
       "      <td>-4.729188</td>\n",
       "      <td>0.860620</td>\n",
       "      <td>-0.016002</td>\n",
       "      <td>0.892236</td>\n",
       "    </tr>\n",
       "  </tbody>\n",
       "</table>\n",
       "</div>"
      ],
      "text/plain": [
       "                    teams       Bay      Lars       KNN    Linear\n",
       "0        Tennessee Martin -4.387742  0.810196 -0.182218  0.865385\n",
       "1            Morehead St. -2.897604  1.485186 -0.048626  1.485027\n",
       "2        Eastern Illinois -8.877429 -3.105678 -0.243587 -3.174172\n",
       "3          Tennessee Tech -4.637002  1.344695  0.006909  1.457557\n",
       "4        SIU Edwardsville -4.555438  1.096480 -0.268744  1.147615\n",
       "5              Lindenwood -7.793451 -1.298093 -0.023785 -1.387128\n",
       "6        Southern Indiana -4.331071  0.398829 -0.169900  0.496832\n",
       "7  Southeast Missouri St. -6.190211  0.796858 -0.079189  0.846341\n",
       "8             Little Rock -7.367438 -2.227718 -0.074814 -2.246852\n",
       "9           Tennessee St. -4.729188  0.860620 -0.016002  0.892236"
      ]
     },
     "execution_count": 24,
     "metadata": {},
     "output_type": "execute_result"
    }
   ],
   "source": [
    "ohioBay = bay.predict(ohio)\n",
    "ohioLars = lars.predict(ohio)\n",
    "ohioKnn = knn.predict(ohio)\n",
    "ohioReg = reg.predict(ohio)\n",
    "tableohio = pd.DataFrame({'teams':ohioTeams, 'Bay':ohioBay, 'Lars':ohioLars, 'KNN':ohioKnn, 'Linear':ohioReg})\n",
    "tableohio"
   ]
  },
  {
   "cell_type": "markdown",
   "id": "fa43fa12",
   "metadata": {
    "papermill": {
     "duration": 0.027144,
     "end_time": "2023-03-16T22:20:49.475065",
     "exception": false,
     "start_time": "2023-03-16T22:20:49.447921",
     "status": "completed"
    },
    "tags": []
   },
   "source": [
    "# Northeast 2023 Predictions"
   ]
  },
  {
   "cell_type": "code",
   "execution_count": 25,
   "id": "90abf728",
   "metadata": {
    "execution": {
     "iopub.execute_input": "2023-03-16T22:20:49.532513Z",
     "iopub.status.busy": "2023-03-16T22:20:49.531626Z",
     "iopub.status.idle": "2023-03-16T22:20:49.544840Z",
     "shell.execute_reply": "2023-03-16T22:20:49.544185Z"
    },
    "papermill": {
     "duration": 0.044245,
     "end_time": "2023-03-16T22:20:49.546740",
     "exception": false,
     "start_time": "2023-03-16T22:20:49.502495",
     "status": "completed"
    },
    "tags": []
   },
   "outputs": [
    {
     "data": {
      "text/plain": [
       "0         St. Francis NY\n",
       "1         St. Francis PA\n",
       "2    Fairleigh Dickinson\n",
       "3                 Wagner\n",
       "4    Central Connecticut\n",
       "5              Stonehill\n",
       "6           LIU Brooklyn\n",
       "7              Merrimack\n",
       "8           Sacred Heart\n",
       "Name: Team, dtype: object"
      ]
     },
     "execution_count": 25,
     "metadata": {},
     "output_type": "execute_result"
    }
   ],
   "source": [
    "ne = pd.read_csv('../input/ncaa-tourney-training-data/NEConfData.csv')\n",
    "neTeams = ne.iloc[:,0]\n",
    "neTeams"
   ]
  },
  {
   "cell_type": "code",
   "execution_count": 26,
   "id": "7e3d0620",
   "metadata": {
    "execution": {
     "iopub.execute_input": "2023-03-16T22:20:49.605964Z",
     "iopub.status.busy": "2023-03-16T22:20:49.605254Z",
     "iopub.status.idle": "2023-03-16T22:20:49.610175Z",
     "shell.execute_reply": "2023-03-16T22:20:49.609516Z"
    },
    "papermill": {
     "duration": 0.036464,
     "end_time": "2023-03-16T22:20:49.611831",
     "exception": false,
     "start_time": "2023-03-16T22:20:49.575367",
     "status": "completed"
    },
    "tags": []
   },
   "outputs": [],
   "source": [
    "ne = ne.drop(columns = ['Team', 'Yr']);"
   ]
  },
  {
   "cell_type": "code",
   "execution_count": 27,
   "id": "bf706fb0",
   "metadata": {
    "execution": {
     "iopub.execute_input": "2023-03-16T22:20:49.667182Z",
     "iopub.status.busy": "2023-03-16T22:20:49.666564Z",
     "iopub.status.idle": "2023-03-16T22:20:49.684974Z",
     "shell.execute_reply": "2023-03-16T22:20:49.684273Z"
    },
    "papermill": {
     "duration": 0.049446,
     "end_time": "2023-03-16T22:20:49.687984",
     "exception": false,
     "start_time": "2023-03-16T22:20:49.638538",
     "status": "completed"
    },
    "tags": []
   },
   "outputs": [
    {
     "name": "stderr",
     "output_type": "stream",
     "text": [
      "/opt/conda/lib/python3.7/site-packages/sklearn/base.py:444: UserWarning: X has feature names, but BayesianRidge was fitted without feature names\n",
      "  f\"X has feature names, but {self.__class__.__name__} was fitted without\"\n",
      "/opt/conda/lib/python3.7/site-packages/sklearn/base.py:444: UserWarning: X has feature names, but LassoLars was fitted without feature names\n",
      "  f\"X has feature names, but {self.__class__.__name__} was fitted without\"\n",
      "/opt/conda/lib/python3.7/site-packages/sklearn/base.py:444: UserWarning: X has feature names, but KNeighborsRegressor was fitted without feature names\n",
      "  f\"X has feature names, but {self.__class__.__name__} was fitted without\"\n",
      "/opt/conda/lib/python3.7/site-packages/sklearn/base.py:444: UserWarning: X has feature names, but LinearRegression was fitted without feature names\n",
      "  f\"X has feature names, but {self.__class__.__name__} was fitted without\"\n"
     ]
    },
    {
     "data": {
      "text/html": [
       "<div>\n",
       "<style scoped>\n",
       "    .dataframe tbody tr th:only-of-type {\n",
       "        vertical-align: middle;\n",
       "    }\n",
       "\n",
       "    .dataframe tbody tr th {\n",
       "        vertical-align: top;\n",
       "    }\n",
       "\n",
       "    .dataframe thead th {\n",
       "        text-align: right;\n",
       "    }\n",
       "</style>\n",
       "<table border=\"1\" class=\"dataframe\">\n",
       "  <thead>\n",
       "    <tr style=\"text-align: right;\">\n",
       "      <th></th>\n",
       "      <th>teams</th>\n",
       "      <th>Bay</th>\n",
       "      <th>Lars</th>\n",
       "      <th>KNN</th>\n",
       "      <th>Linear</th>\n",
       "    </tr>\n",
       "  </thead>\n",
       "  <tbody>\n",
       "    <tr>\n",
       "      <th>0</th>\n",
       "      <td>St. Francis NY</td>\n",
       "      <td>-7.979287</td>\n",
       "      <td>0.462948</td>\n",
       "      <td>-0.276012</td>\n",
       "      <td>0.761875</td>\n",
       "    </tr>\n",
       "    <tr>\n",
       "      <th>1</th>\n",
       "      <td>St. Francis PA</td>\n",
       "      <td>-5.971874</td>\n",
       "      <td>-1.214285</td>\n",
       "      <td>-0.023021</td>\n",
       "      <td>-1.301232</td>\n",
       "    </tr>\n",
       "    <tr>\n",
       "      <th>2</th>\n",
       "      <td>Fairleigh Dickinson</td>\n",
       "      <td>-3.585856</td>\n",
       "      <td>1.248308</td>\n",
       "      <td>0.042913</td>\n",
       "      <td>1.250811</td>\n",
       "    </tr>\n",
       "    <tr>\n",
       "      <th>3</th>\n",
       "      <td>Wagner</td>\n",
       "      <td>-5.321950</td>\n",
       "      <td>4.426009</td>\n",
       "      <td>0.459553</td>\n",
       "      <td>4.466009</td>\n",
       "    </tr>\n",
       "    <tr>\n",
       "      <th>4</th>\n",
       "      <td>Central Connecticut</td>\n",
       "      <td>-7.524319</td>\n",
       "      <td>-2.768851</td>\n",
       "      <td>-0.105295</td>\n",
       "      <td>-2.793190</td>\n",
       "    </tr>\n",
       "    <tr>\n",
       "      <th>5</th>\n",
       "      <td>Stonehill</td>\n",
       "      <td>-6.786911</td>\n",
       "      <td>0.016162</td>\n",
       "      <td>-0.161491</td>\n",
       "      <td>-0.030251</td>\n",
       "    </tr>\n",
       "    <tr>\n",
       "      <th>6</th>\n",
       "      <td>LIU Brooklyn</td>\n",
       "      <td>-13.281134</td>\n",
       "      <td>-15.204725</td>\n",
       "      <td>-0.136249</td>\n",
       "      <td>-15.390829</td>\n",
       "    </tr>\n",
       "    <tr>\n",
       "      <th>7</th>\n",
       "      <td>Merrimack</td>\n",
       "      <td>-6.431311</td>\n",
       "      <td>3.043462</td>\n",
       "      <td>-0.291417</td>\n",
       "      <td>3.080119</td>\n",
       "    </tr>\n",
       "    <tr>\n",
       "      <th>8</th>\n",
       "      <td>Sacred Heart</td>\n",
       "      <td>-5.995073</td>\n",
       "      <td>-0.686898</td>\n",
       "      <td>-0.246175</td>\n",
       "      <td>-0.711635</td>\n",
       "    </tr>\n",
       "  </tbody>\n",
       "</table>\n",
       "</div>"
      ],
      "text/plain": [
       "                 teams        Bay       Lars       KNN     Linear\n",
       "0       St. Francis NY  -7.979287   0.462948 -0.276012   0.761875\n",
       "1       St. Francis PA  -5.971874  -1.214285 -0.023021  -1.301232\n",
       "2  Fairleigh Dickinson  -3.585856   1.248308  0.042913   1.250811\n",
       "3               Wagner  -5.321950   4.426009  0.459553   4.466009\n",
       "4  Central Connecticut  -7.524319  -2.768851 -0.105295  -2.793190\n",
       "5            Stonehill  -6.786911   0.016162 -0.161491  -0.030251\n",
       "6         LIU Brooklyn -13.281134 -15.204725 -0.136249 -15.390829\n",
       "7            Merrimack  -6.431311   3.043462 -0.291417   3.080119\n",
       "8         Sacred Heart  -5.995073  -0.686898 -0.246175  -0.711635"
      ]
     },
     "execution_count": 27,
     "metadata": {},
     "output_type": "execute_result"
    }
   ],
   "source": [
    "neBay = bay.predict(ne)\n",
    "neLars = lars.predict(ne)\n",
    "neKnn = knn.predict(ne)\n",
    "neReg = reg.predict(ne)\n",
    "tablene = pd.DataFrame({'teams':neTeams, 'Bay':neBay, 'Lars':neLars, 'KNN':neKnn, 'Linear':neReg})\n",
    "tablene"
   ]
  },
  {
   "cell_type": "markdown",
   "id": "1d558e03",
   "metadata": {
    "papermill": {
     "duration": 0.028481,
     "end_time": "2023-03-16T22:20:49.745545",
     "exception": false,
     "start_time": "2023-03-16T22:20:49.717064",
     "status": "completed"
    },
    "tags": []
   },
   "source": [
    "# Big South 2023 Predictions"
   ]
  },
  {
   "cell_type": "code",
   "execution_count": 28,
   "id": "cf16faba",
   "metadata": {
    "execution": {
     "iopub.execute_input": "2023-03-16T22:20:49.805010Z",
     "iopub.status.busy": "2023-03-16T22:20:49.804369Z",
     "iopub.status.idle": "2023-03-16T22:20:49.816419Z",
     "shell.execute_reply": "2023-03-16T22:20:49.815101Z"
    },
    "papermill": {
     "duration": 0.044077,
     "end_time": "2023-03-16T22:20:49.818277",
     "exception": false,
     "start_time": "2023-03-16T22:20:49.774200",
     "status": "completed"
    },
    "tags": []
   },
   "outputs": [
    {
     "data": {
      "text/plain": [
       "0               Winthrop\n",
       "1           Gardner Webb\n",
       "2           Presbyterian\n",
       "3    Charleston Southern\n",
       "4               Campbell\n",
       "5            USC Upstate\n",
       "6             High Point\n",
       "7                Radford\n",
       "8          UNC Asheville\n",
       "9               Longwood\n",
       "Name: Team, dtype: object"
      ]
     },
     "execution_count": 28,
     "metadata": {},
     "output_type": "execute_result"
    }
   ],
   "source": [
    "south = pd.read_csv('../input/ncaa-tourney-training-data/BigSthConfData.csv')\n",
    "southTeams = south.iloc[:,0]\n",
    "southTeams"
   ]
  },
  {
   "cell_type": "code",
   "execution_count": 29,
   "id": "3eda2e95",
   "metadata": {
    "execution": {
     "iopub.execute_input": "2023-03-16T22:20:49.875769Z",
     "iopub.status.busy": "2023-03-16T22:20:49.875416Z",
     "iopub.status.idle": "2023-03-16T22:20:49.881521Z",
     "shell.execute_reply": "2023-03-16T22:20:49.880416Z"
    },
    "papermill": {
     "duration": 0.037314,
     "end_time": "2023-03-16T22:20:49.883488",
     "exception": false,
     "start_time": "2023-03-16T22:20:49.846174",
     "status": "completed"
    },
    "tags": []
   },
   "outputs": [],
   "source": [
    "south = south.drop(columns = ['Team', 'Yr']);"
   ]
  },
  {
   "cell_type": "code",
   "execution_count": 30,
   "id": "c78bc9dd",
   "metadata": {
    "execution": {
     "iopub.execute_input": "2023-03-16T22:20:49.943196Z",
     "iopub.status.busy": "2023-03-16T22:20:49.941860Z",
     "iopub.status.idle": "2023-03-16T22:20:49.966943Z",
     "shell.execute_reply": "2023-03-16T22:20:49.965343Z"
    },
    "papermill": {
     "duration": 0.057586,
     "end_time": "2023-03-16T22:20:49.969349",
     "exception": false,
     "start_time": "2023-03-16T22:20:49.911763",
     "status": "completed"
    },
    "tags": []
   },
   "outputs": [
    {
     "name": "stderr",
     "output_type": "stream",
     "text": [
      "/opt/conda/lib/python3.7/site-packages/sklearn/base.py:444: UserWarning: X has feature names, but BayesianRidge was fitted without feature names\n",
      "  f\"X has feature names, but {self.__class__.__name__} was fitted without\"\n",
      "/opt/conda/lib/python3.7/site-packages/sklearn/base.py:444: UserWarning: X has feature names, but LassoLars was fitted without feature names\n",
      "  f\"X has feature names, but {self.__class__.__name__} was fitted without\"\n",
      "/opt/conda/lib/python3.7/site-packages/sklearn/base.py:444: UserWarning: X has feature names, but KNeighborsRegressor was fitted without feature names\n",
      "  f\"X has feature names, but {self.__class__.__name__} was fitted without\"\n",
      "/opt/conda/lib/python3.7/site-packages/sklearn/base.py:444: UserWarning: X has feature names, but LinearRegression was fitted without feature names\n",
      "  f\"X has feature names, but {self.__class__.__name__} was fitted without\"\n"
     ]
    },
    {
     "data": {
      "text/html": [
       "<div>\n",
       "<style scoped>\n",
       "    .dataframe tbody tr th:only-of-type {\n",
       "        vertical-align: middle;\n",
       "    }\n",
       "\n",
       "    .dataframe tbody tr th {\n",
       "        vertical-align: top;\n",
       "    }\n",
       "\n",
       "    .dataframe thead th {\n",
       "        text-align: right;\n",
       "    }\n",
       "</style>\n",
       "<table border=\"1\" class=\"dataframe\">\n",
       "  <thead>\n",
       "    <tr style=\"text-align: right;\">\n",
       "      <th></th>\n",
       "      <th>teams</th>\n",
       "      <th>Bay</th>\n",
       "      <th>Lars</th>\n",
       "      <th>KNN</th>\n",
       "      <th>Linear</th>\n",
       "    </tr>\n",
       "  </thead>\n",
       "  <tbody>\n",
       "    <tr>\n",
       "      <th>0</th>\n",
       "      <td>Winthrop</td>\n",
       "      <td>-3.117951</td>\n",
       "      <td>0.438042</td>\n",
       "      <td>0.070818</td>\n",
       "      <td>0.467728</td>\n",
       "    </tr>\n",
       "    <tr>\n",
       "      <th>1</th>\n",
       "      <td>Gardner Webb</td>\n",
       "      <td>-4.450783</td>\n",
       "      <td>-0.371508</td>\n",
       "      <td>0.178501</td>\n",
       "      <td>-0.357197</td>\n",
       "    </tr>\n",
       "    <tr>\n",
       "      <th>2</th>\n",
       "      <td>Presbyterian</td>\n",
       "      <td>-10.672112</td>\n",
       "      <td>-4.167460</td>\n",
       "      <td>-0.330224</td>\n",
       "      <td>-4.117051</td>\n",
       "    </tr>\n",
       "    <tr>\n",
       "      <th>3</th>\n",
       "      <td>Charleston Southern</td>\n",
       "      <td>-5.019440</td>\n",
       "      <td>-0.702433</td>\n",
       "      <td>-0.010746</td>\n",
       "      <td>-0.751347</td>\n",
       "    </tr>\n",
       "    <tr>\n",
       "      <th>4</th>\n",
       "      <td>Campbell</td>\n",
       "      <td>-5.014778</td>\n",
       "      <td>-0.001518</td>\n",
       "      <td>-0.205584</td>\n",
       "      <td>-0.010019</td>\n",
       "    </tr>\n",
       "    <tr>\n",
       "      <th>5</th>\n",
       "      <td>USC Upstate</td>\n",
       "      <td>-4.654897</td>\n",
       "      <td>2.582212</td>\n",
       "      <td>-0.063330</td>\n",
       "      <td>2.610887</td>\n",
       "    </tr>\n",
       "    <tr>\n",
       "      <th>6</th>\n",
       "      <td>High Point</td>\n",
       "      <td>-5.343465</td>\n",
       "      <td>-0.097559</td>\n",
       "      <td>-0.335285</td>\n",
       "      <td>-0.109154</td>\n",
       "    </tr>\n",
       "    <tr>\n",
       "      <th>7</th>\n",
       "      <td>Radford</td>\n",
       "      <td>-1.851039</td>\n",
       "      <td>1.666707</td>\n",
       "      <td>-0.124047</td>\n",
       "      <td>1.651417</td>\n",
       "    </tr>\n",
       "    <tr>\n",
       "      <th>8</th>\n",
       "      <td>UNC Asheville</td>\n",
       "      <td>-0.119598</td>\n",
       "      <td>2.619992</td>\n",
       "      <td>-0.092335</td>\n",
       "      <td>2.549714</td>\n",
       "    </tr>\n",
       "    <tr>\n",
       "      <th>9</th>\n",
       "      <td>Longwood</td>\n",
       "      <td>-1.398510</td>\n",
       "      <td>-0.142381</td>\n",
       "      <td>0.055359</td>\n",
       "      <td>-0.177161</td>\n",
       "    </tr>\n",
       "  </tbody>\n",
       "</table>\n",
       "</div>"
      ],
      "text/plain": [
       "                 teams        Bay      Lars       KNN    Linear\n",
       "0             Winthrop  -3.117951  0.438042  0.070818  0.467728\n",
       "1         Gardner Webb  -4.450783 -0.371508  0.178501 -0.357197\n",
       "2         Presbyterian -10.672112 -4.167460 -0.330224 -4.117051\n",
       "3  Charleston Southern  -5.019440 -0.702433 -0.010746 -0.751347\n",
       "4             Campbell  -5.014778 -0.001518 -0.205584 -0.010019\n",
       "5          USC Upstate  -4.654897  2.582212 -0.063330  2.610887\n",
       "6           High Point  -5.343465 -0.097559 -0.335285 -0.109154\n",
       "7              Radford  -1.851039  1.666707 -0.124047  1.651417\n",
       "8        UNC Asheville  -0.119598  2.619992 -0.092335  2.549714\n",
       "9             Longwood  -1.398510 -0.142381  0.055359 -0.177161"
      ]
     },
     "execution_count": 30,
     "metadata": {},
     "output_type": "execute_result"
    }
   ],
   "source": [
    "southBay = bay.predict(south)\n",
    "southLars = lars.predict(south)\n",
    "southKnn = knn.predict(south)\n",
    "southReg = reg.predict(south)\n",
    "tablesouth = pd.DataFrame({'teams':southTeams, 'Bay':southBay, 'Lars':southLars, 'KNN':southKnn, 'Linear':southReg})\n",
    "tablesouth"
   ]
  },
  {
   "cell_type": "markdown",
   "id": "fdf21b2a",
   "metadata": {
    "papermill": {
     "duration": 0.027572,
     "end_time": "2023-03-16T22:20:50.025399",
     "exception": false,
     "start_time": "2023-03-16T22:20:49.997827",
     "status": "completed"
    },
    "tags": []
   },
   "source": [
    "# West Coast 2023 Predictions"
   ]
  },
  {
   "cell_type": "code",
   "execution_count": 31,
   "id": "a4db1a3e",
   "metadata": {
    "execution": {
     "iopub.execute_input": "2023-03-16T22:20:50.083524Z",
     "iopub.status.busy": "2023-03-16T22:20:50.083171Z",
     "iopub.status.idle": "2023-03-16T22:20:50.096265Z",
     "shell.execute_reply": "2023-03-16T22:20:50.095078Z"
    },
    "papermill": {
     "duration": 0.044885,
     "end_time": "2023-03-16T22:20:50.098431",
     "exception": false,
     "start_time": "2023-03-16T22:20:50.053546",
     "status": "completed"
    },
    "tags": []
   },
   "outputs": [
    {
     "data": {
      "text/plain": [
       "0                 BYU\n",
       "1           San Diego\n",
       "2             Pacific\n",
       "3          Pepperdine\n",
       "4        Saint Mary's\n",
       "5         Santa Clara\n",
       "6    Loyola Marymount\n",
       "7            Portland\n",
       "8       San Francisco\n",
       "9             Gonzaga\n",
       "Name: Team, dtype: object"
      ]
     },
     "execution_count": 31,
     "metadata": {},
     "output_type": "execute_result"
    }
   ],
   "source": [
    "westc = pd.read_csv('../input/ncaa-tourney-training-data/WCConfData.csv')\n",
    "westcTeams = westc.iloc[:,0]\n",
    "westcTeams"
   ]
  },
  {
   "cell_type": "code",
   "execution_count": 32,
   "id": "c46840e9",
   "metadata": {
    "execution": {
     "iopub.execute_input": "2023-03-16T22:20:50.157926Z",
     "iopub.status.busy": "2023-03-16T22:20:50.157596Z",
     "iopub.status.idle": "2023-03-16T22:20:50.163343Z",
     "shell.execute_reply": "2023-03-16T22:20:50.162134Z"
    },
    "papermill": {
     "duration": 0.038912,
     "end_time": "2023-03-16T22:20:50.166204",
     "exception": false,
     "start_time": "2023-03-16T22:20:50.127292",
     "status": "completed"
    },
    "tags": []
   },
   "outputs": [],
   "source": [
    "westc = westc.drop(columns = ['Team', 'Yr']);"
   ]
  },
  {
   "cell_type": "code",
   "execution_count": 33,
   "id": "4c39d1d8",
   "metadata": {
    "execution": {
     "iopub.execute_input": "2023-03-16T22:20:50.225402Z",
     "iopub.status.busy": "2023-03-16T22:20:50.225040Z",
     "iopub.status.idle": "2023-03-16T22:20:50.246192Z",
     "shell.execute_reply": "2023-03-16T22:20:50.245055Z"
    },
    "papermill": {
     "duration": 0.053412,
     "end_time": "2023-03-16T22:20:50.248198",
     "exception": false,
     "start_time": "2023-03-16T22:20:50.194786",
     "status": "completed"
    },
    "tags": []
   },
   "outputs": [
    {
     "name": "stderr",
     "output_type": "stream",
     "text": [
      "/opt/conda/lib/python3.7/site-packages/sklearn/base.py:444: UserWarning: X has feature names, but BayesianRidge was fitted without feature names\n",
      "  f\"X has feature names, but {self.__class__.__name__} was fitted without\"\n",
      "/opt/conda/lib/python3.7/site-packages/sklearn/base.py:444: UserWarning: X has feature names, but LassoLars was fitted without feature names\n",
      "  f\"X has feature names, but {self.__class__.__name__} was fitted without\"\n",
      "/opt/conda/lib/python3.7/site-packages/sklearn/base.py:444: UserWarning: X has feature names, but KNeighborsRegressor was fitted without feature names\n",
      "  f\"X has feature names, but {self.__class__.__name__} was fitted without\"\n",
      "/opt/conda/lib/python3.7/site-packages/sklearn/base.py:444: UserWarning: X has feature names, but LinearRegression was fitted without feature names\n",
      "  f\"X has feature names, but {self.__class__.__name__} was fitted without\"\n"
     ]
    },
    {
     "data": {
      "text/html": [
       "<div>\n",
       "<style scoped>\n",
       "    .dataframe tbody tr th:only-of-type {\n",
       "        vertical-align: middle;\n",
       "    }\n",
       "\n",
       "    .dataframe tbody tr th {\n",
       "        vertical-align: top;\n",
       "    }\n",
       "\n",
       "    .dataframe thead th {\n",
       "        text-align: right;\n",
       "    }\n",
       "</style>\n",
       "<table border=\"1\" class=\"dataframe\">\n",
       "  <thead>\n",
       "    <tr style=\"text-align: right;\">\n",
       "      <th></th>\n",
       "      <th>teams</th>\n",
       "      <th>Bay</th>\n",
       "      <th>Lars</th>\n",
       "      <th>KNN</th>\n",
       "      <th>Linear</th>\n",
       "    </tr>\n",
       "  </thead>\n",
       "  <tbody>\n",
       "    <tr>\n",
       "      <th>0</th>\n",
       "      <td>BYU</td>\n",
       "      <td>-0.534871</td>\n",
       "      <td>-2.121909</td>\n",
       "      <td>0.501526</td>\n",
       "      <td>-2.104473</td>\n",
       "    </tr>\n",
       "    <tr>\n",
       "      <th>1</th>\n",
       "      <td>San Diego</td>\n",
       "      <td>-4.044284</td>\n",
       "      <td>-1.113541</td>\n",
       "      <td>0.120983</td>\n",
       "      <td>-1.176810</td>\n",
       "    </tr>\n",
       "    <tr>\n",
       "      <th>2</th>\n",
       "      <td>Pacific</td>\n",
       "      <td>-2.871103</td>\n",
       "      <td>0.816879</td>\n",
       "      <td>0.445588</td>\n",
       "      <td>0.895682</td>\n",
       "    </tr>\n",
       "    <tr>\n",
       "      <th>3</th>\n",
       "      <td>Pepperdine</td>\n",
       "      <td>-4.138215</td>\n",
       "      <td>-0.790418</td>\n",
       "      <td>0.106410</td>\n",
       "      <td>-0.798961</td>\n",
       "    </tr>\n",
       "    <tr>\n",
       "      <th>4</th>\n",
       "      <td>Saint Mary's</td>\n",
       "      <td>5.017695</td>\n",
       "      <td>6.710460</td>\n",
       "      <td>3.024089</td>\n",
       "      <td>6.805993</td>\n",
       "    </tr>\n",
       "    <tr>\n",
       "      <th>5</th>\n",
       "      <td>Santa Clara</td>\n",
       "      <td>2.206279</td>\n",
       "      <td>0.363907</td>\n",
       "      <td>2.983353</td>\n",
       "      <td>0.315943</td>\n",
       "    </tr>\n",
       "    <tr>\n",
       "      <th>6</th>\n",
       "      <td>Loyola Marymount</td>\n",
       "      <td>0.169885</td>\n",
       "      <td>1.117116</td>\n",
       "      <td>0.385173</td>\n",
       "      <td>1.126838</td>\n",
       "    </tr>\n",
       "    <tr>\n",
       "      <th>7</th>\n",
       "      <td>Portland</td>\n",
       "      <td>-3.494663</td>\n",
       "      <td>-3.117153</td>\n",
       "      <td>-0.012456</td>\n",
       "      <td>-3.201564</td>\n",
       "    </tr>\n",
       "    <tr>\n",
       "      <th>8</th>\n",
       "      <td>San Francisco</td>\n",
       "      <td>0.008383</td>\n",
       "      <td>-0.571918</td>\n",
       "      <td>0.337299</td>\n",
       "      <td>-0.512008</td>\n",
       "    </tr>\n",
       "    <tr>\n",
       "      <th>9</th>\n",
       "      <td>Gonzaga</td>\n",
       "      <td>7.252135</td>\n",
       "      <td>9.177269</td>\n",
       "      <td>5.289656</td>\n",
       "      <td>9.234491</td>\n",
       "    </tr>\n",
       "  </tbody>\n",
       "</table>\n",
       "</div>"
      ],
      "text/plain": [
       "              teams       Bay      Lars       KNN    Linear\n",
       "0               BYU -0.534871 -2.121909  0.501526 -2.104473\n",
       "1         San Diego -4.044284 -1.113541  0.120983 -1.176810\n",
       "2           Pacific -2.871103  0.816879  0.445588  0.895682\n",
       "3        Pepperdine -4.138215 -0.790418  0.106410 -0.798961\n",
       "4      Saint Mary's  5.017695  6.710460  3.024089  6.805993\n",
       "5       Santa Clara  2.206279  0.363907  2.983353  0.315943\n",
       "6  Loyola Marymount  0.169885  1.117116  0.385173  1.126838\n",
       "7          Portland -3.494663 -3.117153 -0.012456 -3.201564\n",
       "8     San Francisco  0.008383 -0.571918  0.337299 -0.512008\n",
       "9           Gonzaga  7.252135  9.177269  5.289656  9.234491"
      ]
     },
     "execution_count": 33,
     "metadata": {},
     "output_type": "execute_result"
    }
   ],
   "source": [
    "westcBay = bay.predict(westc)\n",
    "westcLars = lars.predict(westc)\n",
    "westcKnn = knn.predict(westc)\n",
    "westcReg = reg.predict(westc)\n",
    "tablewestc = pd.DataFrame({'teams':westcTeams, 'Bay':westcBay, 'Lars':westcLars, 'KNN':westcKnn, 'Linear':westcReg})\n",
    "tablewestc"
   ]
  },
  {
   "cell_type": "markdown",
   "id": "813616cd",
   "metadata": {
    "papermill": {
     "duration": 0.03038,
     "end_time": "2023-03-16T22:20:50.308005",
     "exception": false,
     "start_time": "2023-03-16T22:20:50.277625",
     "status": "completed"
    },
    "tags": []
   },
   "source": [
    "# Missouri Valley 2023 Predictions"
   ]
  },
  {
   "cell_type": "code",
   "execution_count": 34,
   "id": "feb0d8c7",
   "metadata": {
    "execution": {
     "iopub.execute_input": "2023-03-16T22:20:50.366509Z",
     "iopub.status.busy": "2023-03-16T22:20:50.366165Z",
     "iopub.status.idle": "2023-03-16T22:20:50.379917Z",
     "shell.execute_reply": "2023-03-16T22:20:50.379093Z"
    },
    "papermill": {
     "duration": 0.045621,
     "end_time": "2023-03-16T22:20:50.382589",
     "exception": false,
     "start_time": "2023-03-16T22:20:50.336968",
     "status": "completed"
    },
    "tags": []
   },
   "outputs": [
    {
     "data": {
      "text/plain": [
       "0      Illinois Chicago\n",
       "1          Missouri St.\n",
       "2            Murray St.\n",
       "3     Southern Illinois\n",
       "4            Valparaiso\n",
       "5            Evansville\n",
       "6         Northern Iowa\n",
       "7           Indiana St.\n",
       "8                 Drake\n",
       "9               Bradley\n",
       "10              Belmont\n",
       "11         Illinois St.\n",
       "Name: Team, dtype: object"
      ]
     },
     "execution_count": 34,
     "metadata": {},
     "output_type": "execute_result"
    }
   ],
   "source": [
    "missv = pd.read_csv('../input/ncaa-tourney-training-data/MVConfData.csv')\n",
    "missvTeams = missv.iloc[:,0]\n",
    "missvTeams"
   ]
  },
  {
   "cell_type": "code",
   "execution_count": 35,
   "id": "6d40de5c",
   "metadata": {
    "execution": {
     "iopub.execute_input": "2023-03-16T22:20:50.443459Z",
     "iopub.status.busy": "2023-03-16T22:20:50.443109Z",
     "iopub.status.idle": "2023-03-16T22:20:50.449005Z",
     "shell.execute_reply": "2023-03-16T22:20:50.447883Z"
    },
    "papermill": {
     "duration": 0.03902,
     "end_time": "2023-03-16T22:20:50.451389",
     "exception": false,
     "start_time": "2023-03-16T22:20:50.412369",
     "status": "completed"
    },
    "tags": []
   },
   "outputs": [],
   "source": [
    "missv = missv.drop(columns = ['Team', 'Yr']);"
   ]
  },
  {
   "cell_type": "code",
   "execution_count": 36,
   "id": "77b7af51",
   "metadata": {
    "execution": {
     "iopub.execute_input": "2023-03-16T22:20:50.513889Z",
     "iopub.status.busy": "2023-03-16T22:20:50.513557Z",
     "iopub.status.idle": "2023-03-16T22:20:50.534642Z",
     "shell.execute_reply": "2023-03-16T22:20:50.533175Z"
    },
    "papermill": {
     "duration": 0.054205,
     "end_time": "2023-03-16T22:20:50.536882",
     "exception": false,
     "start_time": "2023-03-16T22:20:50.482677",
     "status": "completed"
    },
    "tags": []
   },
   "outputs": [
    {
     "name": "stderr",
     "output_type": "stream",
     "text": [
      "/opt/conda/lib/python3.7/site-packages/sklearn/base.py:444: UserWarning: X has feature names, but BayesianRidge was fitted without feature names\n",
      "  f\"X has feature names, but {self.__class__.__name__} was fitted without\"\n",
      "/opt/conda/lib/python3.7/site-packages/sklearn/base.py:444: UserWarning: X has feature names, but LassoLars was fitted without feature names\n",
      "  f\"X has feature names, but {self.__class__.__name__} was fitted without\"\n",
      "/opt/conda/lib/python3.7/site-packages/sklearn/base.py:444: UserWarning: X has feature names, but KNeighborsRegressor was fitted without feature names\n",
      "  f\"X has feature names, but {self.__class__.__name__} was fitted without\"\n",
      "/opt/conda/lib/python3.7/site-packages/sklearn/base.py:444: UserWarning: X has feature names, but LinearRegression was fitted without feature names\n",
      "  f\"X has feature names, but {self.__class__.__name__} was fitted without\"\n"
     ]
    },
    {
     "data": {
      "text/html": [
       "<div>\n",
       "<style scoped>\n",
       "    .dataframe tbody tr th:only-of-type {\n",
       "        vertical-align: middle;\n",
       "    }\n",
       "\n",
       "    .dataframe tbody tr th {\n",
       "        vertical-align: top;\n",
       "    }\n",
       "\n",
       "    .dataframe thead th {\n",
       "        text-align: right;\n",
       "    }\n",
       "</style>\n",
       "<table border=\"1\" class=\"dataframe\">\n",
       "  <thead>\n",
       "    <tr style=\"text-align: right;\">\n",
       "      <th></th>\n",
       "      <th>teams</th>\n",
       "      <th>Bay</th>\n",
       "      <th>Lars</th>\n",
       "      <th>KNN</th>\n",
       "      <th>Linear</th>\n",
       "    </tr>\n",
       "  </thead>\n",
       "  <tbody>\n",
       "    <tr>\n",
       "      <th>0</th>\n",
       "      <td>Illinois Chicago</td>\n",
       "      <td>-6.457945</td>\n",
       "      <td>0.758515</td>\n",
       "      <td>-0.036596</td>\n",
       "      <td>0.842115</td>\n",
       "    </tr>\n",
       "    <tr>\n",
       "      <th>1</th>\n",
       "      <td>Missouri St.</td>\n",
       "      <td>-1.303039</td>\n",
       "      <td>0.231536</td>\n",
       "      <td>-0.197968</td>\n",
       "      <td>0.207629</td>\n",
       "    </tr>\n",
       "    <tr>\n",
       "      <th>2</th>\n",
       "      <td>Murray St.</td>\n",
       "      <td>-3.301056</td>\n",
       "      <td>1.089266</td>\n",
       "      <td>-0.096322</td>\n",
       "      <td>1.167193</td>\n",
       "    </tr>\n",
       "    <tr>\n",
       "      <th>3</th>\n",
       "      <td>Southern Illinois</td>\n",
       "      <td>-1.114496</td>\n",
       "      <td>0.336108</td>\n",
       "      <td>0.101263</td>\n",
       "      <td>0.161702</td>\n",
       "    </tr>\n",
       "    <tr>\n",
       "      <th>4</th>\n",
       "      <td>Valparaiso</td>\n",
       "      <td>-6.649143</td>\n",
       "      <td>0.182870</td>\n",
       "      <td>-0.031447</td>\n",
       "      <td>0.217529</td>\n",
       "    </tr>\n",
       "    <tr>\n",
       "      <th>5</th>\n",
       "      <td>Evansville</td>\n",
       "      <td>-11.226231</td>\n",
       "      <td>-3.359693</td>\n",
       "      <td>-0.219338</td>\n",
       "      <td>-3.402058</td>\n",
       "    </tr>\n",
       "    <tr>\n",
       "      <th>6</th>\n",
       "      <td>Northern Iowa</td>\n",
       "      <td>-4.544517</td>\n",
       "      <td>0.587708</td>\n",
       "      <td>-0.091408</td>\n",
       "      <td>0.571093</td>\n",
       "    </tr>\n",
       "    <tr>\n",
       "      <th>7</th>\n",
       "      <td>Indiana St.</td>\n",
       "      <td>-0.091150</td>\n",
       "      <td>-2.635054</td>\n",
       "      <td>0.142533</td>\n",
       "      <td>-2.791227</td>\n",
       "    </tr>\n",
       "    <tr>\n",
       "      <th>8</th>\n",
       "      <td>Drake</td>\n",
       "      <td>1.722147</td>\n",
       "      <td>0.617438</td>\n",
       "      <td>0.340442</td>\n",
       "      <td>0.671988</td>\n",
       "    </tr>\n",
       "    <tr>\n",
       "      <th>9</th>\n",
       "      <td>Bradley</td>\n",
       "      <td>2.319118</td>\n",
       "      <td>0.242960</td>\n",
       "      <td>0.375074</td>\n",
       "      <td>0.250231</td>\n",
       "    </tr>\n",
       "    <tr>\n",
       "      <th>10</th>\n",
       "      <td>Belmont</td>\n",
       "      <td>1.009383</td>\n",
       "      <td>0.453922</td>\n",
       "      <td>0.643256</td>\n",
       "      <td>0.519635</td>\n",
       "    </tr>\n",
       "    <tr>\n",
       "      <th>11</th>\n",
       "      <td>Illinois St.</td>\n",
       "      <td>-5.919360</td>\n",
       "      <td>0.533847</td>\n",
       "      <td>-0.210728</td>\n",
       "      <td>0.547569</td>\n",
       "    </tr>\n",
       "  </tbody>\n",
       "</table>\n",
       "</div>"
      ],
      "text/plain": [
       "                teams        Bay      Lars       KNN    Linear\n",
       "0    Illinois Chicago  -6.457945  0.758515 -0.036596  0.842115\n",
       "1        Missouri St.  -1.303039  0.231536 -0.197968  0.207629\n",
       "2          Murray St.  -3.301056  1.089266 -0.096322  1.167193\n",
       "3   Southern Illinois  -1.114496  0.336108  0.101263  0.161702\n",
       "4          Valparaiso  -6.649143  0.182870 -0.031447  0.217529\n",
       "5          Evansville -11.226231 -3.359693 -0.219338 -3.402058\n",
       "6       Northern Iowa  -4.544517  0.587708 -0.091408  0.571093\n",
       "7         Indiana St.  -0.091150 -2.635054  0.142533 -2.791227\n",
       "8               Drake   1.722147  0.617438  0.340442  0.671988\n",
       "9             Bradley   2.319118  0.242960  0.375074  0.250231\n",
       "10            Belmont   1.009383  0.453922  0.643256  0.519635\n",
       "11       Illinois St.  -5.919360  0.533847 -0.210728  0.547569"
      ]
     },
     "execution_count": 36,
     "metadata": {},
     "output_type": "execute_result"
    }
   ],
   "source": [
    "missvBay = bay.predict(missv)\n",
    "missvLars = lars.predict(missv)\n",
    "missvKnn = knn.predict(missv)\n",
    "missvReg = reg.predict(missv)\n",
    "tablemissv = pd.DataFrame({'teams':missvTeams, 'Bay':missvBay, 'Lars':missvLars, 'KNN':missvKnn, 'Linear':missvReg})\n",
    "tablemissv"
   ]
  },
  {
   "cell_type": "markdown",
   "id": "866f8e51",
   "metadata": {
    "papermill": {
     "duration": 0.029165,
     "end_time": "2023-03-16T22:20:50.594876",
     "exception": false,
     "start_time": "2023-03-16T22:20:50.565711",
     "status": "completed"
    },
    "tags": []
   },
   "source": [
    "# Southern 2023 Predictions"
   ]
  },
  {
   "cell_type": "code",
   "execution_count": 37,
   "id": "7eea0cdb",
   "metadata": {
    "execution": {
     "iopub.execute_input": "2023-03-16T22:20:50.655406Z",
     "iopub.status.busy": "2023-03-16T22:20:50.654631Z",
     "iopub.status.idle": "2023-03-16T22:20:50.665794Z",
     "shell.execute_reply": "2023-03-16T22:20:50.665164Z"
    },
    "papermill": {
     "duration": 0.044053,
     "end_time": "2023-03-16T22:20:50.667574",
     "exception": false,
     "start_time": "2023-03-16T22:20:50.623521",
     "status": "completed"
    },
    "tags": []
   },
   "outputs": [
    {
     "data": {
      "text/plain": [
       "0                Furman\n",
       "1           Chattanooga\n",
       "2               Wofford\n",
       "3               Samford\n",
       "4                   VMI\n",
       "5      Western Carolina\n",
       "6           The Citadel\n",
       "7                Mercer\n",
       "8    East Tennessee St.\n",
       "9        UNC Greensboro\n",
       "Name: Team, dtype: object"
      ]
     },
     "execution_count": 37,
     "metadata": {},
     "output_type": "execute_result"
    }
   ],
   "source": [
    "socon = pd.read_csv('../input/ncaa-tourney-training-data/SouthernConfData.csv')\n",
    "soconTeams = socon.iloc[:,0]\n",
    "soconTeams"
   ]
  },
  {
   "cell_type": "code",
   "execution_count": 38,
   "id": "2ff2d3d6",
   "metadata": {
    "execution": {
     "iopub.execute_input": "2023-03-16T22:20:50.728705Z",
     "iopub.status.busy": "2023-03-16T22:20:50.728327Z",
     "iopub.status.idle": "2023-03-16T22:20:50.733870Z",
     "shell.execute_reply": "2023-03-16T22:20:50.732891Z"
    },
    "papermill": {
     "duration": 0.038917,
     "end_time": "2023-03-16T22:20:50.736213",
     "exception": false,
     "start_time": "2023-03-16T22:20:50.697296",
     "status": "completed"
    },
    "tags": []
   },
   "outputs": [],
   "source": [
    "socon = socon.drop(columns = ['Team', 'Yr']);"
   ]
  },
  {
   "cell_type": "code",
   "execution_count": 39,
   "id": "b639ae3a",
   "metadata": {
    "execution": {
     "iopub.execute_input": "2023-03-16T22:20:50.797193Z",
     "iopub.status.busy": "2023-03-16T22:20:50.796793Z",
     "iopub.status.idle": "2023-03-16T22:20:50.817061Z",
     "shell.execute_reply": "2023-03-16T22:20:50.815442Z"
    },
    "papermill": {
     "duration": 0.054235,
     "end_time": "2023-03-16T22:20:50.819411",
     "exception": false,
     "start_time": "2023-03-16T22:20:50.765176",
     "status": "completed"
    },
    "tags": []
   },
   "outputs": [
    {
     "name": "stderr",
     "output_type": "stream",
     "text": [
      "/opt/conda/lib/python3.7/site-packages/sklearn/base.py:444: UserWarning: X has feature names, but BayesianRidge was fitted without feature names\n",
      "  f\"X has feature names, but {self.__class__.__name__} was fitted without\"\n",
      "/opt/conda/lib/python3.7/site-packages/sklearn/base.py:444: UserWarning: X has feature names, but LassoLars was fitted without feature names\n",
      "  f\"X has feature names, but {self.__class__.__name__} was fitted without\"\n",
      "/opt/conda/lib/python3.7/site-packages/sklearn/base.py:444: UserWarning: X has feature names, but KNeighborsRegressor was fitted without feature names\n",
      "  f\"X has feature names, but {self.__class__.__name__} was fitted without\"\n",
      "/opt/conda/lib/python3.7/site-packages/sklearn/base.py:444: UserWarning: X has feature names, but LinearRegression was fitted without feature names\n",
      "  f\"X has feature names, but {self.__class__.__name__} was fitted without\"\n"
     ]
    },
    {
     "data": {
      "text/html": [
       "<div>\n",
       "<style scoped>\n",
       "    .dataframe tbody tr th:only-of-type {\n",
       "        vertical-align: middle;\n",
       "    }\n",
       "\n",
       "    .dataframe tbody tr th {\n",
       "        vertical-align: top;\n",
       "    }\n",
       "\n",
       "    .dataframe thead th {\n",
       "        text-align: right;\n",
       "    }\n",
       "</style>\n",
       "<table border=\"1\" class=\"dataframe\">\n",
       "  <thead>\n",
       "    <tr style=\"text-align: right;\">\n",
       "      <th></th>\n",
       "      <th>teams</th>\n",
       "      <th>Bay</th>\n",
       "      <th>Lars</th>\n",
       "      <th>KNN</th>\n",
       "      <th>Linear</th>\n",
       "    </tr>\n",
       "  </thead>\n",
       "  <tbody>\n",
       "    <tr>\n",
       "      <th>0</th>\n",
       "      <td>Furman</td>\n",
       "      <td>2.661907</td>\n",
       "      <td>0.434118</td>\n",
       "      <td>0.472779</td>\n",
       "      <td>0.236924</td>\n",
       "    </tr>\n",
       "    <tr>\n",
       "      <th>1</th>\n",
       "      <td>Chattanooga</td>\n",
       "      <td>-2.531227</td>\n",
       "      <td>-1.199767</td>\n",
       "      <td>0.160067</td>\n",
       "      <td>-1.032244</td>\n",
       "    </tr>\n",
       "    <tr>\n",
       "      <th>2</th>\n",
       "      <td>Wofford</td>\n",
       "      <td>-2.442941</td>\n",
       "      <td>1.152142</td>\n",
       "      <td>0.091166</td>\n",
       "      <td>1.163916</td>\n",
       "    </tr>\n",
       "    <tr>\n",
       "      <th>3</th>\n",
       "      <td>Samford</td>\n",
       "      <td>-0.855948</td>\n",
       "      <td>-1.958497</td>\n",
       "      <td>-0.047672</td>\n",
       "      <td>-2.074874</td>\n",
       "    </tr>\n",
       "    <tr>\n",
       "      <th>4</th>\n",
       "      <td>VMI</td>\n",
       "      <td>-8.690923</td>\n",
       "      <td>-2.233997</td>\n",
       "      <td>-0.070592</td>\n",
       "      <td>-2.049494</td>\n",
       "    </tr>\n",
       "    <tr>\n",
       "      <th>5</th>\n",
       "      <td>Western Carolina</td>\n",
       "      <td>-5.143091</td>\n",
       "      <td>0.272811</td>\n",
       "      <td>-0.151795</td>\n",
       "      <td>0.289766</td>\n",
       "    </tr>\n",
       "    <tr>\n",
       "      <th>6</th>\n",
       "      <td>The Citadel</td>\n",
       "      <td>-7.473114</td>\n",
       "      <td>-1.060183</td>\n",
       "      <td>-0.019448</td>\n",
       "      <td>-1.049133</td>\n",
       "    </tr>\n",
       "    <tr>\n",
       "      <th>7</th>\n",
       "      <td>Mercer</td>\n",
       "      <td>-5.092381</td>\n",
       "      <td>-0.951750</td>\n",
       "      <td>-0.227768</td>\n",
       "      <td>-0.986467</td>\n",
       "    </tr>\n",
       "    <tr>\n",
       "      <th>8</th>\n",
       "      <td>East Tennessee St.</td>\n",
       "      <td>-4.546378</td>\n",
       "      <td>-0.387761</td>\n",
       "      <td>-0.290429</td>\n",
       "      <td>-0.354796</td>\n",
       "    </tr>\n",
       "    <tr>\n",
       "      <th>9</th>\n",
       "      <td>UNC Greensboro</td>\n",
       "      <td>-0.857408</td>\n",
       "      <td>-2.315497</td>\n",
       "      <td>-0.092701</td>\n",
       "      <td>-2.379917</td>\n",
       "    </tr>\n",
       "  </tbody>\n",
       "</table>\n",
       "</div>"
      ],
      "text/plain": [
       "                teams       Bay      Lars       KNN    Linear\n",
       "0              Furman  2.661907  0.434118  0.472779  0.236924\n",
       "1         Chattanooga -2.531227 -1.199767  0.160067 -1.032244\n",
       "2             Wofford -2.442941  1.152142  0.091166  1.163916\n",
       "3             Samford -0.855948 -1.958497 -0.047672 -2.074874\n",
       "4                 VMI -8.690923 -2.233997 -0.070592 -2.049494\n",
       "5    Western Carolina -5.143091  0.272811 -0.151795  0.289766\n",
       "6         The Citadel -7.473114 -1.060183 -0.019448 -1.049133\n",
       "7              Mercer -5.092381 -0.951750 -0.227768 -0.986467\n",
       "8  East Tennessee St. -4.546378 -0.387761 -0.290429 -0.354796\n",
       "9      UNC Greensboro -0.857408 -2.315497 -0.092701 -2.379917"
      ]
     },
     "execution_count": 39,
     "metadata": {},
     "output_type": "execute_result"
    }
   ],
   "source": [
    "soconBay = bay.predict(socon)\n",
    "soconLars = lars.predict(socon)\n",
    "soconKnn = knn.predict(socon)\n",
    "soconReg = reg.predict(socon)\n",
    "tablesocon = pd.DataFrame({'teams':soconTeams, 'Bay':soconBay, 'Lars':soconLars, 'KNN':soconKnn, 'Linear':soconReg})\n",
    "tablesocon"
   ]
  },
  {
   "cell_type": "markdown",
   "id": "4eef2789",
   "metadata": {
    "papermill": {
     "duration": 0.02951,
     "end_time": "2023-03-16T22:20:50.880518",
     "exception": false,
     "start_time": "2023-03-16T22:20:50.851008",
     "status": "completed"
    },
    "tags": []
   },
   "source": [
    "# Colonial 2023 Predictions"
   ]
  },
  {
   "cell_type": "code",
   "execution_count": 40,
   "id": "364bcad8",
   "metadata": {
    "execution": {
     "iopub.execute_input": "2023-03-16T22:20:50.941936Z",
     "iopub.status.busy": "2023-03-16T22:20:50.941090Z",
     "iopub.status.idle": "2023-03-16T22:20:50.953748Z",
     "shell.execute_reply": "2023-03-16T22:20:50.952601Z"
    },
    "papermill": {
     "duration": 0.04545,
     "end_time": "2023-03-16T22:20:50.956009",
     "exception": false,
     "start_time": "2023-03-16T22:20:50.910559",
     "status": "completed"
    },
    "tags": []
   },
   "outputs": [
    {
     "data": {
      "text/plain": [
       "0              Northeastern\n",
       "1                    Towson\n",
       "2            UNC Wilmington\n",
       "3     College of Charleston\n",
       "4                      Elon\n",
       "5               Stony Brook\n",
       "6                    Drexel\n",
       "7        North Carolina A&T\n",
       "8                   Hofstra\n",
       "9                  Delaware\n",
       "10                 Monmouth\n",
       "11                  Hampton\n",
       "12           William & Mary\n",
       "Name: Team, dtype: object"
      ]
     },
     "execution_count": 40,
     "metadata": {},
     "output_type": "execute_result"
    }
   ],
   "source": [
    "caa = pd.read_csv('../input/ncaa-tourney-training-data/ColonialConfData.csv')\n",
    "caaTeams = caa.iloc[:,0]\n",
    "caaTeams"
   ]
  },
  {
   "cell_type": "code",
   "execution_count": 41,
   "id": "d927bcd8",
   "metadata": {
    "execution": {
     "iopub.execute_input": "2023-03-16T22:20:51.076239Z",
     "iopub.status.busy": "2023-03-16T22:20:51.075849Z",
     "iopub.status.idle": "2023-03-16T22:20:51.081460Z",
     "shell.execute_reply": "2023-03-16T22:20:51.080454Z"
    },
    "papermill": {
     "duration": 0.039634,
     "end_time": "2023-03-16T22:20:51.083690",
     "exception": false,
     "start_time": "2023-03-16T22:20:51.044056",
     "status": "completed"
    },
    "tags": []
   },
   "outputs": [],
   "source": [
    "caa = caa.drop(columns = ['Team', 'Yr']);"
   ]
  },
  {
   "cell_type": "code",
   "execution_count": 42,
   "id": "efd7941c",
   "metadata": {
    "execution": {
     "iopub.execute_input": "2023-03-16T22:20:51.145431Z",
     "iopub.status.busy": "2023-03-16T22:20:51.144659Z",
     "iopub.status.idle": "2023-03-16T22:20:51.166515Z",
     "shell.execute_reply": "2023-03-16T22:20:51.165431Z"
    },
    "papermill": {
     "duration": 0.055038,
     "end_time": "2023-03-16T22:20:51.168498",
     "exception": false,
     "start_time": "2023-03-16T22:20:51.113460",
     "status": "completed"
    },
    "tags": []
   },
   "outputs": [
    {
     "name": "stderr",
     "output_type": "stream",
     "text": [
      "/opt/conda/lib/python3.7/site-packages/sklearn/base.py:444: UserWarning: X has feature names, but BayesianRidge was fitted without feature names\n",
      "  f\"X has feature names, but {self.__class__.__name__} was fitted without\"\n",
      "/opt/conda/lib/python3.7/site-packages/sklearn/base.py:444: UserWarning: X has feature names, but LassoLars was fitted without feature names\n",
      "  f\"X has feature names, but {self.__class__.__name__} was fitted without\"\n",
      "/opt/conda/lib/python3.7/site-packages/sklearn/base.py:444: UserWarning: X has feature names, but KNeighborsRegressor was fitted without feature names\n",
      "  f\"X has feature names, but {self.__class__.__name__} was fitted without\"\n",
      "/opt/conda/lib/python3.7/site-packages/sklearn/base.py:444: UserWarning: X has feature names, but LinearRegression was fitted without feature names\n",
      "  f\"X has feature names, but {self.__class__.__name__} was fitted without\"\n"
     ]
    },
    {
     "data": {
      "text/html": [
       "<div>\n",
       "<style scoped>\n",
       "    .dataframe tbody tr th:only-of-type {\n",
       "        vertical-align: middle;\n",
       "    }\n",
       "\n",
       "    .dataframe tbody tr th {\n",
       "        vertical-align: top;\n",
       "    }\n",
       "\n",
       "    .dataframe thead th {\n",
       "        text-align: right;\n",
       "    }\n",
       "</style>\n",
       "<table border=\"1\" class=\"dataframe\">\n",
       "  <thead>\n",
       "    <tr style=\"text-align: right;\">\n",
       "      <th></th>\n",
       "      <th>teams</th>\n",
       "      <th>Bay</th>\n",
       "      <th>Lars</th>\n",
       "      <th>KNN</th>\n",
       "      <th>Linear</th>\n",
       "    </tr>\n",
       "  </thead>\n",
       "  <tbody>\n",
       "    <tr>\n",
       "      <th>0</th>\n",
       "      <td>Northeastern</td>\n",
       "      <td>-6.289396</td>\n",
       "      <td>1.105674</td>\n",
       "      <td>-0.257496</td>\n",
       "      <td>1.203720</td>\n",
       "    </tr>\n",
       "    <tr>\n",
       "      <th>1</th>\n",
       "      <td>Towson</td>\n",
       "      <td>0.243648</td>\n",
       "      <td>-1.175742</td>\n",
       "      <td>0.093811</td>\n",
       "      <td>-1.269234</td>\n",
       "    </tr>\n",
       "    <tr>\n",
       "      <th>2</th>\n",
       "      <td>UNC Wilmington</td>\n",
       "      <td>-2.078673</td>\n",
       "      <td>2.397494</td>\n",
       "      <td>0.250543</td>\n",
       "      <td>2.363702</td>\n",
       "    </tr>\n",
       "    <tr>\n",
       "      <th>3</th>\n",
       "      <td>College of Charleston</td>\n",
       "      <td>4.084347</td>\n",
       "      <td>0.615977</td>\n",
       "      <td>1.991346</td>\n",
       "      <td>0.535661</td>\n",
       "    </tr>\n",
       "    <tr>\n",
       "      <th>4</th>\n",
       "      <td>Elon</td>\n",
       "      <td>-7.680888</td>\n",
       "      <td>-2.133236</td>\n",
       "      <td>-0.048970</td>\n",
       "      <td>-2.199792</td>\n",
       "    </tr>\n",
       "    <tr>\n",
       "      <th>5</th>\n",
       "      <td>Stony Brook</td>\n",
       "      <td>-8.755252</td>\n",
       "      <td>-2.592651</td>\n",
       "      <td>-0.238205</td>\n",
       "      <td>-2.666170</td>\n",
       "    </tr>\n",
       "    <tr>\n",
       "      <th>6</th>\n",
       "      <td>Drexel</td>\n",
       "      <td>-3.248016</td>\n",
       "      <td>-0.848643</td>\n",
       "      <td>-0.318412</td>\n",
       "      <td>-0.744313</td>\n",
       "    </tr>\n",
       "    <tr>\n",
       "      <th>7</th>\n",
       "      <td>North Carolina A&amp;T</td>\n",
       "      <td>-6.541852</td>\n",
       "      <td>-0.355076</td>\n",
       "      <td>-0.034023</td>\n",
       "      <td>-0.348707</td>\n",
       "    </tr>\n",
       "    <tr>\n",
       "      <th>8</th>\n",
       "      <td>Hofstra</td>\n",
       "      <td>2.511130</td>\n",
       "      <td>-0.549051</td>\n",
       "      <td>0.795984</td>\n",
       "      <td>-0.621100</td>\n",
       "    </tr>\n",
       "    <tr>\n",
       "      <th>9</th>\n",
       "      <td>Delaware</td>\n",
       "      <td>-4.073842</td>\n",
       "      <td>-0.626566</td>\n",
       "      <td>-0.083550</td>\n",
       "      <td>-0.571598</td>\n",
       "    </tr>\n",
       "    <tr>\n",
       "      <th>10</th>\n",
       "      <td>Monmouth</td>\n",
       "      <td>-10.537534</td>\n",
       "      <td>-4.553312</td>\n",
       "      <td>-0.377304</td>\n",
       "      <td>-4.555263</td>\n",
       "    </tr>\n",
       "    <tr>\n",
       "      <th>11</th>\n",
       "      <td>Hampton</td>\n",
       "      <td>-9.529562</td>\n",
       "      <td>-4.342753</td>\n",
       "      <td>-0.039188</td>\n",
       "      <td>-4.331118</td>\n",
       "    </tr>\n",
       "    <tr>\n",
       "      <th>12</th>\n",
       "      <td>William &amp; Mary</td>\n",
       "      <td>-5.676647</td>\n",
       "      <td>0.570621</td>\n",
       "      <td>-0.037123</td>\n",
       "      <td>0.495297</td>\n",
       "    </tr>\n",
       "  </tbody>\n",
       "</table>\n",
       "</div>"
      ],
      "text/plain": [
       "                    teams        Bay      Lars       KNN    Linear\n",
       "0            Northeastern  -6.289396  1.105674 -0.257496  1.203720\n",
       "1                  Towson   0.243648 -1.175742  0.093811 -1.269234\n",
       "2          UNC Wilmington  -2.078673  2.397494  0.250543  2.363702\n",
       "3   College of Charleston   4.084347  0.615977  1.991346  0.535661\n",
       "4                    Elon  -7.680888 -2.133236 -0.048970 -2.199792\n",
       "5             Stony Brook  -8.755252 -2.592651 -0.238205 -2.666170\n",
       "6                  Drexel  -3.248016 -0.848643 -0.318412 -0.744313\n",
       "7      North Carolina A&T  -6.541852 -0.355076 -0.034023 -0.348707\n",
       "8                 Hofstra   2.511130 -0.549051  0.795984 -0.621100\n",
       "9                Delaware  -4.073842 -0.626566 -0.083550 -0.571598\n",
       "10               Monmouth -10.537534 -4.553312 -0.377304 -4.555263\n",
       "11                Hampton  -9.529562 -4.342753 -0.039188 -4.331118\n",
       "12         William & Mary  -5.676647  0.570621 -0.037123  0.495297"
      ]
     },
     "execution_count": 42,
     "metadata": {},
     "output_type": "execute_result"
    }
   ],
   "source": [
    "caaBay = bay.predict(caa)\n",
    "caaLars = lars.predict(caa)\n",
    "caaKnn = knn.predict(caa)\n",
    "caaReg = reg.predict(caa)\n",
    "tablecaa = pd.DataFrame({'teams':caaTeams, 'Bay':caaBay, 'Lars':caaLars, 'KNN':caaKnn, 'Linear':caaReg})\n",
    "tablecaa"
   ]
  },
  {
   "cell_type": "markdown",
   "id": "de168eb0",
   "metadata": {
    "papermill": {
     "duration": 0.030411,
     "end_time": "2023-03-16T22:20:51.229497",
     "exception": false,
     "start_time": "2023-03-16T22:20:51.199086",
     "status": "completed"
    },
    "tags": []
   },
   "source": [
    "# Summit League 2023 Predictions"
   ]
  },
  {
   "cell_type": "code",
   "execution_count": 43,
   "id": "48b4996c",
   "metadata": {
    "execution": {
     "iopub.execute_input": "2023-03-16T22:20:51.291724Z",
     "iopub.status.busy": "2023-03-16T22:20:51.291372Z",
     "iopub.status.idle": "2023-03-16T22:20:51.302688Z",
     "shell.execute_reply": "2023-03-16T22:20:51.301895Z"
    },
    "papermill": {
     "duration": 0.044772,
     "end_time": "2023-03-16T22:20:51.304454",
     "exception": false,
     "start_time": "2023-03-16T22:20:51.259682",
     "status": "completed"
    },
    "tags": []
   },
   "outputs": [
    {
     "data": {
      "text/plain": [
       "0              Denver\n",
       "1                UMKC\n",
       "2        Oral Roberts\n",
       "3    Western Illinois\n",
       "4      Nebraska Omaha\n",
       "5        South Dakota\n",
       "6          St. Thomas\n",
       "7        North Dakota\n",
       "8    South Dakota St.\n",
       "9    North Dakota St.\n",
       "Name: Team, dtype: object"
      ]
     },
     "execution_count": 43,
     "metadata": {},
     "output_type": "execute_result"
    }
   ],
   "source": [
    "summit = pd.read_csv('../input/ncaa-tourney-training-data/SumConfData.csv')\n",
    "summitTeams = summit.iloc[:,0]\n",
    "summitTeams"
   ]
  },
  {
   "cell_type": "code",
   "execution_count": 44,
   "id": "2f3cbeff",
   "metadata": {
    "execution": {
     "iopub.execute_input": "2023-03-16T22:20:51.365899Z",
     "iopub.status.busy": "2023-03-16T22:20:51.365542Z",
     "iopub.status.idle": "2023-03-16T22:20:51.371043Z",
     "shell.execute_reply": "2023-03-16T22:20:51.370057Z"
    },
    "papermill": {
     "duration": 0.038166,
     "end_time": "2023-03-16T22:20:51.372950",
     "exception": false,
     "start_time": "2023-03-16T22:20:51.334784",
     "status": "completed"
    },
    "tags": []
   },
   "outputs": [],
   "source": [
    "summit = summit.drop(columns = ['Team', 'Yr']);"
   ]
  },
  {
   "cell_type": "code",
   "execution_count": 45,
   "id": "1d41e633",
   "metadata": {
    "execution": {
     "iopub.execute_input": "2023-03-16T22:20:51.434175Z",
     "iopub.status.busy": "2023-03-16T22:20:51.433762Z",
     "iopub.status.idle": "2023-03-16T22:20:51.455465Z",
     "shell.execute_reply": "2023-03-16T22:20:51.454174Z"
    },
    "papermill": {
     "duration": 0.054549,
     "end_time": "2023-03-16T22:20:51.457600",
     "exception": false,
     "start_time": "2023-03-16T22:20:51.403051",
     "status": "completed"
    },
    "tags": []
   },
   "outputs": [
    {
     "name": "stderr",
     "output_type": "stream",
     "text": [
      "/opt/conda/lib/python3.7/site-packages/sklearn/base.py:444: UserWarning: X has feature names, but BayesianRidge was fitted without feature names\n",
      "  f\"X has feature names, but {self.__class__.__name__} was fitted without\"\n",
      "/opt/conda/lib/python3.7/site-packages/sklearn/base.py:444: UserWarning: X has feature names, but LassoLars was fitted without feature names\n",
      "  f\"X has feature names, but {self.__class__.__name__} was fitted without\"\n",
      "/opt/conda/lib/python3.7/site-packages/sklearn/base.py:444: UserWarning: X has feature names, but KNeighborsRegressor was fitted without feature names\n",
      "  f\"X has feature names, but {self.__class__.__name__} was fitted without\"\n",
      "/opt/conda/lib/python3.7/site-packages/sklearn/base.py:444: UserWarning: X has feature names, but LinearRegression was fitted without feature names\n",
      "  f\"X has feature names, but {self.__class__.__name__} was fitted without\"\n"
     ]
    },
    {
     "data": {
      "text/html": [
       "<div>\n",
       "<style scoped>\n",
       "    .dataframe tbody tr th:only-of-type {\n",
       "        vertical-align: middle;\n",
       "    }\n",
       "\n",
       "    .dataframe tbody tr th {\n",
       "        vertical-align: top;\n",
       "    }\n",
       "\n",
       "    .dataframe thead th {\n",
       "        text-align: right;\n",
       "    }\n",
       "</style>\n",
       "<table border=\"1\" class=\"dataframe\">\n",
       "  <thead>\n",
       "    <tr style=\"text-align: right;\">\n",
       "      <th></th>\n",
       "      <th>teams</th>\n",
       "      <th>Bay</th>\n",
       "      <th>Lars</th>\n",
       "      <th>KNN</th>\n",
       "      <th>Linear</th>\n",
       "    </tr>\n",
       "  </thead>\n",
       "  <tbody>\n",
       "    <tr>\n",
       "      <th>0</th>\n",
       "      <td>Denver</td>\n",
       "      <td>-4.939178</td>\n",
       "      <td>0.604064</td>\n",
       "      <td>-0.269743</td>\n",
       "      <td>0.744898</td>\n",
       "    </tr>\n",
       "    <tr>\n",
       "      <th>1</th>\n",
       "      <td>UMKC</td>\n",
       "      <td>-7.538404</td>\n",
       "      <td>-2.011280</td>\n",
       "      <td>-0.075568</td>\n",
       "      <td>-1.980626</td>\n",
       "    </tr>\n",
       "    <tr>\n",
       "      <th>2</th>\n",
       "      <td>Oral Roberts</td>\n",
       "      <td>3.581017</td>\n",
       "      <td>-0.576578</td>\n",
       "      <td>0.815247</td>\n",
       "      <td>-0.739893</td>\n",
       "    </tr>\n",
       "    <tr>\n",
       "      <th>3</th>\n",
       "      <td>Western Illinois</td>\n",
       "      <td>-4.526608</td>\n",
       "      <td>0.937683</td>\n",
       "      <td>-0.028382</td>\n",
       "      <td>0.795851</td>\n",
       "    </tr>\n",
       "    <tr>\n",
       "      <th>4</th>\n",
       "      <td>Nebraska Omaha</td>\n",
       "      <td>-7.791016</td>\n",
       "      <td>-1.502909</td>\n",
       "      <td>-0.028275</td>\n",
       "      <td>-1.601298</td>\n",
       "    </tr>\n",
       "    <tr>\n",
       "      <th>5</th>\n",
       "      <td>South Dakota</td>\n",
       "      <td>-5.905962</td>\n",
       "      <td>0.648035</td>\n",
       "      <td>0.009359</td>\n",
       "      <td>0.711075</td>\n",
       "    </tr>\n",
       "    <tr>\n",
       "      <th>6</th>\n",
       "      <td>St. Thomas</td>\n",
       "      <td>-2.260107</td>\n",
       "      <td>0.160398</td>\n",
       "      <td>0.198190</td>\n",
       "      <td>0.166156</td>\n",
       "    </tr>\n",
       "    <tr>\n",
       "      <th>7</th>\n",
       "      <td>North Dakota</td>\n",
       "      <td>-5.767148</td>\n",
       "      <td>0.238696</td>\n",
       "      <td>-0.013621</td>\n",
       "      <td>0.286747</td>\n",
       "    </tr>\n",
       "    <tr>\n",
       "      <th>8</th>\n",
       "      <td>South Dakota St.</td>\n",
       "      <td>-1.585549</td>\n",
       "      <td>1.853638</td>\n",
       "      <td>0.150479</td>\n",
       "      <td>1.858832</td>\n",
       "    </tr>\n",
       "    <tr>\n",
       "      <th>9</th>\n",
       "      <td>North Dakota St.</td>\n",
       "      <td>-4.294014</td>\n",
       "      <td>-0.971199</td>\n",
       "      <td>0.042282</td>\n",
       "      <td>-0.966467</td>\n",
       "    </tr>\n",
       "  </tbody>\n",
       "</table>\n",
       "</div>"
      ],
      "text/plain": [
       "              teams       Bay      Lars       KNN    Linear\n",
       "0            Denver -4.939178  0.604064 -0.269743  0.744898\n",
       "1              UMKC -7.538404 -2.011280 -0.075568 -1.980626\n",
       "2      Oral Roberts  3.581017 -0.576578  0.815247 -0.739893\n",
       "3  Western Illinois -4.526608  0.937683 -0.028382  0.795851\n",
       "4    Nebraska Omaha -7.791016 -1.502909 -0.028275 -1.601298\n",
       "5      South Dakota -5.905962  0.648035  0.009359  0.711075\n",
       "6        St. Thomas -2.260107  0.160398  0.198190  0.166156\n",
       "7      North Dakota -5.767148  0.238696 -0.013621  0.286747\n",
       "8  South Dakota St. -1.585549  1.853638  0.150479  1.858832\n",
       "9  North Dakota St. -4.294014 -0.971199  0.042282 -0.966467"
      ]
     },
     "execution_count": 45,
     "metadata": {},
     "output_type": "execute_result"
    }
   ],
   "source": [
    "summitBay = bay.predict(summit)\n",
    "summitLars = lars.predict(summit)\n",
    "summitKnn = knn.predict(summit)\n",
    "summitReg = reg.predict(summit)\n",
    "tablesummit = pd.DataFrame({'teams':summitTeams, 'Bay':summitBay, 'Lars':summitLars, 'KNN':summitKnn, 'Linear':summitReg})\n",
    "tablesummit"
   ]
  },
  {
   "cell_type": "markdown",
   "id": "e36afa9c",
   "metadata": {
    "papermill": {
     "duration": 0.030862,
     "end_time": "2023-03-16T22:20:51.520047",
     "exception": false,
     "start_time": "2023-03-16T22:20:51.489185",
     "status": "completed"
    },
    "tags": []
   },
   "source": [
    "# American East 2023 Predictions"
   ]
  },
  {
   "cell_type": "code",
   "execution_count": 46,
   "id": "999d3792",
   "metadata": {
    "execution": {
     "iopub.execute_input": "2023-03-16T22:20:51.583561Z",
     "iopub.status.busy": "2023-03-16T22:20:51.583206Z",
     "iopub.status.idle": "2023-03-16T22:20:51.595675Z",
     "shell.execute_reply": "2023-03-16T22:20:51.594514Z"
    },
    "papermill": {
     "duration": 0.046488,
     "end_time": "2023-03-16T22:20:51.597728",
     "exception": false,
     "start_time": "2023-03-16T22:20:51.551240",
     "status": "completed"
    },
    "tags": []
   },
   "outputs": [
    {
     "data": {
      "text/plain": [
       "0            Maine\n",
       "1             NJIT\n",
       "2             UMBC\n",
       "3     UMass Lowell\n",
       "4    New Hampshire\n",
       "5          Vermont\n",
       "6           Albany\n",
       "7           Bryant\n",
       "8       Binghamton\n",
       "Name: Team, dtype: object"
      ]
     },
     "execution_count": 46,
     "metadata": {},
     "output_type": "execute_result"
    }
   ],
   "source": [
    "ameast = pd.read_csv('../input/ncaa-tourney-training-data/AmEastConfData.csv')\n",
    "ameastTeams = ameast.iloc[:,0]\n",
    "ameastTeams"
   ]
  },
  {
   "cell_type": "code",
   "execution_count": 47,
   "id": "a5cb08ea",
   "metadata": {
    "execution": {
     "iopub.execute_input": "2023-03-16T22:20:51.662062Z",
     "iopub.status.busy": "2023-03-16T22:20:51.661621Z",
     "iopub.status.idle": "2023-03-16T22:20:51.667274Z",
     "shell.execute_reply": "2023-03-16T22:20:51.666327Z"
    },
    "papermill": {
     "duration": 0.04007,
     "end_time": "2023-03-16T22:20:51.669293",
     "exception": false,
     "start_time": "2023-03-16T22:20:51.629223",
     "status": "completed"
    },
    "tags": []
   },
   "outputs": [],
   "source": [
    "ameast = ameast.drop(columns = ['Team', 'Yr']);"
   ]
  },
  {
   "cell_type": "code",
   "execution_count": 48,
   "id": "561864b1",
   "metadata": {
    "execution": {
     "iopub.execute_input": "2023-03-16T22:20:51.733346Z",
     "iopub.status.busy": "2023-03-16T22:20:51.732969Z",
     "iopub.status.idle": "2023-03-16T22:20:51.754598Z",
     "shell.execute_reply": "2023-03-16T22:20:51.753252Z"
    },
    "papermill": {
     "duration": 0.05655,
     "end_time": "2023-03-16T22:20:51.757089",
     "exception": false,
     "start_time": "2023-03-16T22:20:51.700539",
     "status": "completed"
    },
    "tags": []
   },
   "outputs": [
    {
     "name": "stderr",
     "output_type": "stream",
     "text": [
      "/opt/conda/lib/python3.7/site-packages/sklearn/base.py:444: UserWarning: X has feature names, but BayesianRidge was fitted without feature names\n",
      "  f\"X has feature names, but {self.__class__.__name__} was fitted without\"\n",
      "/opt/conda/lib/python3.7/site-packages/sklearn/base.py:444: UserWarning: X has feature names, but LassoLars was fitted without feature names\n",
      "  f\"X has feature names, but {self.__class__.__name__} was fitted without\"\n",
      "/opt/conda/lib/python3.7/site-packages/sklearn/base.py:444: UserWarning: X has feature names, but KNeighborsRegressor was fitted without feature names\n",
      "  f\"X has feature names, but {self.__class__.__name__} was fitted without\"\n",
      "/opt/conda/lib/python3.7/site-packages/sklearn/base.py:444: UserWarning: X has feature names, but LinearRegression was fitted without feature names\n",
      "  f\"X has feature names, but {self.__class__.__name__} was fitted without\"\n"
     ]
    },
    {
     "data": {
      "text/html": [
       "<div>\n",
       "<style scoped>\n",
       "    .dataframe tbody tr th:only-of-type {\n",
       "        vertical-align: middle;\n",
       "    }\n",
       "\n",
       "    .dataframe tbody tr th {\n",
       "        vertical-align: top;\n",
       "    }\n",
       "\n",
       "    .dataframe thead th {\n",
       "        text-align: right;\n",
       "    }\n",
       "</style>\n",
       "<table border=\"1\" class=\"dataframe\">\n",
       "  <thead>\n",
       "    <tr style=\"text-align: right;\">\n",
       "      <th></th>\n",
       "      <th>teams</th>\n",
       "      <th>Bay</th>\n",
       "      <th>Lars</th>\n",
       "      <th>KNN</th>\n",
       "      <th>Linear</th>\n",
       "    </tr>\n",
       "  </thead>\n",
       "  <tbody>\n",
       "    <tr>\n",
       "      <th>0</th>\n",
       "      <td>Maine</td>\n",
       "      <td>-4.545401</td>\n",
       "      <td>3.199861</td>\n",
       "      <td>0.012832</td>\n",
       "      <td>3.203718</td>\n",
       "    </tr>\n",
       "    <tr>\n",
       "      <th>1</th>\n",
       "      <td>NJIT</td>\n",
       "      <td>-7.909765</td>\n",
       "      <td>-1.419875</td>\n",
       "      <td>-0.076236</td>\n",
       "      <td>-1.519010</td>\n",
       "    </tr>\n",
       "    <tr>\n",
       "      <th>2</th>\n",
       "      <td>UMBC</td>\n",
       "      <td>-2.975646</td>\n",
       "      <td>0.127112</td>\n",
       "      <td>0.143777</td>\n",
       "      <td>0.078732</td>\n",
       "    </tr>\n",
       "    <tr>\n",
       "      <th>3</th>\n",
       "      <td>UMass Lowell</td>\n",
       "      <td>1.290963</td>\n",
       "      <td>0.071666</td>\n",
       "      <td>0.432874</td>\n",
       "      <td>0.156800</td>\n",
       "    </tr>\n",
       "    <tr>\n",
       "      <th>4</th>\n",
       "      <td>New Hampshire</td>\n",
       "      <td>-5.686340</td>\n",
       "      <td>1.556602</td>\n",
       "      <td>-0.097206</td>\n",
       "      <td>1.549406</td>\n",
       "    </tr>\n",
       "    <tr>\n",
       "      <th>5</th>\n",
       "      <td>Vermont</td>\n",
       "      <td>-0.372243</td>\n",
       "      <td>-1.812842</td>\n",
       "      <td>0.511176</td>\n",
       "      <td>-1.850445</td>\n",
       "    </tr>\n",
       "    <tr>\n",
       "      <th>6</th>\n",
       "      <td>Albany</td>\n",
       "      <td>-8.892165</td>\n",
       "      <td>-3.147398</td>\n",
       "      <td>-0.093932</td>\n",
       "      <td>-3.165698</td>\n",
       "    </tr>\n",
       "    <tr>\n",
       "      <th>7</th>\n",
       "      <td>Bryant</td>\n",
       "      <td>-2.700233</td>\n",
       "      <td>0.506686</td>\n",
       "      <td>-0.096864</td>\n",
       "      <td>0.477125</td>\n",
       "    </tr>\n",
       "    <tr>\n",
       "      <th>8</th>\n",
       "      <td>Binghamton</td>\n",
       "      <td>-5.969770</td>\n",
       "      <td>1.014785</td>\n",
       "      <td>-0.074426</td>\n",
       "      <td>1.078599</td>\n",
       "    </tr>\n",
       "  </tbody>\n",
       "</table>\n",
       "</div>"
      ],
      "text/plain": [
       "           teams       Bay      Lars       KNN    Linear\n",
       "0          Maine -4.545401  3.199861  0.012832  3.203718\n",
       "1           NJIT -7.909765 -1.419875 -0.076236 -1.519010\n",
       "2           UMBC -2.975646  0.127112  0.143777  0.078732\n",
       "3   UMass Lowell  1.290963  0.071666  0.432874  0.156800\n",
       "4  New Hampshire -5.686340  1.556602 -0.097206  1.549406\n",
       "5        Vermont -0.372243 -1.812842  0.511176 -1.850445\n",
       "6         Albany -8.892165 -3.147398 -0.093932 -3.165698\n",
       "7         Bryant -2.700233  0.506686 -0.096864  0.477125\n",
       "8     Binghamton -5.969770  1.014785 -0.074426  1.078599"
      ]
     },
     "execution_count": 48,
     "metadata": {},
     "output_type": "execute_result"
    }
   ],
   "source": [
    "ameastBay = bay.predict(ameast)\n",
    "ameastLars = lars.predict(ameast)\n",
    "ameastKnn = knn.predict(ameast)\n",
    "ameastReg = reg.predict(ameast)\n",
    "tableameast = pd.DataFrame({'teams':ameastTeams, 'Bay':ameastBay, 'Lars':ameastLars, 'KNN':ameastKnn, 'Linear':ameastReg})\n",
    "tableameast"
   ]
  },
  {
   "cell_type": "markdown",
   "id": "9d42522c",
   "metadata": {
    "papermill": {
     "duration": 0.030258,
     "end_time": "2023-03-16T22:20:51.818277",
     "exception": false,
     "start_time": "2023-03-16T22:20:51.788019",
     "status": "completed"
    },
    "tags": []
   },
   "source": [
    "# Big Sky 2023 Predictions"
   ]
  },
  {
   "cell_type": "code",
   "execution_count": 49,
   "id": "ac2063f7",
   "metadata": {
    "execution": {
     "iopub.execute_input": "2023-03-16T22:20:51.882892Z",
     "iopub.status.busy": "2023-03-16T22:20:51.882343Z",
     "iopub.status.idle": "2023-03-16T22:20:51.896972Z",
     "shell.execute_reply": "2023-03-16T22:20:51.895272Z"
    },
    "papermill": {
     "duration": 0.050405,
     "end_time": "2023-03-16T22:20:51.899181",
     "exception": false,
     "start_time": "2023-03-16T22:20:51.848776",
     "status": "completed"
    },
    "tags": []
   },
   "outputs": [
    {
     "data": {
      "text/plain": [
       "0          Portland St.\n",
       "1             Weber St.\n",
       "2      Northern Arizona\n",
       "3           Montana St.\n",
       "4    Eastern Washington\n",
       "5             Idaho St.\n",
       "6                 Idaho\n",
       "7     Northern Colorado\n",
       "8               Montana\n",
       "9        Sacramento St.\n",
       "Name: Team, dtype: object"
      ]
     },
     "execution_count": 49,
     "metadata": {},
     "output_type": "execute_result"
    }
   ],
   "source": [
    "bsky = pd.read_csv('../input/ncaa-tourney-training-data/BSkyConfData.csv')\n",
    "bskyTeams = bsky.iloc[:,0]\n",
    "bskyTeams"
   ]
  },
  {
   "cell_type": "code",
   "execution_count": 50,
   "id": "9c304452",
   "metadata": {
    "execution": {
     "iopub.execute_input": "2023-03-16T22:20:51.961740Z",
     "iopub.status.busy": "2023-03-16T22:20:51.961400Z",
     "iopub.status.idle": "2023-03-16T22:20:51.968072Z",
     "shell.execute_reply": "2023-03-16T22:20:51.967086Z"
    },
    "papermill": {
     "duration": 0.040354,
     "end_time": "2023-03-16T22:20:51.970237",
     "exception": false,
     "start_time": "2023-03-16T22:20:51.929883",
     "status": "completed"
    },
    "tags": []
   },
   "outputs": [],
   "source": [
    "bsky = bsky.drop(columns = ['Team', 'Yr']);"
   ]
  },
  {
   "cell_type": "code",
   "execution_count": 51,
   "id": "ad1f727b",
   "metadata": {
    "execution": {
     "iopub.execute_input": "2023-03-16T22:20:52.032764Z",
     "iopub.status.busy": "2023-03-16T22:20:52.032169Z",
     "iopub.status.idle": "2023-03-16T22:20:52.052103Z",
     "shell.execute_reply": "2023-03-16T22:20:52.050984Z"
    },
    "papermill": {
     "duration": 0.053468,
     "end_time": "2023-03-16T22:20:52.053943",
     "exception": false,
     "start_time": "2023-03-16T22:20:52.000475",
     "status": "completed"
    },
    "tags": []
   },
   "outputs": [
    {
     "name": "stderr",
     "output_type": "stream",
     "text": [
      "/opt/conda/lib/python3.7/site-packages/sklearn/base.py:444: UserWarning: X has feature names, but BayesianRidge was fitted without feature names\n",
      "  f\"X has feature names, but {self.__class__.__name__} was fitted without\"\n",
      "/opt/conda/lib/python3.7/site-packages/sklearn/base.py:444: UserWarning: X has feature names, but LassoLars was fitted without feature names\n",
      "  f\"X has feature names, but {self.__class__.__name__} was fitted without\"\n",
      "/opt/conda/lib/python3.7/site-packages/sklearn/base.py:444: UserWarning: X has feature names, but KNeighborsRegressor was fitted without feature names\n",
      "  f\"X has feature names, but {self.__class__.__name__} was fitted without\"\n",
      "/opt/conda/lib/python3.7/site-packages/sklearn/base.py:444: UserWarning: X has feature names, but LinearRegression was fitted without feature names\n",
      "  f\"X has feature names, but {self.__class__.__name__} was fitted without\"\n"
     ]
    },
    {
     "data": {
      "text/html": [
       "<div>\n",
       "<style scoped>\n",
       "    .dataframe tbody tr th:only-of-type {\n",
       "        vertical-align: middle;\n",
       "    }\n",
       "\n",
       "    .dataframe tbody tr th {\n",
       "        vertical-align: top;\n",
       "    }\n",
       "\n",
       "    .dataframe thead th {\n",
       "        text-align: right;\n",
       "    }\n",
       "</style>\n",
       "<table border=\"1\" class=\"dataframe\">\n",
       "  <thead>\n",
       "    <tr style=\"text-align: right;\">\n",
       "      <th></th>\n",
       "      <th>teams</th>\n",
       "      <th>Bay</th>\n",
       "      <th>Lars</th>\n",
       "      <th>KNN</th>\n",
       "      <th>Linear</th>\n",
       "    </tr>\n",
       "  </thead>\n",
       "  <tbody>\n",
       "    <tr>\n",
       "      <th>0</th>\n",
       "      <td>Portland St.</td>\n",
       "      <td>-5.513166</td>\n",
       "      <td>1.348368</td>\n",
       "      <td>0.278080</td>\n",
       "      <td>1.380859</td>\n",
       "    </tr>\n",
       "    <tr>\n",
       "      <th>1</th>\n",
       "      <td>Weber St.</td>\n",
       "      <td>-4.678903</td>\n",
       "      <td>0.841792</td>\n",
       "      <td>-0.037414</td>\n",
       "      <td>0.799888</td>\n",
       "    </tr>\n",
       "    <tr>\n",
       "      <th>2</th>\n",
       "      <td>Northern Arizona</td>\n",
       "      <td>-5.642832</td>\n",
       "      <td>0.330130</td>\n",
       "      <td>0.009463</td>\n",
       "      <td>0.335551</td>\n",
       "    </tr>\n",
       "    <tr>\n",
       "      <th>3</th>\n",
       "      <td>Montana St.</td>\n",
       "      <td>-1.434138</td>\n",
       "      <td>-2.534417</td>\n",
       "      <td>0.004847</td>\n",
       "      <td>-2.426607</td>\n",
       "    </tr>\n",
       "    <tr>\n",
       "      <th>4</th>\n",
       "      <td>Eastern Washington</td>\n",
       "      <td>1.227788</td>\n",
       "      <td>0.602602</td>\n",
       "      <td>0.087976</td>\n",
       "      <td>0.547538</td>\n",
       "    </tr>\n",
       "    <tr>\n",
       "      <th>5</th>\n",
       "      <td>Idaho St.</td>\n",
       "      <td>-5.495171</td>\n",
       "      <td>-0.862720</td>\n",
       "      <td>-0.026823</td>\n",
       "      <td>-0.935908</td>\n",
       "    </tr>\n",
       "    <tr>\n",
       "      <th>6</th>\n",
       "      <td>Idaho</td>\n",
       "      <td>-7.876632</td>\n",
       "      <td>-2.418510</td>\n",
       "      <td>-0.018482</td>\n",
       "      <td>-2.325823</td>\n",
       "    </tr>\n",
       "    <tr>\n",
       "      <th>7</th>\n",
       "      <td>Northern Colorado</td>\n",
       "      <td>-4.246197</td>\n",
       "      <td>0.237072</td>\n",
       "      <td>0.062094</td>\n",
       "      <td>0.183601</td>\n",
       "    </tr>\n",
       "    <tr>\n",
       "      <th>8</th>\n",
       "      <td>Montana</td>\n",
       "      <td>-1.582655</td>\n",
       "      <td>0.583425</td>\n",
       "      <td>0.564610</td>\n",
       "      <td>0.554600</td>\n",
       "    </tr>\n",
       "    <tr>\n",
       "      <th>9</th>\n",
       "      <td>Sacramento St.</td>\n",
       "      <td>-4.075184</td>\n",
       "      <td>1.347171</td>\n",
       "      <td>-0.219419</td>\n",
       "      <td>1.382015</td>\n",
       "    </tr>\n",
       "  </tbody>\n",
       "</table>\n",
       "</div>"
      ],
      "text/plain": [
       "                teams       Bay      Lars       KNN    Linear\n",
       "0        Portland St. -5.513166  1.348368  0.278080  1.380859\n",
       "1           Weber St. -4.678903  0.841792 -0.037414  0.799888\n",
       "2    Northern Arizona -5.642832  0.330130  0.009463  0.335551\n",
       "3         Montana St. -1.434138 -2.534417  0.004847 -2.426607\n",
       "4  Eastern Washington  1.227788  0.602602  0.087976  0.547538\n",
       "5           Idaho St. -5.495171 -0.862720 -0.026823 -0.935908\n",
       "6               Idaho -7.876632 -2.418510 -0.018482 -2.325823\n",
       "7   Northern Colorado -4.246197  0.237072  0.062094  0.183601\n",
       "8             Montana -1.582655  0.583425  0.564610  0.554600\n",
       "9      Sacramento St. -4.075184  1.347171 -0.219419  1.382015"
      ]
     },
     "execution_count": 51,
     "metadata": {},
     "output_type": "execute_result"
    }
   ],
   "source": [
    "bskyBay = bay.predict(bsky)\n",
    "bskyLars = lars.predict(bsky)\n",
    "bskyKnn = knn.predict(bsky)\n",
    "bskyReg = reg.predict(bsky)\n",
    "tablebsky = pd.DataFrame({'teams':bskyTeams, 'Bay':bskyBay, 'Lars':bskyLars, 'KNN':bskyKnn, 'Linear':bskyReg})\n",
    "tablebsky"
   ]
  },
  {
   "cell_type": "markdown",
   "id": "f85be784",
   "metadata": {
    "papermill": {
     "duration": 0.030671,
     "end_time": "2023-03-16T22:20:52.114767",
     "exception": false,
     "start_time": "2023-03-16T22:20:52.084096",
     "status": "completed"
    },
    "tags": []
   },
   "source": [
    "# Southland 2023 Predictions"
   ]
  },
  {
   "cell_type": "code",
   "execution_count": 52,
   "id": "8c4d7125",
   "metadata": {
    "execution": {
     "iopub.execute_input": "2023-03-16T22:20:52.176892Z",
     "iopub.status.busy": "2023-03-16T22:20:52.176421Z",
     "iopub.status.idle": "2023-03-16T22:20:52.189495Z",
     "shell.execute_reply": "2023-03-16T22:20:52.188520Z"
    },
    "papermill": {
     "duration": 0.046364,
     "end_time": "2023-03-16T22:20:52.191477",
     "exception": false,
     "start_time": "2023-03-16T22:20:52.145113",
     "status": "completed"
    },
    "tags": []
   },
   "outputs": [
    {
     "data": {
      "text/plain": [
       "0            Incarnate Word\n",
       "1        Texas A&M Commerce\n",
       "2               New Orleans\n",
       "3                     Lamar\n",
       "4    Southeastern Louisiana\n",
       "5    Texas A&M Corpus Chris\n",
       "6         Houston Christian\n",
       "7               McNeese St.\n",
       "8          Northwestern St.\n",
       "9              Nicholls St.\n",
       "Name: Team, dtype: object"
      ]
     },
     "execution_count": 52,
     "metadata": {},
     "output_type": "execute_result"
    }
   ],
   "source": [
    "sland = pd.read_csv('../input/ncaa-tourney-training-data/SLandConfData.csv')\n",
    "slandTeams = sland.iloc[:,0]\n",
    "slandTeams"
   ]
  },
  {
   "cell_type": "code",
   "execution_count": 53,
   "id": "7c023272",
   "metadata": {
    "execution": {
     "iopub.execute_input": "2023-03-16T22:20:52.255719Z",
     "iopub.status.busy": "2023-03-16T22:20:52.255012Z",
     "iopub.status.idle": "2023-03-16T22:20:52.260682Z",
     "shell.execute_reply": "2023-03-16T22:20:52.259704Z"
    },
    "papermill": {
     "duration": 0.039865,
     "end_time": "2023-03-16T22:20:52.262458",
     "exception": false,
     "start_time": "2023-03-16T22:20:52.222593",
     "status": "completed"
    },
    "tags": []
   },
   "outputs": [],
   "source": [
    "sland = sland.drop(columns = ['Team', 'Yr']);"
   ]
  },
  {
   "cell_type": "code",
   "execution_count": 54,
   "id": "cb49238a",
   "metadata": {
    "execution": {
     "iopub.execute_input": "2023-03-16T22:20:52.325989Z",
     "iopub.status.busy": "2023-03-16T22:20:52.325130Z",
     "iopub.status.idle": "2023-03-16T22:20:52.346292Z",
     "shell.execute_reply": "2023-03-16T22:20:52.344818Z"
    },
    "papermill": {
     "duration": 0.055256,
     "end_time": "2023-03-16T22:20:52.348238",
     "exception": false,
     "start_time": "2023-03-16T22:20:52.292982",
     "status": "completed"
    },
    "tags": []
   },
   "outputs": [
    {
     "name": "stderr",
     "output_type": "stream",
     "text": [
      "/opt/conda/lib/python3.7/site-packages/sklearn/base.py:444: UserWarning: X has feature names, but BayesianRidge was fitted without feature names\n",
      "  f\"X has feature names, but {self.__class__.__name__} was fitted without\"\n",
      "/opt/conda/lib/python3.7/site-packages/sklearn/base.py:444: UserWarning: X has feature names, but LassoLars was fitted without feature names\n",
      "  f\"X has feature names, but {self.__class__.__name__} was fitted without\"\n",
      "/opt/conda/lib/python3.7/site-packages/sklearn/base.py:444: UserWarning: X has feature names, but KNeighborsRegressor was fitted without feature names\n",
      "  f\"X has feature names, but {self.__class__.__name__} was fitted without\"\n",
      "/opt/conda/lib/python3.7/site-packages/sklearn/base.py:444: UserWarning: X has feature names, but LinearRegression was fitted without feature names\n",
      "  f\"X has feature names, but {self.__class__.__name__} was fitted without\"\n"
     ]
    },
    {
     "data": {
      "text/html": [
       "<div>\n",
       "<style scoped>\n",
       "    .dataframe tbody tr th:only-of-type {\n",
       "        vertical-align: middle;\n",
       "    }\n",
       "\n",
       "    .dataframe tbody tr th {\n",
       "        vertical-align: top;\n",
       "    }\n",
       "\n",
       "    .dataframe thead th {\n",
       "        text-align: right;\n",
       "    }\n",
       "</style>\n",
       "<table border=\"1\" class=\"dataframe\">\n",
       "  <thead>\n",
       "    <tr style=\"text-align: right;\">\n",
       "      <th></th>\n",
       "      <th>teams</th>\n",
       "      <th>Bay</th>\n",
       "      <th>Lars</th>\n",
       "      <th>KNN</th>\n",
       "      <th>Linear</th>\n",
       "    </tr>\n",
       "  </thead>\n",
       "  <tbody>\n",
       "    <tr>\n",
       "      <th>0</th>\n",
       "      <td>Incarnate Word</td>\n",
       "      <td>-7.297412</td>\n",
       "      <td>-0.027078</td>\n",
       "      <td>-0.048143</td>\n",
       "      <td>-0.100921</td>\n",
       "    </tr>\n",
       "    <tr>\n",
       "      <th>1</th>\n",
       "      <td>Texas A&amp;M Commerce</td>\n",
       "      <td>-5.664664</td>\n",
       "      <td>-0.354058</td>\n",
       "      <td>-0.005733</td>\n",
       "      <td>-0.588155</td>\n",
       "    </tr>\n",
       "    <tr>\n",
       "      <th>2</th>\n",
       "      <td>New Orleans</td>\n",
       "      <td>-6.269377</td>\n",
       "      <td>0.517154</td>\n",
       "      <td>-0.124662</td>\n",
       "      <td>0.354107</td>\n",
       "    </tr>\n",
       "    <tr>\n",
       "      <th>3</th>\n",
       "      <td>Lamar</td>\n",
       "      <td>-8.471138</td>\n",
       "      <td>-4.151979</td>\n",
       "      <td>-0.342076</td>\n",
       "      <td>-4.110780</td>\n",
       "    </tr>\n",
       "    <tr>\n",
       "      <th>4</th>\n",
       "      <td>Southeastern Louisiana</td>\n",
       "      <td>-3.637180</td>\n",
       "      <td>0.604322</td>\n",
       "      <td>0.119180</td>\n",
       "      <td>0.464226</td>\n",
       "    </tr>\n",
       "    <tr>\n",
       "      <th>5</th>\n",
       "      <td>Texas A&amp;M Corpus Chris</td>\n",
       "      <td>-1.285762</td>\n",
       "      <td>3.656644</td>\n",
       "      <td>0.332563</td>\n",
       "      <td>3.739574</td>\n",
       "    </tr>\n",
       "    <tr>\n",
       "      <th>6</th>\n",
       "      <td>Houston Christian</td>\n",
       "      <td>-7.680100</td>\n",
       "      <td>-3.374055</td>\n",
       "      <td>-0.032748</td>\n",
       "      <td>-3.359596</td>\n",
       "    </tr>\n",
       "    <tr>\n",
       "      <th>7</th>\n",
       "      <td>McNeese St.</td>\n",
       "      <td>-7.235252</td>\n",
       "      <td>-1.501857</td>\n",
       "      <td>-0.098599</td>\n",
       "      <td>-1.596910</td>\n",
       "    </tr>\n",
       "    <tr>\n",
       "      <th>8</th>\n",
       "      <td>Northwestern St.</td>\n",
       "      <td>-0.333248</td>\n",
       "      <td>2.874979</td>\n",
       "      <td>0.386542</td>\n",
       "      <td>2.830873</td>\n",
       "    </tr>\n",
       "    <tr>\n",
       "      <th>9</th>\n",
       "      <td>Nicholls St.</td>\n",
       "      <td>-3.875526</td>\n",
       "      <td>3.557551</td>\n",
       "      <td>0.325091</td>\n",
       "      <td>3.551789</td>\n",
       "    </tr>\n",
       "  </tbody>\n",
       "</table>\n",
       "</div>"
      ],
      "text/plain": [
       "                    teams       Bay      Lars       KNN    Linear\n",
       "0          Incarnate Word -7.297412 -0.027078 -0.048143 -0.100921\n",
       "1      Texas A&M Commerce -5.664664 -0.354058 -0.005733 -0.588155\n",
       "2             New Orleans -6.269377  0.517154 -0.124662  0.354107\n",
       "3                   Lamar -8.471138 -4.151979 -0.342076 -4.110780\n",
       "4  Southeastern Louisiana -3.637180  0.604322  0.119180  0.464226\n",
       "5  Texas A&M Corpus Chris -1.285762  3.656644  0.332563  3.739574\n",
       "6       Houston Christian -7.680100 -3.374055 -0.032748 -3.359596\n",
       "7             McNeese St. -7.235252 -1.501857 -0.098599 -1.596910\n",
       "8        Northwestern St. -0.333248  2.874979  0.386542  2.830873\n",
       "9            Nicholls St. -3.875526  3.557551  0.325091  3.551789"
      ]
     },
     "execution_count": 54,
     "metadata": {},
     "output_type": "execute_result"
    }
   ],
   "source": [
    "slandBay = bay.predict(sland)\n",
    "slandLars = lars.predict(sland)\n",
    "slandKnn = knn.predict(sland)\n",
    "slandReg = reg.predict(sland)\n",
    "tablesland = pd.DataFrame({'teams':slandTeams, 'Bay':slandBay, 'Lars':slandLars, 'KNN':slandKnn, 'Linear':slandReg})\n",
    "tablesland"
   ]
  },
  {
   "cell_type": "markdown",
   "id": "b19d651b",
   "metadata": {
    "papermill": {
     "duration": 0.030097,
     "end_time": "2023-03-16T22:20:52.409185",
     "exception": false,
     "start_time": "2023-03-16T22:20:52.379088",
     "status": "completed"
    },
    "tags": []
   },
   "source": [
    "# WAC 2023 Predictions"
   ]
  },
  {
   "cell_type": "code",
   "execution_count": 55,
   "id": "f7073342",
   "metadata": {
    "execution": {
     "iopub.execute_input": "2023-03-16T22:20:52.473304Z",
     "iopub.status.busy": "2023-03-16T22:20:52.472911Z",
     "iopub.status.idle": "2023-03-16T22:20:52.486695Z",
     "shell.execute_reply": "2023-03-16T22:20:52.485720Z"
    },
    "papermill": {
     "duration": 0.048348,
     "end_time": "2023-03-16T22:20:52.488559",
     "exception": false,
     "start_time": "2023-03-16T22:20:52.440211",
     "status": "completed"
    },
    "tags": []
   },
   "outputs": [
    {
     "data": {
      "text/plain": [
       "0                  Seattle\n",
       "1        Abilene Christian\n",
       "2          Sam Houston St.\n",
       "3                Utah Tech\n",
       "4     UT Rio Grande Valley\n",
       "5              Cal Baptist\n",
       "6             Grand Canyon\n",
       "7             Tarleton St.\n",
       "8              Utah Valley\n",
       "9            Southern Utah\n",
       "10       Stephen F. Austin\n",
       "11            UT Arlington\n",
       "Name: Team, dtype: object"
      ]
     },
     "execution_count": 55,
     "metadata": {},
     "output_type": "execute_result"
    }
   ],
   "source": [
    "wac = pd.read_csv('../input/ncaa-tourney-training-data/WAConfData.csv')\n",
    "wacTeams = wac.iloc[:,0]\n",
    "wacTeams"
   ]
  },
  {
   "cell_type": "code",
   "execution_count": 56,
   "id": "cf2615ca",
   "metadata": {
    "execution": {
     "iopub.execute_input": "2023-03-16T22:20:52.552853Z",
     "iopub.status.busy": "2023-03-16T22:20:52.552477Z",
     "iopub.status.idle": "2023-03-16T22:20:52.558560Z",
     "shell.execute_reply": "2023-03-16T22:20:52.557200Z"
    },
    "papermill": {
     "duration": 0.04084,
     "end_time": "2023-03-16T22:20:52.560587",
     "exception": false,
     "start_time": "2023-03-16T22:20:52.519747",
     "status": "completed"
    },
    "tags": []
   },
   "outputs": [],
   "source": [
    "wac = wac.drop(columns = ['Team', 'Yr']);"
   ]
  },
  {
   "cell_type": "code",
   "execution_count": 57,
   "id": "0be2a7c0",
   "metadata": {
    "execution": {
     "iopub.execute_input": "2023-03-16T22:20:52.623944Z",
     "iopub.status.busy": "2023-03-16T22:20:52.623590Z",
     "iopub.status.idle": "2023-03-16T22:20:52.643632Z",
     "shell.execute_reply": "2023-03-16T22:20:52.642661Z"
    },
    "papermill": {
     "duration": 0.054093,
     "end_time": "2023-03-16T22:20:52.645788",
     "exception": false,
     "start_time": "2023-03-16T22:20:52.591695",
     "status": "completed"
    },
    "tags": []
   },
   "outputs": [
    {
     "name": "stderr",
     "output_type": "stream",
     "text": [
      "/opt/conda/lib/python3.7/site-packages/sklearn/base.py:444: UserWarning: X has feature names, but BayesianRidge was fitted without feature names\n",
      "  f\"X has feature names, but {self.__class__.__name__} was fitted without\"\n",
      "/opt/conda/lib/python3.7/site-packages/sklearn/base.py:444: UserWarning: X has feature names, but LassoLars was fitted without feature names\n",
      "  f\"X has feature names, but {self.__class__.__name__} was fitted without\"\n",
      "/opt/conda/lib/python3.7/site-packages/sklearn/base.py:444: UserWarning: X has feature names, but KNeighborsRegressor was fitted without feature names\n",
      "  f\"X has feature names, but {self.__class__.__name__} was fitted without\"\n",
      "/opt/conda/lib/python3.7/site-packages/sklearn/base.py:444: UserWarning: X has feature names, but LinearRegression was fitted without feature names\n",
      "  f\"X has feature names, but {self.__class__.__name__} was fitted without\"\n"
     ]
    },
    {
     "data": {
      "text/html": [
       "<div>\n",
       "<style scoped>\n",
       "    .dataframe tbody tr th:only-of-type {\n",
       "        vertical-align: middle;\n",
       "    }\n",
       "\n",
       "    .dataframe tbody tr th {\n",
       "        vertical-align: top;\n",
       "    }\n",
       "\n",
       "    .dataframe thead th {\n",
       "        text-align: right;\n",
       "    }\n",
       "</style>\n",
       "<table border=\"1\" class=\"dataframe\">\n",
       "  <thead>\n",
       "    <tr style=\"text-align: right;\">\n",
       "      <th></th>\n",
       "      <th>teams</th>\n",
       "      <th>Bay</th>\n",
       "      <th>Lars</th>\n",
       "      <th>KNN</th>\n",
       "      <th>Linear</th>\n",
       "    </tr>\n",
       "  </thead>\n",
       "  <tbody>\n",
       "    <tr>\n",
       "      <th>0</th>\n",
       "      <td>Seattle</td>\n",
       "      <td>-2.721140</td>\n",
       "      <td>0.045966</td>\n",
       "      <td>0.200471</td>\n",
       "      <td>0.102914</td>\n",
       "    </tr>\n",
       "    <tr>\n",
       "      <th>1</th>\n",
       "      <td>Abilene Christian</td>\n",
       "      <td>-3.928783</td>\n",
       "      <td>2.346679</td>\n",
       "      <td>0.352393</td>\n",
       "      <td>2.333016</td>\n",
       "    </tr>\n",
       "    <tr>\n",
       "      <th>2</th>\n",
       "      <td>Sam Houston St.</td>\n",
       "      <td>1.675144</td>\n",
       "      <td>1.193624</td>\n",
       "      <td>0.988258</td>\n",
       "      <td>1.116983</td>\n",
       "    </tr>\n",
       "    <tr>\n",
       "      <th>3</th>\n",
       "      <td>Utah Tech</td>\n",
       "      <td>-3.424243</td>\n",
       "      <td>-2.314781</td>\n",
       "      <td>-0.144317</td>\n",
       "      <td>-2.242984</td>\n",
       "    </tr>\n",
       "    <tr>\n",
       "      <th>4</th>\n",
       "      <td>UT Rio Grande Valley</td>\n",
       "      <td>-5.241025</td>\n",
       "      <td>0.165884</td>\n",
       "      <td>-0.293412</td>\n",
       "      <td>0.178793</td>\n",
       "    </tr>\n",
       "    <tr>\n",
       "      <th>5</th>\n",
       "      <td>Cal Baptist</td>\n",
       "      <td>-2.618760</td>\n",
       "      <td>-1.107454</td>\n",
       "      <td>-0.252558</td>\n",
       "      <td>-1.147442</td>\n",
       "    </tr>\n",
       "    <tr>\n",
       "      <th>6</th>\n",
       "      <td>Grand Canyon</td>\n",
       "      <td>-0.388915</td>\n",
       "      <td>-1.851008</td>\n",
       "      <td>0.275603</td>\n",
       "      <td>-1.830486</td>\n",
       "    </tr>\n",
       "    <tr>\n",
       "      <th>7</th>\n",
       "      <td>Tarleton St.</td>\n",
       "      <td>-4.111202</td>\n",
       "      <td>-2.468656</td>\n",
       "      <td>0.544615</td>\n",
       "      <td>-2.628013</td>\n",
       "    </tr>\n",
       "    <tr>\n",
       "      <th>8</th>\n",
       "      <td>Utah Valley</td>\n",
       "      <td>0.826834</td>\n",
       "      <td>-2.927933</td>\n",
       "      <td>0.978960</td>\n",
       "      <td>-2.872215</td>\n",
       "    </tr>\n",
       "    <tr>\n",
       "      <th>9</th>\n",
       "      <td>Southern Utah</td>\n",
       "      <td>-0.936309</td>\n",
       "      <td>-1.109340</td>\n",
       "      <td>-0.059477</td>\n",
       "      <td>-1.065636</td>\n",
       "    </tr>\n",
       "    <tr>\n",
       "      <th>10</th>\n",
       "      <td>Stephen F. Austin</td>\n",
       "      <td>-0.918358</td>\n",
       "      <td>0.314659</td>\n",
       "      <td>0.203851</td>\n",
       "      <td>0.119389</td>\n",
       "    </tr>\n",
       "    <tr>\n",
       "      <th>11</th>\n",
       "      <td>UT Arlington</td>\n",
       "      <td>-5.795305</td>\n",
       "      <td>0.034609</td>\n",
       "      <td>0.044885</td>\n",
       "      <td>0.031861</td>\n",
       "    </tr>\n",
       "  </tbody>\n",
       "</table>\n",
       "</div>"
      ],
      "text/plain": [
       "                   teams       Bay      Lars       KNN    Linear\n",
       "0                Seattle -2.721140  0.045966  0.200471  0.102914\n",
       "1      Abilene Christian -3.928783  2.346679  0.352393  2.333016\n",
       "2        Sam Houston St.  1.675144  1.193624  0.988258  1.116983\n",
       "3              Utah Tech -3.424243 -2.314781 -0.144317 -2.242984\n",
       "4   UT Rio Grande Valley -5.241025  0.165884 -0.293412  0.178793\n",
       "5            Cal Baptist -2.618760 -1.107454 -0.252558 -1.147442\n",
       "6           Grand Canyon -0.388915 -1.851008  0.275603 -1.830486\n",
       "7           Tarleton St. -4.111202 -2.468656  0.544615 -2.628013\n",
       "8            Utah Valley  0.826834 -2.927933  0.978960 -2.872215\n",
       "9          Southern Utah -0.936309 -1.109340 -0.059477 -1.065636\n",
       "10     Stephen F. Austin -0.918358  0.314659  0.203851  0.119389\n",
       "11          UT Arlington -5.795305  0.034609  0.044885  0.031861"
      ]
     },
     "execution_count": 57,
     "metadata": {},
     "output_type": "execute_result"
    }
   ],
   "source": [
    "wacBay = bay.predict(wac)\n",
    "wacLars = lars.predict(wac)\n",
    "wacKnn = knn.predict(wac)\n",
    "wacReg = reg.predict(wac)\n",
    "tablewac = pd.DataFrame({'teams':wacTeams, 'Bay':wacBay, 'Lars':wacLars, 'KNN':wacKnn, 'Linear':wacReg})\n",
    "tablewac"
   ]
  },
  {
   "cell_type": "markdown",
   "id": "c31fd58e",
   "metadata": {
    "papermill": {
     "duration": 0.031887,
     "end_time": "2023-03-16T22:20:52.710269",
     "exception": false,
     "start_time": "2023-03-16T22:20:52.678382",
     "status": "completed"
    },
    "tags": []
   },
   "source": [
    "# ACC 2023 Predictions"
   ]
  },
  {
   "cell_type": "code",
   "execution_count": 58,
   "id": "d7e076e0",
   "metadata": {
    "execution": {
     "iopub.execute_input": "2023-03-16T22:20:52.776883Z",
     "iopub.status.busy": "2023-03-16T22:20:52.776494Z",
     "iopub.status.idle": "2023-03-16T22:20:52.789471Z",
     "shell.execute_reply": "2023-03-16T22:20:52.788436Z"
    },
    "papermill": {
     "duration": 0.04867,
     "end_time": "2023-03-16T22:20:52.791462",
     "exception": false,
     "start_time": "2023-03-16T22:20:52.742792",
     "status": "completed"
    },
    "tags": []
   },
   "outputs": [
    {
     "data": {
      "text/plain": [
       "0     North Carolina St.\n",
       "1            Wake Forest\n",
       "2         Boston College\n",
       "3           Georgia Tech\n",
       "4             Louisville\n",
       "5             Notre Dame\n",
       "6                   Duke\n",
       "7               Virginia\n",
       "8                Clemson\n",
       "9            Florida St.\n",
       "10        North Carolina\n",
       "11              Miami FL\n",
       "12            Pittsburgh\n",
       "13              Syracuse\n",
       "14         Virginia Tech\n",
       "Name: Team, dtype: object"
      ]
     },
     "execution_count": 58,
     "metadata": {},
     "output_type": "execute_result"
    }
   ],
   "source": [
    "acc = pd.read_csv('../input/ncaa-tourney-training-data/ACConfData.csv')\n",
    "accTeams = acc.iloc[:,0]\n",
    "accTeams"
   ]
  },
  {
   "cell_type": "code",
   "execution_count": 59,
   "id": "a9753444",
   "metadata": {
    "execution": {
     "iopub.execute_input": "2023-03-16T22:20:52.858913Z",
     "iopub.status.busy": "2023-03-16T22:20:52.858563Z",
     "iopub.status.idle": "2023-03-16T22:20:52.864821Z",
     "shell.execute_reply": "2023-03-16T22:20:52.863766Z"
    },
    "papermill": {
     "duration": 0.042583,
     "end_time": "2023-03-16T22:20:52.866810",
     "exception": false,
     "start_time": "2023-03-16T22:20:52.824227",
     "status": "completed"
    },
    "tags": []
   },
   "outputs": [],
   "source": [
    "acc = acc.drop(columns = ['Team', 'Yr']);"
   ]
  },
  {
   "cell_type": "code",
   "execution_count": 60,
   "id": "1e23d88b",
   "metadata": {
    "execution": {
     "iopub.execute_input": "2023-03-16T22:20:52.934858Z",
     "iopub.status.busy": "2023-03-16T22:20:52.934128Z",
     "iopub.status.idle": "2023-03-16T22:20:52.955360Z",
     "shell.execute_reply": "2023-03-16T22:20:52.954196Z"
    },
    "papermill": {
     "duration": 0.058521,
     "end_time": "2023-03-16T22:20:52.958287",
     "exception": false,
     "start_time": "2023-03-16T22:20:52.899766",
     "status": "completed"
    },
    "tags": []
   },
   "outputs": [
    {
     "name": "stderr",
     "output_type": "stream",
     "text": [
      "/opt/conda/lib/python3.7/site-packages/sklearn/base.py:444: UserWarning: X has feature names, but BayesianRidge was fitted without feature names\n",
      "  f\"X has feature names, but {self.__class__.__name__} was fitted without\"\n",
      "/opt/conda/lib/python3.7/site-packages/sklearn/base.py:444: UserWarning: X has feature names, but LassoLars was fitted without feature names\n",
      "  f\"X has feature names, but {self.__class__.__name__} was fitted without\"\n",
      "/opt/conda/lib/python3.7/site-packages/sklearn/base.py:444: UserWarning: X has feature names, but KNeighborsRegressor was fitted without feature names\n",
      "  f\"X has feature names, but {self.__class__.__name__} was fitted without\"\n",
      "/opt/conda/lib/python3.7/site-packages/sklearn/base.py:444: UserWarning: X has feature names, but LinearRegression was fitted without feature names\n",
      "  f\"X has feature names, but {self.__class__.__name__} was fitted without\"\n"
     ]
    },
    {
     "data": {
      "text/html": [
       "<div>\n",
       "<style scoped>\n",
       "    .dataframe tbody tr th:only-of-type {\n",
       "        vertical-align: middle;\n",
       "    }\n",
       "\n",
       "    .dataframe tbody tr th {\n",
       "        vertical-align: top;\n",
       "    }\n",
       "\n",
       "    .dataframe thead th {\n",
       "        text-align: right;\n",
       "    }\n",
       "</style>\n",
       "<table border=\"1\" class=\"dataframe\">\n",
       "  <thead>\n",
       "    <tr style=\"text-align: right;\">\n",
       "      <th></th>\n",
       "      <th>teams</th>\n",
       "      <th>Bay</th>\n",
       "      <th>Lars</th>\n",
       "      <th>KNN</th>\n",
       "      <th>Linear</th>\n",
       "    </tr>\n",
       "  </thead>\n",
       "  <tbody>\n",
       "    <tr>\n",
       "      <th>0</th>\n",
       "      <td>North Carolina St.</td>\n",
       "      <td>3.333470</td>\n",
       "      <td>-0.240952</td>\n",
       "      <td>0.895531</td>\n",
       "      <td>-0.324427</td>\n",
       "    </tr>\n",
       "    <tr>\n",
       "      <th>1</th>\n",
       "      <td>Wake Forest</td>\n",
       "      <td>0.850318</td>\n",
       "      <td>-1.662050</td>\n",
       "      <td>0.615222</td>\n",
       "      <td>-1.701610</td>\n",
       "    </tr>\n",
       "    <tr>\n",
       "      <th>2</th>\n",
       "      <td>Boston College</td>\n",
       "      <td>-3.097697</td>\n",
       "      <td>-0.675260</td>\n",
       "      <td>-0.100055</td>\n",
       "      <td>-0.706616</td>\n",
       "    </tr>\n",
       "    <tr>\n",
       "      <th>3</th>\n",
       "      <td>Georgia Tech</td>\n",
       "      <td>-2.546201</td>\n",
       "      <td>-0.788525</td>\n",
       "      <td>0.521776</td>\n",
       "      <td>-0.843211</td>\n",
       "    </tr>\n",
       "    <tr>\n",
       "      <th>4</th>\n",
       "      <td>Louisville</td>\n",
       "      <td>-7.378780</td>\n",
       "      <td>-0.141180</td>\n",
       "      <td>-0.054372</td>\n",
       "      <td>-0.122971</td>\n",
       "    </tr>\n",
       "    <tr>\n",
       "      <th>5</th>\n",
       "      <td>Notre Dame</td>\n",
       "      <td>-3.373878</td>\n",
       "      <td>-2.750940</td>\n",
       "      <td>0.302086</td>\n",
       "      <td>-2.765583</td>\n",
       "    </tr>\n",
       "    <tr>\n",
       "      <th>6</th>\n",
       "      <td>Duke</td>\n",
       "      <td>3.812376</td>\n",
       "      <td>0.887699</td>\n",
       "      <td>1.654105</td>\n",
       "      <td>0.900380</td>\n",
       "    </tr>\n",
       "    <tr>\n",
       "      <th>7</th>\n",
       "      <td>Virginia</td>\n",
       "      <td>2.492536</td>\n",
       "      <td>-0.829987</td>\n",
       "      <td>2.884232</td>\n",
       "      <td>-0.929585</td>\n",
       "    </tr>\n",
       "    <tr>\n",
       "      <th>8</th>\n",
       "      <td>Clemson</td>\n",
       "      <td>1.609447</td>\n",
       "      <td>-1.598944</td>\n",
       "      <td>1.116804</td>\n",
       "      <td>-1.658517</td>\n",
       "    </tr>\n",
       "    <tr>\n",
       "      <th>9</th>\n",
       "      <td>Florida St.</td>\n",
       "      <td>-5.148660</td>\n",
       "      <td>-2.140871</td>\n",
       "      <td>0.008981</td>\n",
       "      <td>-2.236263</td>\n",
       "    </tr>\n",
       "    <tr>\n",
       "      <th>10</th>\n",
       "      <td>North Carolina</td>\n",
       "      <td>0.304890</td>\n",
       "      <td>-2.489942</td>\n",
       "      <td>0.681682</td>\n",
       "      <td>-2.442512</td>\n",
       "    </tr>\n",
       "    <tr>\n",
       "      <th>11</th>\n",
       "      <td>Miami FL</td>\n",
       "      <td>5.593221</td>\n",
       "      <td>4.162729</td>\n",
       "      <td>1.092021</td>\n",
       "      <td>4.143416</td>\n",
       "    </tr>\n",
       "    <tr>\n",
       "      <th>12</th>\n",
       "      <td>Pittsburgh</td>\n",
       "      <td>2.278409</td>\n",
       "      <td>-1.758528</td>\n",
       "      <td>0.611781</td>\n",
       "      <td>-1.787603</td>\n",
       "    </tr>\n",
       "    <tr>\n",
       "      <th>13</th>\n",
       "      <td>Syracuse</td>\n",
       "      <td>0.042905</td>\n",
       "      <td>-1.974879</td>\n",
       "      <td>0.234520</td>\n",
       "      <td>-2.135947</td>\n",
       "    </tr>\n",
       "    <tr>\n",
       "      <th>14</th>\n",
       "      <td>Virginia Tech</td>\n",
       "      <td>1.857755</td>\n",
       "      <td>-1.549665</td>\n",
       "      <td>0.873514</td>\n",
       "      <td>-1.604732</td>\n",
       "    </tr>\n",
       "  </tbody>\n",
       "</table>\n",
       "</div>"
      ],
      "text/plain": [
       "                 teams       Bay      Lars       KNN    Linear\n",
       "0   North Carolina St.  3.333470 -0.240952  0.895531 -0.324427\n",
       "1          Wake Forest  0.850318 -1.662050  0.615222 -1.701610\n",
       "2       Boston College -3.097697 -0.675260 -0.100055 -0.706616\n",
       "3         Georgia Tech -2.546201 -0.788525  0.521776 -0.843211\n",
       "4           Louisville -7.378780 -0.141180 -0.054372 -0.122971\n",
       "5           Notre Dame -3.373878 -2.750940  0.302086 -2.765583\n",
       "6                 Duke  3.812376  0.887699  1.654105  0.900380\n",
       "7             Virginia  2.492536 -0.829987  2.884232 -0.929585\n",
       "8              Clemson  1.609447 -1.598944  1.116804 -1.658517\n",
       "9          Florida St. -5.148660 -2.140871  0.008981 -2.236263\n",
       "10      North Carolina  0.304890 -2.489942  0.681682 -2.442512\n",
       "11            Miami FL  5.593221  4.162729  1.092021  4.143416\n",
       "12          Pittsburgh  2.278409 -1.758528  0.611781 -1.787603\n",
       "13            Syracuse  0.042905 -1.974879  0.234520 -2.135947\n",
       "14       Virginia Tech  1.857755 -1.549665  0.873514 -1.604732"
      ]
     },
     "execution_count": 60,
     "metadata": {},
     "output_type": "execute_result"
    }
   ],
   "source": [
    "accBay = bay.predict(acc)\n",
    "accLars = lars.predict(acc)\n",
    "accKnn = knn.predict(acc)\n",
    "accReg = reg.predict(acc)\n",
    "tableacc = pd.DataFrame({'teams':accTeams, 'Bay':accBay, 'Lars':accLars, 'KNN':accKnn, 'Linear':accReg})\n",
    "tableacc"
   ]
  },
  {
   "cell_type": "markdown",
   "id": "3ba6dfa6",
   "metadata": {
    "papermill": {
     "duration": 0.032279,
     "end_time": "2023-03-16T22:20:53.023880",
     "exception": false,
     "start_time": "2023-03-16T22:20:52.991601",
     "status": "completed"
    },
    "tags": []
   },
   "source": [
    "# Big West 2023 Predictions"
   ]
  },
  {
   "cell_type": "code",
   "execution_count": 61,
   "id": "9fa39e43",
   "metadata": {
    "execution": {
     "iopub.execute_input": "2023-03-16T22:20:53.098393Z",
     "iopub.status.busy": "2023-03-16T22:20:53.097116Z",
     "iopub.status.idle": "2023-03-16T22:20:53.112675Z",
     "shell.execute_reply": "2023-03-16T22:20:53.111677Z"
    },
    "papermill": {
     "duration": 0.053195,
     "end_time": "2023-03-16T22:20:53.114723",
     "exception": false,
     "start_time": "2023-03-16T22:20:53.061528",
     "status": "completed"
    },
    "tags": []
   },
   "outputs": [
    {
     "data": {
      "text/plain": [
       "0        UC Santa Barbara\n",
       "1               UC Irvine\n",
       "2      Cal St. Northridge\n",
       "3                  Hawaii\n",
       "4                UC Davis\n",
       "5                Cal Poly\n",
       "6          Long Beach St.\n",
       "7            UC San Diego\n",
       "8       Cal St. Fullerton\n",
       "9            UC Riverside\n",
       "10    Cal St. Bakersfield\n",
       "Name: Team, dtype: object"
      ]
     },
     "execution_count": 61,
     "metadata": {},
     "output_type": "execute_result"
    }
   ],
   "source": [
    "bwest = pd.read_csv('../input/ncaa-tourney-training-data/BWestConfData.csv')\n",
    "bwestTeams = bwest.iloc[:,0]\n",
    "bwestTeams"
   ]
  },
  {
   "cell_type": "code",
   "execution_count": 62,
   "id": "e5e7b57d",
   "metadata": {
    "execution": {
     "iopub.execute_input": "2023-03-16T22:20:53.187720Z",
     "iopub.status.busy": "2023-03-16T22:20:53.187090Z",
     "iopub.status.idle": "2023-03-16T22:20:53.192097Z",
     "shell.execute_reply": "2023-03-16T22:20:53.191446Z"
    },
    "papermill": {
     "duration": 0.040145,
     "end_time": "2023-03-16T22:20:53.193909",
     "exception": false,
     "start_time": "2023-03-16T22:20:53.153764",
     "status": "completed"
    },
    "tags": []
   },
   "outputs": [],
   "source": [
    "bwest = bwest.drop(columns = ['Team', 'Yr']);"
   ]
  },
  {
   "cell_type": "code",
   "execution_count": 63,
   "id": "885ec3e0",
   "metadata": {
    "execution": {
     "iopub.execute_input": "2023-03-16T22:20:53.263582Z",
     "iopub.status.busy": "2023-03-16T22:20:53.262847Z",
     "iopub.status.idle": "2023-03-16T22:20:53.283582Z",
     "shell.execute_reply": "2023-03-16T22:20:53.282435Z"
    },
    "papermill": {
     "duration": 0.056194,
     "end_time": "2023-03-16T22:20:53.285480",
     "exception": false,
     "start_time": "2023-03-16T22:20:53.229286",
     "status": "completed"
    },
    "tags": []
   },
   "outputs": [
    {
     "name": "stderr",
     "output_type": "stream",
     "text": [
      "/opt/conda/lib/python3.7/site-packages/sklearn/base.py:444: UserWarning: X has feature names, but BayesianRidge was fitted without feature names\n",
      "  f\"X has feature names, but {self.__class__.__name__} was fitted without\"\n",
      "/opt/conda/lib/python3.7/site-packages/sklearn/base.py:444: UserWarning: X has feature names, but LassoLars was fitted without feature names\n",
      "  f\"X has feature names, but {self.__class__.__name__} was fitted without\"\n",
      "/opt/conda/lib/python3.7/site-packages/sklearn/base.py:444: UserWarning: X has feature names, but KNeighborsRegressor was fitted without feature names\n",
      "  f\"X has feature names, but {self.__class__.__name__} was fitted without\"\n",
      "/opt/conda/lib/python3.7/site-packages/sklearn/base.py:444: UserWarning: X has feature names, but LinearRegression was fitted without feature names\n",
      "  f\"X has feature names, but {self.__class__.__name__} was fitted without\"\n"
     ]
    },
    {
     "data": {
      "text/html": [
       "<div>\n",
       "<style scoped>\n",
       "    .dataframe tbody tr th:only-of-type {\n",
       "        vertical-align: middle;\n",
       "    }\n",
       "\n",
       "    .dataframe tbody tr th {\n",
       "        vertical-align: top;\n",
       "    }\n",
       "\n",
       "    .dataframe thead th {\n",
       "        text-align: right;\n",
       "    }\n",
       "</style>\n",
       "<table border=\"1\" class=\"dataframe\">\n",
       "  <thead>\n",
       "    <tr style=\"text-align: right;\">\n",
       "      <th></th>\n",
       "      <th>teams</th>\n",
       "      <th>Bay</th>\n",
       "      <th>Lars</th>\n",
       "      <th>KNN</th>\n",
       "      <th>Linear</th>\n",
       "    </tr>\n",
       "  </thead>\n",
       "  <tbody>\n",
       "    <tr>\n",
       "      <th>0</th>\n",
       "      <td>UC Santa Barbara</td>\n",
       "      <td>1.209523</td>\n",
       "      <td>1.352633</td>\n",
       "      <td>0.094488</td>\n",
       "      <td>1.521798</td>\n",
       "    </tr>\n",
       "    <tr>\n",
       "      <th>1</th>\n",
       "      <td>UC Irvine</td>\n",
       "      <td>-0.016966</td>\n",
       "      <td>-2.123334</td>\n",
       "      <td>0.201000</td>\n",
       "      <td>-2.160881</td>\n",
       "    </tr>\n",
       "    <tr>\n",
       "      <th>2</th>\n",
       "      <td>Cal St. Northridge</td>\n",
       "      <td>-9.688032</td>\n",
       "      <td>-3.106225</td>\n",
       "      <td>-0.323229</td>\n",
       "      <td>-3.147241</td>\n",
       "    </tr>\n",
       "    <tr>\n",
       "      <th>3</th>\n",
       "      <td>Hawaii</td>\n",
       "      <td>-1.454625</td>\n",
       "      <td>-1.920789</td>\n",
       "      <td>-0.063947</td>\n",
       "      <td>-1.938157</td>\n",
       "    </tr>\n",
       "    <tr>\n",
       "      <th>4</th>\n",
       "      <td>UC Davis</td>\n",
       "      <td>-2.295621</td>\n",
       "      <td>0.111079</td>\n",
       "      <td>-0.100043</td>\n",
       "      <td>0.294574</td>\n",
       "    </tr>\n",
       "    <tr>\n",
       "      <th>5</th>\n",
       "      <td>Cal Poly</td>\n",
       "      <td>-10.041047</td>\n",
       "      <td>-0.531550</td>\n",
       "      <td>0.012247</td>\n",
       "      <td>-0.460477</td>\n",
       "    </tr>\n",
       "    <tr>\n",
       "      <th>6</th>\n",
       "      <td>Long Beach St.</td>\n",
       "      <td>-1.952927</td>\n",
       "      <td>-2.357455</td>\n",
       "      <td>-0.205352</td>\n",
       "      <td>-2.190985</td>\n",
       "    </tr>\n",
       "    <tr>\n",
       "      <th>7</th>\n",
       "      <td>UC San Diego</td>\n",
       "      <td>-5.676411</td>\n",
       "      <td>-1.374641</td>\n",
       "      <td>0.008753</td>\n",
       "      <td>-1.323694</td>\n",
       "    </tr>\n",
       "    <tr>\n",
       "      <th>8</th>\n",
       "      <td>Cal St. Fullerton</td>\n",
       "      <td>-1.527924</td>\n",
       "      <td>-1.017917</td>\n",
       "      <td>0.370044</td>\n",
       "      <td>-0.950750</td>\n",
       "    </tr>\n",
       "    <tr>\n",
       "      <th>9</th>\n",
       "      <td>UC Riverside</td>\n",
       "      <td>-1.007359</td>\n",
       "      <td>2.530175</td>\n",
       "      <td>0.447168</td>\n",
       "      <td>2.583774</td>\n",
       "    </tr>\n",
       "    <tr>\n",
       "      <th>10</th>\n",
       "      <td>Cal St. Bakersfield</td>\n",
       "      <td>-7.785808</td>\n",
       "      <td>0.974600</td>\n",
       "      <td>0.433206</td>\n",
       "      <td>0.858114</td>\n",
       "    </tr>\n",
       "  </tbody>\n",
       "</table>\n",
       "</div>"
      ],
      "text/plain": [
       "                  teams        Bay      Lars       KNN    Linear\n",
       "0      UC Santa Barbara   1.209523  1.352633  0.094488  1.521798\n",
       "1             UC Irvine  -0.016966 -2.123334  0.201000 -2.160881\n",
       "2    Cal St. Northridge  -9.688032 -3.106225 -0.323229 -3.147241\n",
       "3                Hawaii  -1.454625 -1.920789 -0.063947 -1.938157\n",
       "4              UC Davis  -2.295621  0.111079 -0.100043  0.294574\n",
       "5              Cal Poly -10.041047 -0.531550  0.012247 -0.460477\n",
       "6        Long Beach St.  -1.952927 -2.357455 -0.205352 -2.190985\n",
       "7          UC San Diego  -5.676411 -1.374641  0.008753 -1.323694\n",
       "8     Cal St. Fullerton  -1.527924 -1.017917  0.370044 -0.950750\n",
       "9          UC Riverside  -1.007359  2.530175  0.447168  2.583774\n",
       "10  Cal St. Bakersfield  -7.785808  0.974600  0.433206  0.858114"
      ]
     },
     "execution_count": 63,
     "metadata": {},
     "output_type": "execute_result"
    }
   ],
   "source": [
    "bwestBay = bay.predict(bwest)\n",
    "bwestLars = lars.predict(bwest)\n",
    "bwestKnn = knn.predict(bwest)\n",
    "bwestReg = reg.predict(bwest)\n",
    "tablebwest = pd.DataFrame({'teams':bwestTeams, 'Bay':bwestBay, 'Lars':bwestLars, 'KNN':bwestKnn, 'Linear':bwestReg})\n",
    "tablebwest"
   ]
  },
  {
   "cell_type": "markdown",
   "id": "d20425ff",
   "metadata": {
    "papermill": {
     "duration": 0.039249,
     "end_time": "2023-03-16T22:20:53.360491",
     "exception": false,
     "start_time": "2023-03-16T22:20:53.321242",
     "status": "completed"
    },
    "tags": []
   },
   "source": [
    "# A-10 2023 Predictions"
   ]
  },
  {
   "cell_type": "code",
   "execution_count": 64,
   "id": "8efd20bd",
   "metadata": {
    "execution": {
     "iopub.execute_input": "2023-03-16T22:20:53.427047Z",
     "iopub.status.busy": "2023-03-16T22:20:53.426361Z",
     "iopub.status.idle": "2023-03-16T22:20:53.439359Z",
     "shell.execute_reply": "2023-03-16T22:20:53.438609Z"
    },
    "papermill": {
     "duration": 0.048371,
     "end_time": "2023-03-16T22:20:53.441192",
     "exception": false,
     "start_time": "2023-03-16T22:20:53.392821",
     "status": "completed"
    },
    "tags": []
   },
   "outputs": [
    {
     "data": {
      "text/plain": [
       "0              Richmond\n",
       "1              Davidson\n",
       "2        Loyola Chicago\n",
       "3              La Salle\n",
       "4        Saint Joseph's\n",
       "5           Saint Louis\n",
       "6       St. Bonaventure\n",
       "7         Massachusetts\n",
       "8          Rhode Island\n",
       "9              Duquesne\n",
       "10                  VCU\n",
       "11    George Washington\n",
       "12               Dayton\n",
       "13         George Mason\n",
       "14              Fordham\n",
       "Name: Team, dtype: object"
      ]
     },
     "execution_count": 64,
     "metadata": {},
     "output_type": "execute_result"
    }
   ],
   "source": [
    "aten = pd.read_csv('../input/ncaa-tourney-training-data/A10ConfData.csv')\n",
    "atenTeams = aten.iloc[:,0]\n",
    "atenTeams"
   ]
  },
  {
   "cell_type": "code",
   "execution_count": 65,
   "id": "f2d65b51",
   "metadata": {
    "execution": {
     "iopub.execute_input": "2023-03-16T22:20:53.507529Z",
     "iopub.status.busy": "2023-03-16T22:20:53.506927Z",
     "iopub.status.idle": "2023-03-16T22:20:53.511842Z",
     "shell.execute_reply": "2023-03-16T22:20:53.511177Z"
    },
    "papermill": {
     "duration": 0.039676,
     "end_time": "2023-03-16T22:20:53.513620",
     "exception": false,
     "start_time": "2023-03-16T22:20:53.473944",
     "status": "completed"
    },
    "tags": []
   },
   "outputs": [],
   "source": [
    "aten = aten.drop(columns = ['Team', 'Yr']);"
   ]
  },
  {
   "cell_type": "code",
   "execution_count": 66,
   "id": "c0460cc7",
   "metadata": {
    "execution": {
     "iopub.execute_input": "2023-03-16T22:20:53.579355Z",
     "iopub.status.busy": "2023-03-16T22:20:53.578521Z",
     "iopub.status.idle": "2023-03-16T22:20:53.602367Z",
     "shell.execute_reply": "2023-03-16T22:20:53.600892Z"
    },
    "papermill": {
     "duration": 0.058923,
     "end_time": "2023-03-16T22:20:53.604535",
     "exception": false,
     "start_time": "2023-03-16T22:20:53.545612",
     "status": "completed"
    },
    "tags": []
   },
   "outputs": [
    {
     "name": "stderr",
     "output_type": "stream",
     "text": [
      "/opt/conda/lib/python3.7/site-packages/sklearn/base.py:444: UserWarning: X has feature names, but BayesianRidge was fitted without feature names\n",
      "  f\"X has feature names, but {self.__class__.__name__} was fitted without\"\n",
      "/opt/conda/lib/python3.7/site-packages/sklearn/base.py:444: UserWarning: X has feature names, but LassoLars was fitted without feature names\n",
      "  f\"X has feature names, but {self.__class__.__name__} was fitted without\"\n",
      "/opt/conda/lib/python3.7/site-packages/sklearn/base.py:444: UserWarning: X has feature names, but KNeighborsRegressor was fitted without feature names\n",
      "  f\"X has feature names, but {self.__class__.__name__} was fitted without\"\n",
      "/opt/conda/lib/python3.7/site-packages/sklearn/base.py:444: UserWarning: X has feature names, but LinearRegression was fitted without feature names\n",
      "  f\"X has feature names, but {self.__class__.__name__} was fitted without\"\n"
     ]
    },
    {
     "data": {
      "text/html": [
       "<div>\n",
       "<style scoped>\n",
       "    .dataframe tbody tr th:only-of-type {\n",
       "        vertical-align: middle;\n",
       "    }\n",
       "\n",
       "    .dataframe tbody tr th {\n",
       "        vertical-align: top;\n",
       "    }\n",
       "\n",
       "    .dataframe thead th {\n",
       "        text-align: right;\n",
       "    }\n",
       "</style>\n",
       "<table border=\"1\" class=\"dataframe\">\n",
       "  <thead>\n",
       "    <tr style=\"text-align: right;\">\n",
       "      <th></th>\n",
       "      <th>teams</th>\n",
       "      <th>Bay</th>\n",
       "      <th>Lars</th>\n",
       "      <th>KNN</th>\n",
       "      <th>Linear</th>\n",
       "    </tr>\n",
       "  </thead>\n",
       "  <tbody>\n",
       "    <tr>\n",
       "      <th>0</th>\n",
       "      <td>Richmond</td>\n",
       "      <td>-4.073989</td>\n",
       "      <td>-1.368056</td>\n",
       "      <td>0.001390</td>\n",
       "      <td>-1.432351</td>\n",
       "    </tr>\n",
       "    <tr>\n",
       "      <th>1</th>\n",
       "      <td>Davidson</td>\n",
       "      <td>-2.105434</td>\n",
       "      <td>-2.552819</td>\n",
       "      <td>0.043792</td>\n",
       "      <td>-2.574917</td>\n",
       "    </tr>\n",
       "    <tr>\n",
       "      <th>2</th>\n",
       "      <td>Loyola Chicago</td>\n",
       "      <td>-4.830498</td>\n",
       "      <td>0.635819</td>\n",
       "      <td>0.018330</td>\n",
       "      <td>0.601123</td>\n",
       "    </tr>\n",
       "    <tr>\n",
       "      <th>3</th>\n",
       "      <td>La Salle</td>\n",
       "      <td>-3.864914</td>\n",
       "      <td>0.466056</td>\n",
       "      <td>-0.018827</td>\n",
       "      <td>0.488780</td>\n",
       "    </tr>\n",
       "    <tr>\n",
       "      <th>4</th>\n",
       "      <td>Saint Joseph's</td>\n",
       "      <td>-3.083249</td>\n",
       "      <td>-1.096153</td>\n",
       "      <td>-0.099473</td>\n",
       "      <td>-1.179427</td>\n",
       "    </tr>\n",
       "    <tr>\n",
       "      <th>5</th>\n",
       "      <td>Saint Louis</td>\n",
       "      <td>0.284247</td>\n",
       "      <td>-2.135524</td>\n",
       "      <td>0.091874</td>\n",
       "      <td>-2.160513</td>\n",
       "    </tr>\n",
       "    <tr>\n",
       "      <th>6</th>\n",
       "      <td>St. Bonaventure</td>\n",
       "      <td>-3.306329</td>\n",
       "      <td>1.267989</td>\n",
       "      <td>0.576285</td>\n",
       "      <td>1.351726</td>\n",
       "    </tr>\n",
       "    <tr>\n",
       "      <th>7</th>\n",
       "      <td>Massachusetts</td>\n",
       "      <td>-2.967241</td>\n",
       "      <td>0.656395</td>\n",
       "      <td>-0.243217</td>\n",
       "      <td>0.582861</td>\n",
       "    </tr>\n",
       "    <tr>\n",
       "      <th>8</th>\n",
       "      <td>Rhode Island</td>\n",
       "      <td>-6.554566</td>\n",
       "      <td>-1.211598</td>\n",
       "      <td>-0.370103</td>\n",
       "      <td>-1.155757</td>\n",
       "    </tr>\n",
       "    <tr>\n",
       "      <th>9</th>\n",
       "      <td>Duquesne</td>\n",
       "      <td>0.906599</td>\n",
       "      <td>-0.030632</td>\n",
       "      <td>0.056101</td>\n",
       "      <td>0.066244</td>\n",
       "    </tr>\n",
       "    <tr>\n",
       "      <th>10</th>\n",
       "      <td>VCU</td>\n",
       "      <td>1.372234</td>\n",
       "      <td>-0.401241</td>\n",
       "      <td>0.697216</td>\n",
       "      <td>-0.351397</td>\n",
       "    </tr>\n",
       "    <tr>\n",
       "      <th>11</th>\n",
       "      <td>George Washington</td>\n",
       "      <td>-2.505461</td>\n",
       "      <td>-1.986237</td>\n",
       "      <td>0.031064</td>\n",
       "      <td>-2.020025</td>\n",
       "    </tr>\n",
       "    <tr>\n",
       "      <th>12</th>\n",
       "      <td>Dayton</td>\n",
       "      <td>1.627888</td>\n",
       "      <td>-2.784586</td>\n",
       "      <td>0.372310</td>\n",
       "      <td>-2.804695</td>\n",
       "    </tr>\n",
       "    <tr>\n",
       "      <th>13</th>\n",
       "      <td>George Mason</td>\n",
       "      <td>-1.761148</td>\n",
       "      <td>-0.080888</td>\n",
       "      <td>-0.002335</td>\n",
       "      <td>-0.094894</td>\n",
       "    </tr>\n",
       "    <tr>\n",
       "      <th>14</th>\n",
       "      <td>Fordham</td>\n",
       "      <td>-1.398648</td>\n",
       "      <td>1.366908</td>\n",
       "      <td>0.046093</td>\n",
       "      <td>1.508093</td>\n",
       "    </tr>\n",
       "  </tbody>\n",
       "</table>\n",
       "</div>"
      ],
      "text/plain": [
       "                teams       Bay      Lars       KNN    Linear\n",
       "0            Richmond -4.073989 -1.368056  0.001390 -1.432351\n",
       "1            Davidson -2.105434 -2.552819  0.043792 -2.574917\n",
       "2      Loyola Chicago -4.830498  0.635819  0.018330  0.601123\n",
       "3            La Salle -3.864914  0.466056 -0.018827  0.488780\n",
       "4      Saint Joseph's -3.083249 -1.096153 -0.099473 -1.179427\n",
       "5         Saint Louis  0.284247 -2.135524  0.091874 -2.160513\n",
       "6     St. Bonaventure -3.306329  1.267989  0.576285  1.351726\n",
       "7       Massachusetts -2.967241  0.656395 -0.243217  0.582861\n",
       "8        Rhode Island -6.554566 -1.211598 -0.370103 -1.155757\n",
       "9            Duquesne  0.906599 -0.030632  0.056101  0.066244\n",
       "10                VCU  1.372234 -0.401241  0.697216 -0.351397\n",
       "11  George Washington -2.505461 -1.986237  0.031064 -2.020025\n",
       "12             Dayton  1.627888 -2.784586  0.372310 -2.804695\n",
       "13       George Mason -1.761148 -0.080888 -0.002335 -0.094894\n",
       "14            Fordham -1.398648  1.366908  0.046093  1.508093"
      ]
     },
     "execution_count": 66,
     "metadata": {},
     "output_type": "execute_result"
    }
   ],
   "source": [
    "atenBay = bay.predict(aten)\n",
    "atenLars = lars.predict(aten)\n",
    "atenKnn = knn.predict(aten)\n",
    "atenReg = reg.predict(aten)\n",
    "tableaten = pd.DataFrame({'teams':atenTeams, 'Bay':atenBay, 'Lars':atenLars, 'KNN':atenKnn, 'Linear':atenReg})\n",
    "tableaten"
   ]
  },
  {
   "cell_type": "markdown",
   "id": "59c3cc2e",
   "metadata": {
    "papermill": {
     "duration": 0.035774,
     "end_time": "2023-03-16T22:20:53.674183",
     "exception": false,
     "start_time": "2023-03-16T22:20:53.638409",
     "status": "completed"
    },
    "tags": []
   },
   "source": [
    "# MAAC 2023 Predictions"
   ]
  },
  {
   "cell_type": "code",
   "execution_count": 67,
   "id": "ff3ef371",
   "metadata": {
    "execution": {
     "iopub.execute_input": "2023-03-16T22:20:53.743637Z",
     "iopub.status.busy": "2023-03-16T22:20:53.743259Z",
     "iopub.status.idle": "2023-03-16T22:20:53.755934Z",
     "shell.execute_reply": "2023-03-16T22:20:53.755130Z"
    },
    "papermill": {
     "duration": 0.050107,
     "end_time": "2023-03-16T22:20:53.757756",
     "exception": false,
     "start_time": "2023-03-16T22:20:53.707649",
     "status": "completed"
    },
    "tags": []
   },
   "outputs": [
    {
     "data": {
      "text/plain": [
       "0             Canisius\n",
       "1               Marist\n",
       "2                Rider\n",
       "3        Saint Peter's\n",
       "4                 Iona\n",
       "5              Niagara\n",
       "6                Siena\n",
       "7     Mount St. Mary's\n",
       "8           Quinnipiac\n",
       "9            Fairfield\n",
       "10           Manhattan\n",
       "Name: Team, dtype: object"
      ]
     },
     "execution_count": 67,
     "metadata": {},
     "output_type": "execute_result"
    }
   ],
   "source": [
    "maac = pd.read_csv('../input/ncaa-tourney-training-data/MAAConfData.csv')\n",
    "maacTeams = maac.iloc[:,0]\n",
    "maacTeams"
   ]
  },
  {
   "cell_type": "code",
   "execution_count": 68,
   "id": "5f13c8d9",
   "metadata": {
    "execution": {
     "iopub.execute_input": "2023-03-16T22:20:53.825100Z",
     "iopub.status.busy": "2023-03-16T22:20:53.824726Z",
     "iopub.status.idle": "2023-03-16T22:20:53.831090Z",
     "shell.execute_reply": "2023-03-16T22:20:53.829666Z"
    },
    "papermill": {
     "duration": 0.041864,
     "end_time": "2023-03-16T22:20:53.833044",
     "exception": false,
     "start_time": "2023-03-16T22:20:53.791180",
     "status": "completed"
    },
    "tags": []
   },
   "outputs": [],
   "source": [
    "maac = maac.drop(columns = ['Team', 'Yr']);"
   ]
  },
  {
   "cell_type": "code",
   "execution_count": 69,
   "id": "5cfa5890",
   "metadata": {
    "execution": {
     "iopub.execute_input": "2023-03-16T22:20:53.902019Z",
     "iopub.status.busy": "2023-03-16T22:20:53.900707Z",
     "iopub.status.idle": "2023-03-16T22:20:53.921863Z",
     "shell.execute_reply": "2023-03-16T22:20:53.920136Z"
    },
    "papermill": {
     "duration": 0.057425,
     "end_time": "2023-03-16T22:20:53.924225",
     "exception": false,
     "start_time": "2023-03-16T22:20:53.866800",
     "status": "completed"
    },
    "tags": []
   },
   "outputs": [
    {
     "name": "stderr",
     "output_type": "stream",
     "text": [
      "/opt/conda/lib/python3.7/site-packages/sklearn/base.py:444: UserWarning: X has feature names, but BayesianRidge was fitted without feature names\n",
      "  f\"X has feature names, but {self.__class__.__name__} was fitted without\"\n",
      "/opt/conda/lib/python3.7/site-packages/sklearn/base.py:444: UserWarning: X has feature names, but LassoLars was fitted without feature names\n",
      "  f\"X has feature names, but {self.__class__.__name__} was fitted without\"\n",
      "/opt/conda/lib/python3.7/site-packages/sklearn/base.py:444: UserWarning: X has feature names, but KNeighborsRegressor was fitted without feature names\n",
      "  f\"X has feature names, but {self.__class__.__name__} was fitted without\"\n",
      "/opt/conda/lib/python3.7/site-packages/sklearn/base.py:444: UserWarning: X has feature names, but LinearRegression was fitted without feature names\n",
      "  f\"X has feature names, but {self.__class__.__name__} was fitted without\"\n"
     ]
    },
    {
     "data": {
      "text/html": [
       "<div>\n",
       "<style scoped>\n",
       "    .dataframe tbody tr th:only-of-type {\n",
       "        vertical-align: middle;\n",
       "    }\n",
       "\n",
       "    .dataframe tbody tr th {\n",
       "        vertical-align: top;\n",
       "    }\n",
       "\n",
       "    .dataframe thead th {\n",
       "        text-align: right;\n",
       "    }\n",
       "</style>\n",
       "<table border=\"1\" class=\"dataframe\">\n",
       "  <thead>\n",
       "    <tr style=\"text-align: right;\">\n",
       "      <th></th>\n",
       "      <th>teams</th>\n",
       "      <th>Bay</th>\n",
       "      <th>Lars</th>\n",
       "      <th>KNN</th>\n",
       "      <th>Linear</th>\n",
       "    </tr>\n",
       "  </thead>\n",
       "  <tbody>\n",
       "    <tr>\n",
       "      <th>0</th>\n",
       "      <td>Canisius</td>\n",
       "      <td>-5.024052</td>\n",
       "      <td>0.189745</td>\n",
       "      <td>-0.013683</td>\n",
       "      <td>0.249874</td>\n",
       "    </tr>\n",
       "    <tr>\n",
       "      <th>1</th>\n",
       "      <td>Marist</td>\n",
       "      <td>-7.342157</td>\n",
       "      <td>-2.243383</td>\n",
       "      <td>-0.096998</td>\n",
       "      <td>-2.275354</td>\n",
       "    </tr>\n",
       "    <tr>\n",
       "      <th>2</th>\n",
       "      <td>Rider</td>\n",
       "      <td>-2.903243</td>\n",
       "      <td>-2.009342</td>\n",
       "      <td>0.347956</td>\n",
       "      <td>-2.221214</td>\n",
       "    </tr>\n",
       "    <tr>\n",
       "      <th>3</th>\n",
       "      <td>Saint Peter's</td>\n",
       "      <td>-6.763042</td>\n",
       "      <td>0.672123</td>\n",
       "      <td>0.399538</td>\n",
       "      <td>0.711455</td>\n",
       "    </tr>\n",
       "    <tr>\n",
       "      <th>4</th>\n",
       "      <td>Iona</td>\n",
       "      <td>3.094711</td>\n",
       "      <td>-0.633556</td>\n",
       "      <td>0.467284</td>\n",
       "      <td>-0.750732</td>\n",
       "    </tr>\n",
       "    <tr>\n",
       "      <th>5</th>\n",
       "      <td>Niagara</td>\n",
       "      <td>-5.038294</td>\n",
       "      <td>1.596898</td>\n",
       "      <td>-0.032815</td>\n",
       "      <td>1.766651</td>\n",
       "    </tr>\n",
       "    <tr>\n",
       "      <th>6</th>\n",
       "      <td>Siena</td>\n",
       "      <td>-3.569298</td>\n",
       "      <td>0.725220</td>\n",
       "      <td>-0.098536</td>\n",
       "      <td>0.736912</td>\n",
       "    </tr>\n",
       "    <tr>\n",
       "      <th>7</th>\n",
       "      <td>Mount St. Mary's</td>\n",
       "      <td>-5.371874</td>\n",
       "      <td>1.067431</td>\n",
       "      <td>-0.093078</td>\n",
       "      <td>0.982821</td>\n",
       "    </tr>\n",
       "    <tr>\n",
       "      <th>8</th>\n",
       "      <td>Quinnipiac</td>\n",
       "      <td>-1.182122</td>\n",
       "      <td>-0.086867</td>\n",
       "      <td>-0.060361</td>\n",
       "      <td>-0.107305</td>\n",
       "    </tr>\n",
       "    <tr>\n",
       "      <th>9</th>\n",
       "      <td>Fairfield</td>\n",
       "      <td>-5.486526</td>\n",
       "      <td>-1.546363</td>\n",
       "      <td>-0.424449</td>\n",
       "      <td>-1.737348</td>\n",
       "    </tr>\n",
       "    <tr>\n",
       "      <th>10</th>\n",
       "      <td>Manhattan</td>\n",
       "      <td>-5.769825</td>\n",
       "      <td>0.528233</td>\n",
       "      <td>-0.044365</td>\n",
       "      <td>0.501423</td>\n",
       "    </tr>\n",
       "  </tbody>\n",
       "</table>\n",
       "</div>"
      ],
      "text/plain": [
       "               teams       Bay      Lars       KNN    Linear\n",
       "0           Canisius -5.024052  0.189745 -0.013683  0.249874\n",
       "1             Marist -7.342157 -2.243383 -0.096998 -2.275354\n",
       "2              Rider -2.903243 -2.009342  0.347956 -2.221214\n",
       "3      Saint Peter's -6.763042  0.672123  0.399538  0.711455\n",
       "4               Iona  3.094711 -0.633556  0.467284 -0.750732\n",
       "5            Niagara -5.038294  1.596898 -0.032815  1.766651\n",
       "6              Siena -3.569298  0.725220 -0.098536  0.736912\n",
       "7   Mount St. Mary's -5.371874  1.067431 -0.093078  0.982821\n",
       "8         Quinnipiac -1.182122 -0.086867 -0.060361 -0.107305\n",
       "9          Fairfield -5.486526 -1.546363 -0.424449 -1.737348\n",
       "10         Manhattan -5.769825  0.528233 -0.044365  0.501423"
      ]
     },
     "execution_count": 69,
     "metadata": {},
     "output_type": "execute_result"
    }
   ],
   "source": [
    "maacBay = bay.predict(maac)\n",
    "maacLars = lars.predict(maac)\n",
    "maacKnn = knn.predict(maac)\n",
    "maacReg = reg.predict(maac)\n",
    "tablemaac = pd.DataFrame({'teams':maacTeams, 'Bay':maacBay, 'Lars':maacLars, 'KNN':maacKnn, 'Linear':maacReg})\n",
    "tablemaac"
   ]
  },
  {
   "cell_type": "markdown",
   "id": "acf47a99",
   "metadata": {
    "papermill": {
     "duration": 0.032921,
     "end_time": "2023-03-16T22:20:53.990673",
     "exception": false,
     "start_time": "2023-03-16T22:20:53.957752",
     "status": "completed"
    },
    "tags": []
   },
   "source": [
    "# MEAC 2023 Predictions"
   ]
  },
  {
   "cell_type": "code",
   "execution_count": 70,
   "id": "324714c5",
   "metadata": {
    "execution": {
     "iopub.execute_input": "2023-03-16T22:20:54.058223Z",
     "iopub.status.busy": "2023-03-16T22:20:54.057092Z",
     "iopub.status.idle": "2023-03-16T22:20:54.072265Z",
     "shell.execute_reply": "2023-03-16T22:20:54.070927Z"
    },
    "papermill": {
     "duration": 0.051102,
     "end_time": "2023-03-16T22:20:54.074566",
     "exception": false,
     "start_time": "2023-03-16T22:20:54.023464",
     "status": "completed"
    },
    "tags": []
   },
   "outputs": [
    {
     "data": {
      "text/plain": [
       "0                    Howard\n",
       "1               Norfolk St.\n",
       "2    Maryland Eastern Shore\n",
       "3              Delaware St.\n",
       "4        South Carolina St.\n",
       "5    North Carolina Central\n",
       "6                Coppin St.\n",
       "7                Morgan St.\n",
       "Name: Team, dtype: object"
      ]
     },
     "execution_count": 70,
     "metadata": {},
     "output_type": "execute_result"
    }
   ],
   "source": [
    "meac = pd.read_csv('../input/ncaa-tourney-training-data/MEAConfData.csv')\n",
    "meacTeams = meac.iloc[:,0]\n",
    "meacTeams"
   ]
  },
  {
   "cell_type": "code",
   "execution_count": 71,
   "id": "92a76af2",
   "metadata": {
    "execution": {
     "iopub.execute_input": "2023-03-16T22:20:54.142834Z",
     "iopub.status.busy": "2023-03-16T22:20:54.142455Z",
     "iopub.status.idle": "2023-03-16T22:20:54.148424Z",
     "shell.execute_reply": "2023-03-16T22:20:54.147330Z"
    },
    "papermill": {
     "duration": 0.04326,
     "end_time": "2023-03-16T22:20:54.150912",
     "exception": false,
     "start_time": "2023-03-16T22:20:54.107652",
     "status": "completed"
    },
    "tags": []
   },
   "outputs": [],
   "source": [
    "meac = meac.drop(columns = ['Team', 'Yr']);"
   ]
  },
  {
   "cell_type": "code",
   "execution_count": 72,
   "id": "5d51fe90",
   "metadata": {
    "execution": {
     "iopub.execute_input": "2023-03-16T22:20:54.222897Z",
     "iopub.status.busy": "2023-03-16T22:20:54.222336Z",
     "iopub.status.idle": "2023-03-16T22:20:54.243841Z",
     "shell.execute_reply": "2023-03-16T22:20:54.242536Z"
    },
    "papermill": {
     "duration": 0.059946,
     "end_time": "2023-03-16T22:20:54.246048",
     "exception": false,
     "start_time": "2023-03-16T22:20:54.186102",
     "status": "completed"
    },
    "tags": []
   },
   "outputs": [
    {
     "name": "stderr",
     "output_type": "stream",
     "text": [
      "/opt/conda/lib/python3.7/site-packages/sklearn/base.py:444: UserWarning: X has feature names, but BayesianRidge was fitted without feature names\n",
      "  f\"X has feature names, but {self.__class__.__name__} was fitted without\"\n",
      "/opt/conda/lib/python3.7/site-packages/sklearn/base.py:444: UserWarning: X has feature names, but LassoLars was fitted without feature names\n",
      "  f\"X has feature names, but {self.__class__.__name__} was fitted without\"\n",
      "/opt/conda/lib/python3.7/site-packages/sklearn/base.py:444: UserWarning: X has feature names, but KNeighborsRegressor was fitted without feature names\n",
      "  f\"X has feature names, but {self.__class__.__name__} was fitted without\"\n",
      "/opt/conda/lib/python3.7/site-packages/sklearn/base.py:444: UserWarning: X has feature names, but LinearRegression was fitted without feature names\n",
      "  f\"X has feature names, but {self.__class__.__name__} was fitted without\"\n"
     ]
    },
    {
     "data": {
      "text/html": [
       "<div>\n",
       "<style scoped>\n",
       "    .dataframe tbody tr th:only-of-type {\n",
       "        vertical-align: middle;\n",
       "    }\n",
       "\n",
       "    .dataframe tbody tr th {\n",
       "        vertical-align: top;\n",
       "    }\n",
       "\n",
       "    .dataframe thead th {\n",
       "        text-align: right;\n",
       "    }\n",
       "</style>\n",
       "<table border=\"1\" class=\"dataframe\">\n",
       "  <thead>\n",
       "    <tr style=\"text-align: right;\">\n",
       "      <th></th>\n",
       "      <th>teams</th>\n",
       "      <th>Bay</th>\n",
       "      <th>Lars</th>\n",
       "      <th>KNN</th>\n",
       "      <th>Linear</th>\n",
       "    </tr>\n",
       "  </thead>\n",
       "  <tbody>\n",
       "    <tr>\n",
       "      <th>0</th>\n",
       "      <td>Howard</td>\n",
       "      <td>-1.725681</td>\n",
       "      <td>3.666427</td>\n",
       "      <td>-0.098269</td>\n",
       "      <td>3.624571</td>\n",
       "    </tr>\n",
       "    <tr>\n",
       "      <th>1</th>\n",
       "      <td>Norfolk St.</td>\n",
       "      <td>-1.339837</td>\n",
       "      <td>-0.500793</td>\n",
       "      <td>-0.144648</td>\n",
       "      <td>-0.682500</td>\n",
       "    </tr>\n",
       "    <tr>\n",
       "      <th>2</th>\n",
       "      <td>Maryland Eastern Shore</td>\n",
       "      <td>-4.380859</td>\n",
       "      <td>5.896093</td>\n",
       "      <td>-0.198013</td>\n",
       "      <td>5.936991</td>\n",
       "    </tr>\n",
       "    <tr>\n",
       "      <th>3</th>\n",
       "      <td>Delaware St.</td>\n",
       "      <td>-9.794389</td>\n",
       "      <td>-4.419419</td>\n",
       "      <td>-0.287636</td>\n",
       "      <td>-4.620818</td>\n",
       "    </tr>\n",
       "    <tr>\n",
       "      <th>4</th>\n",
       "      <td>South Carolina St.</td>\n",
       "      <td>-8.348314</td>\n",
       "      <td>-2.121349</td>\n",
       "      <td>-0.128267</td>\n",
       "      <td>-2.134997</td>\n",
       "    </tr>\n",
       "    <tr>\n",
       "      <th>5</th>\n",
       "      <td>North Carolina Central</td>\n",
       "      <td>-1.828006</td>\n",
       "      <td>1.879462</td>\n",
       "      <td>0.060164</td>\n",
       "      <td>1.898230</td>\n",
       "    </tr>\n",
       "    <tr>\n",
       "      <th>6</th>\n",
       "      <td>Coppin St.</td>\n",
       "      <td>-7.979702</td>\n",
       "      <td>-2.366384</td>\n",
       "      <td>-0.020656</td>\n",
       "      <td>-2.352539</td>\n",
       "    </tr>\n",
       "    <tr>\n",
       "      <th>7</th>\n",
       "      <td>Morgan St.</td>\n",
       "      <td>-5.233542</td>\n",
       "      <td>3.502208</td>\n",
       "      <td>0.017897</td>\n",
       "      <td>3.261670</td>\n",
       "    </tr>\n",
       "  </tbody>\n",
       "</table>\n",
       "</div>"
      ],
      "text/plain": [
       "                    teams       Bay      Lars       KNN    Linear\n",
       "0                  Howard -1.725681  3.666427 -0.098269  3.624571\n",
       "1             Norfolk St. -1.339837 -0.500793 -0.144648 -0.682500\n",
       "2  Maryland Eastern Shore -4.380859  5.896093 -0.198013  5.936991\n",
       "3            Delaware St. -9.794389 -4.419419 -0.287636 -4.620818\n",
       "4      South Carolina St. -8.348314 -2.121349 -0.128267 -2.134997\n",
       "5  North Carolina Central -1.828006  1.879462  0.060164  1.898230\n",
       "6              Coppin St. -7.979702 -2.366384 -0.020656 -2.352539\n",
       "7              Morgan St. -5.233542  3.502208  0.017897  3.261670"
      ]
     },
     "execution_count": 72,
     "metadata": {},
     "output_type": "execute_result"
    }
   ],
   "source": [
    "meacBay = bay.predict(meac)\n",
    "meacLars = lars.predict(meac)\n",
    "meacKnn = knn.predict(meac)\n",
    "meacReg = reg.predict(meac)\n",
    "tablemeac = pd.DataFrame({'teams':meacTeams, 'Bay':meacBay, 'Lars':meacLars, 'KNN':meacKnn, 'Linear':meacReg})\n",
    "tablemeac"
   ]
  },
  {
   "cell_type": "markdown",
   "id": "e3d712d4",
   "metadata": {
    "papermill": {
     "duration": 0.032758,
     "end_time": "2023-03-16T22:20:54.311903",
     "exception": false,
     "start_time": "2023-03-16T22:20:54.279145",
     "status": "completed"
    },
    "tags": []
   },
   "source": [
    "# C-USA 2023 Predictions"
   ]
  },
  {
   "cell_type": "code",
   "execution_count": 73,
   "id": "0056ccbb",
   "metadata": {
    "execution": {
     "iopub.execute_input": "2023-03-16T22:20:54.379180Z",
     "iopub.status.busy": "2023-03-16T22:20:54.378792Z",
     "iopub.status.idle": "2023-03-16T22:20:54.391138Z",
     "shell.execute_reply": "2023-03-16T22:20:54.390343Z"
    },
    "papermill": {
     "duration": 0.048018,
     "end_time": "2023-03-16T22:20:54.392912",
     "exception": false,
     "start_time": "2023-03-16T22:20:54.344894",
     "status": "completed"
    },
    "tags": []
   },
   "outputs": [
    {
     "data": {
      "text/plain": [
       "0                  UAB\n",
       "1                  FIU\n",
       "2            Charlotte\n",
       "3     Florida Atlantic\n",
       "4                 Rice\n",
       "5          North Texas\n",
       "6                 UTSA\n",
       "7                 UTEP\n",
       "8     Middle Tennessee\n",
       "9       Louisiana Tech\n",
       "10    Western Kentucky\n",
       "Name: Team, dtype: object"
      ]
     },
     "execution_count": 73,
     "metadata": {},
     "output_type": "execute_result"
    }
   ],
   "source": [
    "cusa = pd.read_csv('../input/ncaa-tourney-training-data/CUSAConfData.csv')\n",
    "cusaTeams = cusa.iloc[:,0]\n",
    "cusaTeams"
   ]
  },
  {
   "cell_type": "code",
   "execution_count": 74,
   "id": "71b18a3a",
   "metadata": {
    "execution": {
     "iopub.execute_input": "2023-03-16T22:20:54.462251Z",
     "iopub.status.busy": "2023-03-16T22:20:54.461857Z",
     "iopub.status.idle": "2023-03-16T22:20:54.468282Z",
     "shell.execute_reply": "2023-03-16T22:20:54.466678Z"
    },
    "papermill": {
     "duration": 0.043585,
     "end_time": "2023-03-16T22:20:54.470458",
     "exception": false,
     "start_time": "2023-03-16T22:20:54.426873",
     "status": "completed"
    },
    "tags": []
   },
   "outputs": [],
   "source": [
    "cusa = cusa.drop(columns = ['Team', 'Yr']);"
   ]
  },
  {
   "cell_type": "code",
   "execution_count": 75,
   "id": "8197ff01",
   "metadata": {
    "execution": {
     "iopub.execute_input": "2023-03-16T22:20:54.539714Z",
     "iopub.status.busy": "2023-03-16T22:20:54.539313Z",
     "iopub.status.idle": "2023-03-16T22:20:54.561048Z",
     "shell.execute_reply": "2023-03-16T22:20:54.559354Z"
    },
    "papermill": {
     "duration": 0.058776,
     "end_time": "2023-03-16T22:20:54.562988",
     "exception": false,
     "start_time": "2023-03-16T22:20:54.504212",
     "status": "completed"
    },
    "tags": []
   },
   "outputs": [
    {
     "name": "stderr",
     "output_type": "stream",
     "text": [
      "/opt/conda/lib/python3.7/site-packages/sklearn/base.py:444: UserWarning: X has feature names, but BayesianRidge was fitted without feature names\n",
      "  f\"X has feature names, but {self.__class__.__name__} was fitted without\"\n",
      "/opt/conda/lib/python3.7/site-packages/sklearn/base.py:444: UserWarning: X has feature names, but LassoLars was fitted without feature names\n",
      "  f\"X has feature names, but {self.__class__.__name__} was fitted without\"\n",
      "/opt/conda/lib/python3.7/site-packages/sklearn/base.py:444: UserWarning: X has feature names, but KNeighborsRegressor was fitted without feature names\n",
      "  f\"X has feature names, but {self.__class__.__name__} was fitted without\"\n",
      "/opt/conda/lib/python3.7/site-packages/sklearn/base.py:444: UserWarning: X has feature names, but LinearRegression was fitted without feature names\n",
      "  f\"X has feature names, but {self.__class__.__name__} was fitted without\"\n"
     ]
    },
    {
     "data": {
      "text/html": [
       "<div>\n",
       "<style scoped>\n",
       "    .dataframe tbody tr th:only-of-type {\n",
       "        vertical-align: middle;\n",
       "    }\n",
       "\n",
       "    .dataframe tbody tr th {\n",
       "        vertical-align: top;\n",
       "    }\n",
       "\n",
       "    .dataframe thead th {\n",
       "        text-align: right;\n",
       "    }\n",
       "</style>\n",
       "<table border=\"1\" class=\"dataframe\">\n",
       "  <thead>\n",
       "    <tr style=\"text-align: right;\">\n",
       "      <th></th>\n",
       "      <th>teams</th>\n",
       "      <th>Bay</th>\n",
       "      <th>Lars</th>\n",
       "      <th>KNN</th>\n",
       "      <th>Linear</th>\n",
       "    </tr>\n",
       "  </thead>\n",
       "  <tbody>\n",
       "    <tr>\n",
       "      <th>0</th>\n",
       "      <td>UAB</td>\n",
       "      <td>3.031157</td>\n",
       "      <td>-0.274106</td>\n",
       "      <td>0.888963</td>\n",
       "      <td>-0.361930</td>\n",
       "    </tr>\n",
       "    <tr>\n",
       "      <th>1</th>\n",
       "      <td>FIU</td>\n",
       "      <td>-2.803827</td>\n",
       "      <td>0.327016</td>\n",
       "      <td>0.029811</td>\n",
       "      <td>0.254420</td>\n",
       "    </tr>\n",
       "    <tr>\n",
       "      <th>2</th>\n",
       "      <td>Charlotte</td>\n",
       "      <td>-0.664785</td>\n",
       "      <td>-1.420556</td>\n",
       "      <td>0.197728</td>\n",
       "      <td>-1.468241</td>\n",
       "    </tr>\n",
       "    <tr>\n",
       "      <th>3</th>\n",
       "      <td>Florida Atlantic</td>\n",
       "      <td>4.687314</td>\n",
       "      <td>2.224932</td>\n",
       "      <td>2.851717</td>\n",
       "      <td>2.322361</td>\n",
       "    </tr>\n",
       "    <tr>\n",
       "      <th>4</th>\n",
       "      <td>Rice</td>\n",
       "      <td>-3.041355</td>\n",
       "      <td>1.657073</td>\n",
       "      <td>0.175821</td>\n",
       "      <td>1.666531</td>\n",
       "    </tr>\n",
       "    <tr>\n",
       "      <th>5</th>\n",
       "      <td>North Texas</td>\n",
       "      <td>2.897929</td>\n",
       "      <td>0.847135</td>\n",
       "      <td>0.995539</td>\n",
       "      <td>0.871210</td>\n",
       "    </tr>\n",
       "    <tr>\n",
       "      <th>6</th>\n",
       "      <td>UTSA</td>\n",
       "      <td>-6.786009</td>\n",
       "      <td>-1.590594</td>\n",
       "      <td>-0.050960</td>\n",
       "      <td>-1.538752</td>\n",
       "    </tr>\n",
       "    <tr>\n",
       "      <th>7</th>\n",
       "      <td>UTEP</td>\n",
       "      <td>-3.914529</td>\n",
       "      <td>0.871074</td>\n",
       "      <td>0.059955</td>\n",
       "      <td>1.057768</td>\n",
       "    </tr>\n",
       "    <tr>\n",
       "      <th>8</th>\n",
       "      <td>Middle Tennessee</td>\n",
       "      <td>-0.763719</td>\n",
       "      <td>0.301221</td>\n",
       "      <td>0.398602</td>\n",
       "      <td>0.330886</td>\n",
       "    </tr>\n",
       "    <tr>\n",
       "      <th>9</th>\n",
       "      <td>Louisiana Tech</td>\n",
       "      <td>-2.899645</td>\n",
       "      <td>-0.876299</td>\n",
       "      <td>0.500977</td>\n",
       "      <td>-1.040361</td>\n",
       "    </tr>\n",
       "    <tr>\n",
       "      <th>10</th>\n",
       "      <td>Western Kentucky</td>\n",
       "      <td>-3.224977</td>\n",
       "      <td>-2.887169</td>\n",
       "      <td>0.138250</td>\n",
       "      <td>-3.106881</td>\n",
       "    </tr>\n",
       "  </tbody>\n",
       "</table>\n",
       "</div>"
      ],
      "text/plain": [
       "               teams       Bay      Lars       KNN    Linear\n",
       "0                UAB  3.031157 -0.274106  0.888963 -0.361930\n",
       "1                FIU -2.803827  0.327016  0.029811  0.254420\n",
       "2          Charlotte -0.664785 -1.420556  0.197728 -1.468241\n",
       "3   Florida Atlantic  4.687314  2.224932  2.851717  2.322361\n",
       "4               Rice -3.041355  1.657073  0.175821  1.666531\n",
       "5        North Texas  2.897929  0.847135  0.995539  0.871210\n",
       "6               UTSA -6.786009 -1.590594 -0.050960 -1.538752\n",
       "7               UTEP -3.914529  0.871074  0.059955  1.057768\n",
       "8   Middle Tennessee -0.763719  0.301221  0.398602  0.330886\n",
       "9     Louisiana Tech -2.899645 -0.876299  0.500977 -1.040361\n",
       "10  Western Kentucky -3.224977 -2.887169  0.138250 -3.106881"
      ]
     },
     "execution_count": 75,
     "metadata": {},
     "output_type": "execute_result"
    }
   ],
   "source": [
    "cusaBay = bay.predict(cusa)\n",
    "cusaLars = lars.predict(cusa)\n",
    "cusaKnn = knn.predict(cusa)\n",
    "cusaReg = reg.predict(cusa)\n",
    "tablecusa = pd.DataFrame({'teams':cusaTeams, 'Bay':cusaBay, 'Lars':cusaLars, 'KNN':cusaKnn, 'Linear':cusaReg})\n",
    "tablecusa"
   ]
  },
  {
   "cell_type": "markdown",
   "id": "a6a7b807",
   "metadata": {
    "papermill": {
     "duration": 0.033957,
     "end_time": "2023-03-16T22:20:54.630663",
     "exception": false,
     "start_time": "2023-03-16T22:20:54.596706",
     "status": "completed"
    },
    "tags": []
   },
   "source": [
    "# Big 12 2023 Predictions"
   ]
  },
  {
   "cell_type": "code",
   "execution_count": 76,
   "id": "020b5204",
   "metadata": {
    "execution": {
     "iopub.execute_input": "2023-03-16T22:20:54.699065Z",
     "iopub.status.busy": "2023-03-16T22:20:54.698661Z",
     "iopub.status.idle": "2023-03-16T22:20:54.711888Z",
     "shell.execute_reply": "2023-03-16T22:20:54.710890Z"
    },
    "papermill": {
     "duration": 0.049583,
     "end_time": "2023-03-16T22:20:54.713684",
     "exception": false,
     "start_time": "2023-03-16T22:20:54.664101",
     "status": "completed"
    },
    "tags": []
   },
   "outputs": [
    {
     "data": {
      "text/plain": [
       "0           Baylor\n",
       "1            Texas\n",
       "2    West Virginia\n",
       "3     Oklahoma St.\n",
       "4         Oklahoma\n",
       "5       Kansas St.\n",
       "6           Kansas\n",
       "7              TCU\n",
       "8         Iowa St.\n",
       "9       Texas Tech\n",
       "Name: Team, dtype: object"
      ]
     },
     "execution_count": 76,
     "metadata": {},
     "output_type": "execute_result"
    }
   ],
   "source": [
    "big12 = pd.read_csv('../input/ncaa-tourney-training-data/B12ConfData.csv')\n",
    "big12Teams = big12.iloc[:,0]\n",
    "big12Teams"
   ]
  },
  {
   "cell_type": "code",
   "execution_count": 77,
   "id": "dde04be0",
   "metadata": {
    "execution": {
     "iopub.execute_input": "2023-03-16T22:20:54.783071Z",
     "iopub.status.busy": "2023-03-16T22:20:54.782247Z",
     "iopub.status.idle": "2023-03-16T22:20:54.788277Z",
     "shell.execute_reply": "2023-03-16T22:20:54.786851Z"
    },
    "papermill": {
     "duration": 0.042836,
     "end_time": "2023-03-16T22:20:54.790209",
     "exception": false,
     "start_time": "2023-03-16T22:20:54.747373",
     "status": "completed"
    },
    "tags": []
   },
   "outputs": [],
   "source": [
    "big12 = big12.drop(columns = ['Team', 'Yr']);"
   ]
  },
  {
   "cell_type": "code",
   "execution_count": 78,
   "id": "b2cf44fa",
   "metadata": {
    "execution": {
     "iopub.execute_input": "2023-03-16T22:20:54.859498Z",
     "iopub.status.busy": "2023-03-16T22:20:54.858708Z",
     "iopub.status.idle": "2023-03-16T22:20:54.881100Z",
     "shell.execute_reply": "2023-03-16T22:20:54.879787Z"
    },
    "papermill": {
     "duration": 0.059331,
     "end_time": "2023-03-16T22:20:54.883397",
     "exception": false,
     "start_time": "2023-03-16T22:20:54.824066",
     "status": "completed"
    },
    "tags": []
   },
   "outputs": [
    {
     "name": "stderr",
     "output_type": "stream",
     "text": [
      "/opt/conda/lib/python3.7/site-packages/sklearn/base.py:444: UserWarning: X has feature names, but BayesianRidge was fitted without feature names\n",
      "  f\"X has feature names, but {self.__class__.__name__} was fitted without\"\n",
      "/opt/conda/lib/python3.7/site-packages/sklearn/base.py:444: UserWarning: X has feature names, but LassoLars was fitted without feature names\n",
      "  f\"X has feature names, but {self.__class__.__name__} was fitted without\"\n",
      "/opt/conda/lib/python3.7/site-packages/sklearn/base.py:444: UserWarning: X has feature names, but KNeighborsRegressor was fitted without feature names\n",
      "  f\"X has feature names, but {self.__class__.__name__} was fitted without\"\n",
      "/opt/conda/lib/python3.7/site-packages/sklearn/base.py:444: UserWarning: X has feature names, but LinearRegression was fitted without feature names\n",
      "  f\"X has feature names, but {self.__class__.__name__} was fitted without\"\n"
     ]
    },
    {
     "data": {
      "text/html": [
       "<div>\n",
       "<style scoped>\n",
       "    .dataframe tbody tr th:only-of-type {\n",
       "        vertical-align: middle;\n",
       "    }\n",
       "\n",
       "    .dataframe tbody tr th {\n",
       "        vertical-align: top;\n",
       "    }\n",
       "\n",
       "    .dataframe thead th {\n",
       "        text-align: right;\n",
       "    }\n",
       "</style>\n",
       "<table border=\"1\" class=\"dataframe\">\n",
       "  <thead>\n",
       "    <tr style=\"text-align: right;\">\n",
       "      <th></th>\n",
       "      <th>teams</th>\n",
       "      <th>Bay</th>\n",
       "      <th>Lars</th>\n",
       "      <th>KNN</th>\n",
       "      <th>Linear</th>\n",
       "    </tr>\n",
       "  </thead>\n",
       "  <tbody>\n",
       "    <tr>\n",
       "      <th>0</th>\n",
       "      <td>Baylor</td>\n",
       "      <td>6.399942</td>\n",
       "      <td>8.530604</td>\n",
       "      <td>2.175958</td>\n",
       "      <td>8.600135</td>\n",
       "    </tr>\n",
       "    <tr>\n",
       "      <th>1</th>\n",
       "      <td>Texas</td>\n",
       "      <td>5.385636</td>\n",
       "      <td>6.877711</td>\n",
       "      <td>3.792046</td>\n",
       "      <td>6.912590</td>\n",
       "    </tr>\n",
       "    <tr>\n",
       "      <th>2</th>\n",
       "      <td>West Virginia</td>\n",
       "      <td>3.293622</td>\n",
       "      <td>2.923640</td>\n",
       "      <td>1.226087</td>\n",
       "      <td>2.935718</td>\n",
       "    </tr>\n",
       "    <tr>\n",
       "      <th>3</th>\n",
       "      <td>Oklahoma St.</td>\n",
       "      <td>1.593264</td>\n",
       "      <td>-0.752772</td>\n",
       "      <td>0.541683</td>\n",
       "      <td>-0.801267</td>\n",
       "    </tr>\n",
       "    <tr>\n",
       "      <th>4</th>\n",
       "      <td>Oklahoma</td>\n",
       "      <td>0.809237</td>\n",
       "      <td>-1.092527</td>\n",
       "      <td>1.129723</td>\n",
       "      <td>-1.181370</td>\n",
       "    </tr>\n",
       "    <tr>\n",
       "      <th>5</th>\n",
       "      <td>Kansas St.</td>\n",
       "      <td>4.094196</td>\n",
       "      <td>4.752788</td>\n",
       "      <td>1.972653</td>\n",
       "      <td>4.782810</td>\n",
       "    </tr>\n",
       "    <tr>\n",
       "      <th>6</th>\n",
       "      <td>Kansas</td>\n",
       "      <td>5.611821</td>\n",
       "      <td>5.958347</td>\n",
       "      <td>7.739459</td>\n",
       "      <td>5.942625</td>\n",
       "    </tr>\n",
       "    <tr>\n",
       "      <th>7</th>\n",
       "      <td>TCU</td>\n",
       "      <td>3.279410</td>\n",
       "      <td>0.967675</td>\n",
       "      <td>1.386434</td>\n",
       "      <td>1.118505</td>\n",
       "    </tr>\n",
       "    <tr>\n",
       "      <th>8</th>\n",
       "      <td>Iowa St.</td>\n",
       "      <td>2.986906</td>\n",
       "      <td>2.999138</td>\n",
       "      <td>1.399574</td>\n",
       "      <td>2.988663</td>\n",
       "    </tr>\n",
       "    <tr>\n",
       "      <th>9</th>\n",
       "      <td>Texas Tech</td>\n",
       "      <td>1.775274</td>\n",
       "      <td>-1.371607</td>\n",
       "      <td>1.440007</td>\n",
       "      <td>-1.414319</td>\n",
       "    </tr>\n",
       "  </tbody>\n",
       "</table>\n",
       "</div>"
      ],
      "text/plain": [
       "           teams       Bay      Lars       KNN    Linear\n",
       "0         Baylor  6.399942  8.530604  2.175958  8.600135\n",
       "1          Texas  5.385636  6.877711  3.792046  6.912590\n",
       "2  West Virginia  3.293622  2.923640  1.226087  2.935718\n",
       "3   Oklahoma St.  1.593264 -0.752772  0.541683 -0.801267\n",
       "4       Oklahoma  0.809237 -1.092527  1.129723 -1.181370\n",
       "5     Kansas St.  4.094196  4.752788  1.972653  4.782810\n",
       "6         Kansas  5.611821  5.958347  7.739459  5.942625\n",
       "7            TCU  3.279410  0.967675  1.386434  1.118505\n",
       "8       Iowa St.  2.986906  2.999138  1.399574  2.988663\n",
       "9     Texas Tech  1.775274 -1.371607  1.440007 -1.414319"
      ]
     },
     "execution_count": 78,
     "metadata": {},
     "output_type": "execute_result"
    }
   ],
   "source": [
    "big12Bay = bay.predict(big12)\n",
    "big12Lars = lars.predict(big12)\n",
    "big12Knn = knn.predict(big12)\n",
    "big12Reg = reg.predict(big12)\n",
    "tablebig12 = pd.DataFrame({'teams':big12Teams, 'Bay':big12Bay, 'Lars':big12Lars, 'KNN':big12Knn, 'Linear':big12Reg})\n",
    "tablebig12"
   ]
  },
  {
   "cell_type": "markdown",
   "id": "8f22d247",
   "metadata": {
    "papermill": {
     "duration": 0.034136,
     "end_time": "2023-03-16T22:20:54.951198",
     "exception": false,
     "start_time": "2023-03-16T22:20:54.917062",
     "status": "completed"
    },
    "tags": []
   },
   "source": [
    "# Big East 2023 Predictions"
   ]
  },
  {
   "cell_type": "code",
   "execution_count": 79,
   "id": "9e598e21",
   "metadata": {
    "execution": {
     "iopub.execute_input": "2023-03-16T22:20:55.019497Z",
     "iopub.status.busy": "2023-03-16T22:20:55.019157Z",
     "iopub.status.idle": "2023-03-16T22:20:55.032691Z",
     "shell.execute_reply": "2023-03-16T22:20:55.031514Z"
    },
    "papermill": {
     "duration": 0.049815,
     "end_time": "2023-03-16T22:20:55.034777",
     "exception": false,
     "start_time": "2023-03-16T22:20:54.984962",
     "status": "completed"
    },
    "tags": []
   },
   "outputs": [
    {
     "data": {
      "text/plain": [
       "0          Xavier\n",
       "1       Villanova\n",
       "2       Marquette\n",
       "3      Providence\n",
       "4       Creighton\n",
       "5          DePaul\n",
       "6      St. John's\n",
       "7          Butler\n",
       "8      Seton Hall\n",
       "9      Georgetown\n",
       "10    Connecticut\n",
       "Name: Team, dtype: object"
      ]
     },
     "execution_count": 79,
     "metadata": {},
     "output_type": "execute_result"
    }
   ],
   "source": [
    "bigeast = pd.read_csv('../input/ncaa-tourney-training-data/BEastConfData.csv')\n",
    "bigeastTeams = bigeast.iloc[:,0]\n",
    "bigeastTeams"
   ]
  },
  {
   "cell_type": "code",
   "execution_count": 80,
   "id": "43616d59",
   "metadata": {
    "execution": {
     "iopub.execute_input": "2023-03-16T22:20:55.106848Z",
     "iopub.status.busy": "2023-03-16T22:20:55.106496Z",
     "iopub.status.idle": "2023-03-16T22:20:55.112322Z",
     "shell.execute_reply": "2023-03-16T22:20:55.110898Z"
    },
    "papermill": {
     "duration": 0.043921,
     "end_time": "2023-03-16T22:20:55.114194",
     "exception": false,
     "start_time": "2023-03-16T22:20:55.070273",
     "status": "completed"
    },
    "tags": []
   },
   "outputs": [],
   "source": [
    "bigeast = bigeast.drop(columns = ['Team', 'Yr']);"
   ]
  },
  {
   "cell_type": "code",
   "execution_count": 81,
   "id": "50c46694",
   "metadata": {
    "execution": {
     "iopub.execute_input": "2023-03-16T22:20:55.184444Z",
     "iopub.status.busy": "2023-03-16T22:20:55.184078Z",
     "iopub.status.idle": "2023-03-16T22:20:55.203137Z",
     "shell.execute_reply": "2023-03-16T22:20:55.201964Z"
    },
    "papermill": {
     "duration": 0.05705,
     "end_time": "2023-03-16T22:20:55.205701",
     "exception": false,
     "start_time": "2023-03-16T22:20:55.148651",
     "status": "completed"
    },
    "tags": []
   },
   "outputs": [
    {
     "name": "stderr",
     "output_type": "stream",
     "text": [
      "/opt/conda/lib/python3.7/site-packages/sklearn/base.py:444: UserWarning: X has feature names, but BayesianRidge was fitted without feature names\n",
      "  f\"X has feature names, but {self.__class__.__name__} was fitted without\"\n",
      "/opt/conda/lib/python3.7/site-packages/sklearn/base.py:444: UserWarning: X has feature names, but LassoLars was fitted without feature names\n",
      "  f\"X has feature names, but {self.__class__.__name__} was fitted without\"\n",
      "/opt/conda/lib/python3.7/site-packages/sklearn/base.py:444: UserWarning: X has feature names, but KNeighborsRegressor was fitted without feature names\n",
      "  f\"X has feature names, but {self.__class__.__name__} was fitted without\"\n",
      "/opt/conda/lib/python3.7/site-packages/sklearn/base.py:444: UserWarning: X has feature names, but LinearRegression was fitted without feature names\n",
      "  f\"X has feature names, but {self.__class__.__name__} was fitted without\"\n"
     ]
    },
    {
     "data": {
      "text/html": [
       "<div>\n",
       "<style scoped>\n",
       "    .dataframe tbody tr th:only-of-type {\n",
       "        vertical-align: middle;\n",
       "    }\n",
       "\n",
       "    .dataframe tbody tr th {\n",
       "        vertical-align: top;\n",
       "    }\n",
       "\n",
       "    .dataframe thead th {\n",
       "        text-align: right;\n",
       "    }\n",
       "</style>\n",
       "<table border=\"1\" class=\"dataframe\">\n",
       "  <thead>\n",
       "    <tr style=\"text-align: right;\">\n",
       "      <th></th>\n",
       "      <th>teams</th>\n",
       "      <th>Bay</th>\n",
       "      <th>Lars</th>\n",
       "      <th>KNN</th>\n",
       "      <th>Linear</th>\n",
       "    </tr>\n",
       "  </thead>\n",
       "  <tbody>\n",
       "    <tr>\n",
       "      <th>0</th>\n",
       "      <td>Xavier</td>\n",
       "      <td>5.519742</td>\n",
       "      <td>4.896769</td>\n",
       "      <td>0.892171</td>\n",
       "      <td>4.869509</td>\n",
       "    </tr>\n",
       "    <tr>\n",
       "      <th>1</th>\n",
       "      <td>Villanova</td>\n",
       "      <td>0.144168</td>\n",
       "      <td>-2.176073</td>\n",
       "      <td>1.566307</td>\n",
       "      <td>-2.266193</td>\n",
       "    </tr>\n",
       "    <tr>\n",
       "      <th>2</th>\n",
       "      <td>Marquette</td>\n",
       "      <td>6.740295</td>\n",
       "      <td>7.461711</td>\n",
       "      <td>2.779763</td>\n",
       "      <td>7.365959</td>\n",
       "    </tr>\n",
       "    <tr>\n",
       "      <th>3</th>\n",
       "      <td>Providence</td>\n",
       "      <td>3.116664</td>\n",
       "      <td>-0.671141</td>\n",
       "      <td>1.932585</td>\n",
       "      <td>-0.746173</td>\n",
       "    </tr>\n",
       "    <tr>\n",
       "      <th>4</th>\n",
       "      <td>Creighton</td>\n",
       "      <td>3.517302</td>\n",
       "      <td>4.242063</td>\n",
       "      <td>3.010684</td>\n",
       "      <td>4.376446</td>\n",
       "    </tr>\n",
       "    <tr>\n",
       "      <th>5</th>\n",
       "      <td>DePaul</td>\n",
       "      <td>-3.681934</td>\n",
       "      <td>-1.139108</td>\n",
       "      <td>0.447826</td>\n",
       "      <td>-1.144810</td>\n",
       "    </tr>\n",
       "    <tr>\n",
       "      <th>6</th>\n",
       "      <td>St. John's</td>\n",
       "      <td>0.344242</td>\n",
       "      <td>-1.078435</td>\n",
       "      <td>0.756622</td>\n",
       "      <td>-1.087560</td>\n",
       "    </tr>\n",
       "    <tr>\n",
       "      <th>7</th>\n",
       "      <td>Butler</td>\n",
       "      <td>-2.549101</td>\n",
       "      <td>-0.150566</td>\n",
       "      <td>0.185298</td>\n",
       "      <td>-0.207986</td>\n",
       "    </tr>\n",
       "    <tr>\n",
       "      <th>8</th>\n",
       "      <td>Seton Hall</td>\n",
       "      <td>0.244992</td>\n",
       "      <td>-2.105357</td>\n",
       "      <td>0.771169</td>\n",
       "      <td>-2.134188</td>\n",
       "    </tr>\n",
       "    <tr>\n",
       "      <th>9</th>\n",
       "      <td>Georgetown</td>\n",
       "      <td>-5.570082</td>\n",
       "      <td>-4.415876</td>\n",
       "      <td>-0.073888</td>\n",
       "      <td>-4.476624</td>\n",
       "    </tr>\n",
       "    <tr>\n",
       "      <th>10</th>\n",
       "      <td>Connecticut</td>\n",
       "      <td>6.937489</td>\n",
       "      <td>9.218288</td>\n",
       "      <td>6.186270</td>\n",
       "      <td>9.270838</td>\n",
       "    </tr>\n",
       "  </tbody>\n",
       "</table>\n",
       "</div>"
      ],
      "text/plain": [
       "          teams       Bay      Lars       KNN    Linear\n",
       "0        Xavier  5.519742  4.896769  0.892171  4.869509\n",
       "1     Villanova  0.144168 -2.176073  1.566307 -2.266193\n",
       "2     Marquette  6.740295  7.461711  2.779763  7.365959\n",
       "3    Providence  3.116664 -0.671141  1.932585 -0.746173\n",
       "4     Creighton  3.517302  4.242063  3.010684  4.376446\n",
       "5        DePaul -3.681934 -1.139108  0.447826 -1.144810\n",
       "6    St. John's  0.344242 -1.078435  0.756622 -1.087560\n",
       "7        Butler -2.549101 -0.150566  0.185298 -0.207986\n",
       "8    Seton Hall  0.244992 -2.105357  0.771169 -2.134188\n",
       "9    Georgetown -5.570082 -4.415876 -0.073888 -4.476624\n",
       "10  Connecticut  6.937489  9.218288  6.186270  9.270838"
      ]
     },
     "execution_count": 81,
     "metadata": {},
     "output_type": "execute_result"
    }
   ],
   "source": [
    "bigeastBay = bay.predict(bigeast)\n",
    "bigeastLars = lars.predict(bigeast)\n",
    "bigeastKnn = knn.predict(bigeast)\n",
    "bigeastReg = reg.predict(bigeast)\n",
    "tablebigeast = pd.DataFrame({'teams':bigeastTeams, 'Bay':bigeastBay, 'Lars':bigeastLars, 'KNN':bigeastKnn, 'Linear':bigeastReg})\n",
    "tablebigeast"
   ]
  },
  {
   "cell_type": "markdown",
   "id": "5b05c216",
   "metadata": {
    "papermill": {
     "duration": 0.035041,
     "end_time": "2023-03-16T22:20:55.276090",
     "exception": false,
     "start_time": "2023-03-16T22:20:55.241049",
     "status": "completed"
    },
    "tags": []
   },
   "source": [
    "# Mountain West 2023 Predictions"
   ]
  },
  {
   "cell_type": "code",
   "execution_count": 82,
   "id": "c70a8e56",
   "metadata": {
    "execution": {
     "iopub.execute_input": "2023-03-16T22:20:55.350042Z",
     "iopub.status.busy": "2023-03-16T22:20:55.349050Z",
     "iopub.status.idle": "2023-03-16T22:20:55.371528Z",
     "shell.execute_reply": "2023-03-16T22:20:55.370806Z"
    },
    "papermill": {
     "duration": 0.062073,
     "end_time": "2023-03-16T22:20:55.373888",
     "exception": false,
     "start_time": "2023-03-16T22:20:55.311815",
     "status": "completed"
    },
    "tags": []
   },
   "outputs": [
    {
     "data": {
      "text/plain": [
       "0          Utah St.\n",
       "1        Fresno St.\n",
       "2            Nevada\n",
       "3           Wyoming\n",
       "4     San Diego St.\n",
       "5      Colorado St.\n",
       "6        New Mexico\n",
       "7      San Jose St.\n",
       "8         Air Force\n",
       "9              UNLV\n",
       "10        Boise St.\n",
       "Name: Team, dtype: object"
      ]
     },
     "execution_count": 82,
     "metadata": {},
     "output_type": "execute_result"
    }
   ],
   "source": [
    "mwc = pd.read_csv('../input/ncaa-tourney-training-data/MWConfData.csv')\n",
    "mwcTeams = mwc.iloc[:,0]\n",
    "mwcTeams"
   ]
  },
  {
   "cell_type": "code",
   "execution_count": 83,
   "id": "8e1b8709",
   "metadata": {
    "execution": {
     "iopub.execute_input": "2023-03-16T22:20:55.445829Z",
     "iopub.status.busy": "2023-03-16T22:20:55.445433Z",
     "iopub.status.idle": "2023-03-16T22:20:55.450671Z",
     "shell.execute_reply": "2023-03-16T22:20:55.449913Z"
    },
    "papermill": {
     "duration": 0.042845,
     "end_time": "2023-03-16T22:20:55.452574",
     "exception": false,
     "start_time": "2023-03-16T22:20:55.409729",
     "status": "completed"
    },
    "tags": []
   },
   "outputs": [],
   "source": [
    "mwc = mwc.drop(columns = ['Team', 'Yr']);"
   ]
  },
  {
   "cell_type": "code",
   "execution_count": 84,
   "id": "826341f6",
   "metadata": {
    "execution": {
     "iopub.execute_input": "2023-03-16T22:20:55.524285Z",
     "iopub.status.busy": "2023-03-16T22:20:55.523214Z",
     "iopub.status.idle": "2023-03-16T22:20:55.545293Z",
     "shell.execute_reply": "2023-03-16T22:20:55.543717Z"
    },
    "papermill": {
     "duration": 0.060203,
     "end_time": "2023-03-16T22:20:55.547545",
     "exception": false,
     "start_time": "2023-03-16T22:20:55.487342",
     "status": "completed"
    },
    "tags": []
   },
   "outputs": [
    {
     "name": "stderr",
     "output_type": "stream",
     "text": [
      "/opt/conda/lib/python3.7/site-packages/sklearn/base.py:444: UserWarning: X has feature names, but BayesianRidge was fitted without feature names\n",
      "  f\"X has feature names, but {self.__class__.__name__} was fitted without\"\n",
      "/opt/conda/lib/python3.7/site-packages/sklearn/base.py:444: UserWarning: X has feature names, but LassoLars was fitted without feature names\n",
      "  f\"X has feature names, but {self.__class__.__name__} was fitted without\"\n",
      "/opt/conda/lib/python3.7/site-packages/sklearn/base.py:444: UserWarning: X has feature names, but KNeighborsRegressor was fitted without feature names\n",
      "  f\"X has feature names, but {self.__class__.__name__} was fitted without\"\n",
      "/opt/conda/lib/python3.7/site-packages/sklearn/base.py:444: UserWarning: X has feature names, but LinearRegression was fitted without feature names\n",
      "  f\"X has feature names, but {self.__class__.__name__} was fitted without\"\n"
     ]
    },
    {
     "data": {
      "text/html": [
       "<div>\n",
       "<style scoped>\n",
       "    .dataframe tbody tr th:only-of-type {\n",
       "        vertical-align: middle;\n",
       "    }\n",
       "\n",
       "    .dataframe tbody tr th {\n",
       "        vertical-align: top;\n",
       "    }\n",
       "\n",
       "    .dataframe thead th {\n",
       "        text-align: right;\n",
       "    }\n",
       "</style>\n",
       "<table border=\"1\" class=\"dataframe\">\n",
       "  <thead>\n",
       "    <tr style=\"text-align: right;\">\n",
       "      <th></th>\n",
       "      <th>teams</th>\n",
       "      <th>Bay</th>\n",
       "      <th>Lars</th>\n",
       "      <th>KNN</th>\n",
       "      <th>Linear</th>\n",
       "    </tr>\n",
       "  </thead>\n",
       "  <tbody>\n",
       "    <tr>\n",
       "      <th>0</th>\n",
       "      <td>Utah St.</td>\n",
       "      <td>4.165058</td>\n",
       "      <td>2.947833</td>\n",
       "      <td>0.709632</td>\n",
       "      <td>3.075912</td>\n",
       "    </tr>\n",
       "    <tr>\n",
       "      <th>1</th>\n",
       "      <td>Fresno St.</td>\n",
       "      <td>-3.527002</td>\n",
       "      <td>-3.857800</td>\n",
       "      <td>0.192321</td>\n",
       "      <td>-3.931024</td>\n",
       "    </tr>\n",
       "    <tr>\n",
       "      <th>2</th>\n",
       "      <td>Nevada</td>\n",
       "      <td>0.815326</td>\n",
       "      <td>-1.127634</td>\n",
       "      <td>0.616451</td>\n",
       "      <td>-1.148376</td>\n",
       "    </tr>\n",
       "    <tr>\n",
       "      <th>3</th>\n",
       "      <td>Wyoming</td>\n",
       "      <td>-4.017059</td>\n",
       "      <td>-3.044540</td>\n",
       "      <td>0.141810</td>\n",
       "      <td>-3.094416</td>\n",
       "    </tr>\n",
       "    <tr>\n",
       "      <th>4</th>\n",
       "      <td>San Diego St.</td>\n",
       "      <td>5.164985</td>\n",
       "      <td>9.495502</td>\n",
       "      <td>2.758658</td>\n",
       "      <td>9.652961</td>\n",
       "    </tr>\n",
       "    <tr>\n",
       "      <th>5</th>\n",
       "      <td>Colorado St.</td>\n",
       "      <td>-1.100202</td>\n",
       "      <td>-2.820364</td>\n",
       "      <td>0.612558</td>\n",
       "      <td>-2.970456</td>\n",
       "    </tr>\n",
       "    <tr>\n",
       "      <th>6</th>\n",
       "      <td>New Mexico</td>\n",
       "      <td>2.635874</td>\n",
       "      <td>0.793212</td>\n",
       "      <td>0.583172</td>\n",
       "      <td>0.750576</td>\n",
       "    </tr>\n",
       "    <tr>\n",
       "      <th>7</th>\n",
       "      <td>San Jose St.</td>\n",
       "      <td>0.476210</td>\n",
       "      <td>-1.101359</td>\n",
       "      <td>1.323361</td>\n",
       "      <td>-1.100977</td>\n",
       "    </tr>\n",
       "    <tr>\n",
       "      <th>8</th>\n",
       "      <td>Air Force</td>\n",
       "      <td>-1.734374</td>\n",
       "      <td>-1.928240</td>\n",
       "      <td>0.048882</td>\n",
       "      <td>-2.187235</td>\n",
       "    </tr>\n",
       "    <tr>\n",
       "      <th>9</th>\n",
       "      <td>UNLV</td>\n",
       "      <td>-0.064979</td>\n",
       "      <td>-0.302709</td>\n",
       "      <td>0.518204</td>\n",
       "      <td>-0.342684</td>\n",
       "    </tr>\n",
       "    <tr>\n",
       "      <th>10</th>\n",
       "      <td>Boise St.</td>\n",
       "      <td>2.799470</td>\n",
       "      <td>1.153497</td>\n",
       "      <td>0.699216</td>\n",
       "      <td>1.156531</td>\n",
       "    </tr>\n",
       "  </tbody>\n",
       "</table>\n",
       "</div>"
      ],
      "text/plain": [
       "            teams       Bay      Lars       KNN    Linear\n",
       "0        Utah St.  4.165058  2.947833  0.709632  3.075912\n",
       "1      Fresno St. -3.527002 -3.857800  0.192321 -3.931024\n",
       "2          Nevada  0.815326 -1.127634  0.616451 -1.148376\n",
       "3         Wyoming -4.017059 -3.044540  0.141810 -3.094416\n",
       "4   San Diego St.  5.164985  9.495502  2.758658  9.652961\n",
       "5    Colorado St. -1.100202 -2.820364  0.612558 -2.970456\n",
       "6      New Mexico  2.635874  0.793212  0.583172  0.750576\n",
       "7    San Jose St.  0.476210 -1.101359  1.323361 -1.100977\n",
       "8       Air Force -1.734374 -1.928240  0.048882 -2.187235\n",
       "9            UNLV -0.064979 -0.302709  0.518204 -0.342684\n",
       "10      Boise St.  2.799470  1.153497  0.699216  1.156531"
      ]
     },
     "execution_count": 84,
     "metadata": {},
     "output_type": "execute_result"
    }
   ],
   "source": [
    "mwcBay = bay.predict(mwc)\n",
    "mwcLars = lars.predict(mwc)\n",
    "mwcKnn = knn.predict(mwc)\n",
    "mwcReg = reg.predict(mwc)\n",
    "tablemwc = pd.DataFrame({'teams':mwcTeams, 'Bay':mwcBay, 'Lars':mwcLars, 'KNN':mwcKnn, 'Linear':mwcReg})\n",
    "tablemwc"
   ]
  },
  {
   "cell_type": "markdown",
   "id": "d8c4788b",
   "metadata": {
    "papermill": {
     "duration": 0.035993,
     "end_time": "2023-03-16T22:20:55.620158",
     "exception": false,
     "start_time": "2023-03-16T22:20:55.584165",
     "status": "completed"
    },
    "tags": []
   },
   "source": [
    "# Pac 12 2023 Predictions"
   ]
  },
  {
   "cell_type": "code",
   "execution_count": 85,
   "id": "66f585d4",
   "metadata": {
    "execution": {
     "iopub.execute_input": "2023-03-16T22:20:55.694929Z",
     "iopub.status.busy": "2023-03-16T22:20:55.694473Z",
     "iopub.status.idle": "2023-03-16T22:20:55.707987Z",
     "shell.execute_reply": "2023-03-16T22:20:55.706568Z"
    },
    "papermill": {
     "duration": 0.054087,
     "end_time": "2023-03-16T22:20:55.710733",
     "exception": false,
     "start_time": "2023-03-16T22:20:55.656646",
     "status": "completed"
    },
    "tags": []
   },
   "outputs": [
    {
     "data": {
      "text/plain": [
       "0            Arizona\n",
       "1               UCLA\n",
       "2           Colorado\n",
       "3         Washington\n",
       "4             Oregon\n",
       "5         California\n",
       "6        Arizona St.\n",
       "7         Oregon St.\n",
       "8     Washington St.\n",
       "9                USC\n",
       "10              Utah\n",
       "11          Stanford\n",
       "Name: Team, dtype: object"
      ]
     },
     "execution_count": 85,
     "metadata": {},
     "output_type": "execute_result"
    }
   ],
   "source": [
    "pac12 = pd.read_csv('../input/ncaa-tourney-training-data/P12ConfData.csv')\n",
    "pac12Teams = pac12.iloc[:,0]\n",
    "pac12Teams"
   ]
  },
  {
   "cell_type": "code",
   "execution_count": 86,
   "id": "1beeb6c0",
   "metadata": {
    "execution": {
     "iopub.execute_input": "2023-03-16T22:20:55.784686Z",
     "iopub.status.busy": "2023-03-16T22:20:55.783526Z",
     "iopub.status.idle": "2023-03-16T22:20:55.789398Z",
     "shell.execute_reply": "2023-03-16T22:20:55.788661Z"
    },
    "papermill": {
     "duration": 0.045291,
     "end_time": "2023-03-16T22:20:55.791789",
     "exception": false,
     "start_time": "2023-03-16T22:20:55.746498",
     "status": "completed"
    },
    "tags": []
   },
   "outputs": [],
   "source": [
    "pac12 =pac12.drop(columns = ['Team', 'Yr']);"
   ]
  },
  {
   "cell_type": "code",
   "execution_count": 87,
   "id": "6bf347ff",
   "metadata": {
    "execution": {
     "iopub.execute_input": "2023-03-16T22:20:55.864089Z",
     "iopub.status.busy": "2023-03-16T22:20:55.863403Z",
     "iopub.status.idle": "2023-03-16T22:20:55.883266Z",
     "shell.execute_reply": "2023-03-16T22:20:55.882550Z"
    },
    "papermill": {
     "duration": 0.05924,
     "end_time": "2023-03-16T22:20:55.886543",
     "exception": false,
     "start_time": "2023-03-16T22:20:55.827303",
     "status": "completed"
    },
    "tags": []
   },
   "outputs": [
    {
     "name": "stderr",
     "output_type": "stream",
     "text": [
      "/opt/conda/lib/python3.7/site-packages/sklearn/base.py:444: UserWarning: X has feature names, but BayesianRidge was fitted without feature names\n",
      "  f\"X has feature names, but {self.__class__.__name__} was fitted without\"\n",
      "/opt/conda/lib/python3.7/site-packages/sklearn/base.py:444: UserWarning: X has feature names, but LassoLars was fitted without feature names\n",
      "  f\"X has feature names, but {self.__class__.__name__} was fitted without\"\n",
      "/opt/conda/lib/python3.7/site-packages/sklearn/base.py:444: UserWarning: X has feature names, but KNeighborsRegressor was fitted without feature names\n",
      "  f\"X has feature names, but {self.__class__.__name__} was fitted without\"\n",
      "/opt/conda/lib/python3.7/site-packages/sklearn/base.py:444: UserWarning: X has feature names, but LinearRegression was fitted without feature names\n",
      "  f\"X has feature names, but {self.__class__.__name__} was fitted without\"\n"
     ]
    },
    {
     "data": {
      "text/html": [
       "<div>\n",
       "<style scoped>\n",
       "    .dataframe tbody tr th:only-of-type {\n",
       "        vertical-align: middle;\n",
       "    }\n",
       "\n",
       "    .dataframe tbody tr th {\n",
       "        vertical-align: top;\n",
       "    }\n",
       "\n",
       "    .dataframe thead th {\n",
       "        text-align: right;\n",
       "    }\n",
       "</style>\n",
       "<table border=\"1\" class=\"dataframe\">\n",
       "  <thead>\n",
       "    <tr style=\"text-align: right;\">\n",
       "      <th></th>\n",
       "      <th>teams</th>\n",
       "      <th>Bay</th>\n",
       "      <th>Lars</th>\n",
       "      <th>KNN</th>\n",
       "      <th>Linear</th>\n",
       "    </tr>\n",
       "  </thead>\n",
       "  <tbody>\n",
       "    <tr>\n",
       "      <th>0</th>\n",
       "      <td>Arizona</td>\n",
       "      <td>6.580191</td>\n",
       "      <td>7.327284</td>\n",
       "      <td>6.463734</td>\n",
       "      <td>7.339270</td>\n",
       "    </tr>\n",
       "    <tr>\n",
       "      <th>1</th>\n",
       "      <td>UCLA</td>\n",
       "      <td>7.278720</td>\n",
       "      <td>10.276054</td>\n",
       "      <td>5.657044</td>\n",
       "      <td>10.253317</td>\n",
       "    </tr>\n",
       "    <tr>\n",
       "      <th>2</th>\n",
       "      <td>Colorado</td>\n",
       "      <td>-0.555760</td>\n",
       "      <td>-2.152473</td>\n",
       "      <td>0.354283</td>\n",
       "      <td>-2.086329</td>\n",
       "    </tr>\n",
       "    <tr>\n",
       "      <th>3</th>\n",
       "      <td>Washington</td>\n",
       "      <td>-0.911809</td>\n",
       "      <td>-1.490082</td>\n",
       "      <td>-0.008758</td>\n",
       "      <td>-1.499441</td>\n",
       "    </tr>\n",
       "    <tr>\n",
       "      <th>4</th>\n",
       "      <td>Oregon</td>\n",
       "      <td>2.193071</td>\n",
       "      <td>-2.396769</td>\n",
       "      <td>1.807350</td>\n",
       "      <td>-2.479893</td>\n",
       "    </tr>\n",
       "    <tr>\n",
       "      <th>5</th>\n",
       "      <td>California</td>\n",
       "      <td>-8.915952</td>\n",
       "      <td>-1.207396</td>\n",
       "      <td>-0.324733</td>\n",
       "      <td>-1.235075</td>\n",
       "    </tr>\n",
       "    <tr>\n",
       "      <th>6</th>\n",
       "      <td>Arizona St.</td>\n",
       "      <td>0.724298</td>\n",
       "      <td>-3.490755</td>\n",
       "      <td>0.484787</td>\n",
       "      <td>-3.589905</td>\n",
       "    </tr>\n",
       "    <tr>\n",
       "      <th>7</th>\n",
       "      <td>Oregon St.</td>\n",
       "      <td>-5.700196</td>\n",
       "      <td>0.515655</td>\n",
       "      <td>0.053396</td>\n",
       "      <td>0.501846</td>\n",
       "    </tr>\n",
       "    <tr>\n",
       "      <th>8</th>\n",
       "      <td>Washington St.</td>\n",
       "      <td>1.226091</td>\n",
       "      <td>-0.681170</td>\n",
       "      <td>1.579419</td>\n",
       "      <td>-0.599953</td>\n",
       "    </tr>\n",
       "    <tr>\n",
       "      <th>9</th>\n",
       "      <td>USC</td>\n",
       "      <td>3.067669</td>\n",
       "      <td>-0.492254</td>\n",
       "      <td>1.157756</td>\n",
       "      <td>-0.524532</td>\n",
       "    </tr>\n",
       "    <tr>\n",
       "      <th>10</th>\n",
       "      <td>Utah</td>\n",
       "      <td>0.647059</td>\n",
       "      <td>-3.274734</td>\n",
       "      <td>0.676614</td>\n",
       "      <td>-3.310435</td>\n",
       "    </tr>\n",
       "    <tr>\n",
       "      <th>11</th>\n",
       "      <td>Stanford</td>\n",
       "      <td>0.301540</td>\n",
       "      <td>-2.704772</td>\n",
       "      <td>0.977084</td>\n",
       "      <td>-2.767148</td>\n",
       "    </tr>\n",
       "  </tbody>\n",
       "</table>\n",
       "</div>"
      ],
      "text/plain": [
       "             teams       Bay       Lars       KNN     Linear\n",
       "0          Arizona  6.580191   7.327284  6.463734   7.339270\n",
       "1             UCLA  7.278720  10.276054  5.657044  10.253317\n",
       "2         Colorado -0.555760  -2.152473  0.354283  -2.086329\n",
       "3       Washington -0.911809  -1.490082 -0.008758  -1.499441\n",
       "4           Oregon  2.193071  -2.396769  1.807350  -2.479893\n",
       "5       California -8.915952  -1.207396 -0.324733  -1.235075\n",
       "6      Arizona St.  0.724298  -3.490755  0.484787  -3.589905\n",
       "7       Oregon St. -5.700196   0.515655  0.053396   0.501846\n",
       "8   Washington St.  1.226091  -0.681170  1.579419  -0.599953\n",
       "9              USC  3.067669  -0.492254  1.157756  -0.524532\n",
       "10            Utah  0.647059  -3.274734  0.676614  -3.310435\n",
       "11        Stanford  0.301540  -2.704772  0.977084  -2.767148"
      ]
     },
     "execution_count": 87,
     "metadata": {},
     "output_type": "execute_result"
    }
   ],
   "source": [
    "pac12Bay = bay.predict(pac12)\n",
    "pac12Lars = lars.predict(pac12)\n",
    "pac12Knn = knn.predict(pac12)\n",
    "pac12Reg = reg.predict(pac12)\n",
    "tablepac12 = pd.DataFrame({'teams':pac12Teams, 'Bay':pac12Bay, 'Lars':pac12Lars, 'KNN':pac12Knn, 'Linear':pac12Reg})\n",
    "tablepac12"
   ]
  },
  {
   "cell_type": "markdown",
   "id": "e24c6369",
   "metadata": {
    "papermill": {
     "duration": 0.035853,
     "end_time": "2023-03-16T22:20:55.959098",
     "exception": false,
     "start_time": "2023-03-16T22:20:55.923245",
     "status": "completed"
    },
    "tags": []
   },
   "source": [
    "# SWAC 2023 Predictions"
   ]
  },
  {
   "cell_type": "code",
   "execution_count": 88,
   "id": "ba8e12bf",
   "metadata": {
    "execution": {
     "iopub.execute_input": "2023-03-16T22:20:56.033783Z",
     "iopub.status.busy": "2023-03-16T22:20:56.032995Z",
     "iopub.status.idle": "2023-03-16T22:20:56.046350Z",
     "shell.execute_reply": "2023-03-16T22:20:56.045539Z"
    },
    "papermill": {
     "duration": 0.052784,
     "end_time": "2023-03-16T22:20:56.048229",
     "exception": false,
     "start_time": "2023-03-16T22:20:55.995445",
     "status": "completed"
    },
    "tags": []
   },
   "outputs": [
    {
     "data": {
      "text/plain": [
       "0        Arkansas Pine Bluff\n",
       "1     Mississippi Valley St.\n",
       "2                Jackson St.\n",
       "3            Bethune Cookman\n",
       "4           Prairie View A&M\n",
       "5                 Alcorn St.\n",
       "6              Grambling St.\n",
       "7             Texas Southern\n",
       "8                Alabama A&M\n",
       "9                Florida A&M\n",
       "10                  Southern\n",
       "11               Alabama St.\n",
       "Name: Team, dtype: object"
      ]
     },
     "execution_count": 88,
     "metadata": {},
     "output_type": "execute_result"
    }
   ],
   "source": [
    "swac = pd.read_csv('../input/ncaa-tourney-training-data/SWAConfData.csv')\n",
    "swacTeams = swac.iloc[:,0]\n",
    "swacTeams"
   ]
  },
  {
   "cell_type": "code",
   "execution_count": 89,
   "id": "13875e2b",
   "metadata": {
    "execution": {
     "iopub.execute_input": "2023-03-16T22:20:56.121191Z",
     "iopub.status.busy": "2023-03-16T22:20:56.120286Z",
     "iopub.status.idle": "2023-03-16T22:20:56.126498Z",
     "shell.execute_reply": "2023-03-16T22:20:56.125407Z"
    },
    "papermill": {
     "duration": 0.045168,
     "end_time": "2023-03-16T22:20:56.128875",
     "exception": false,
     "start_time": "2023-03-16T22:20:56.083707",
     "status": "completed"
    },
    "tags": []
   },
   "outputs": [],
   "source": [
    "swac = swac.drop(columns = ['Team', 'Yr']);"
   ]
  },
  {
   "cell_type": "code",
   "execution_count": 90,
   "id": "61db4fca",
   "metadata": {
    "execution": {
     "iopub.execute_input": "2023-03-16T22:20:56.203896Z",
     "iopub.status.busy": "2023-03-16T22:20:56.203190Z",
     "iopub.status.idle": "2023-03-16T22:20:56.223325Z",
     "shell.execute_reply": "2023-03-16T22:20:56.222241Z"
    },
    "papermill": {
     "duration": 0.060471,
     "end_time": "2023-03-16T22:20:56.225572",
     "exception": false,
     "start_time": "2023-03-16T22:20:56.165101",
     "status": "completed"
    },
    "tags": []
   },
   "outputs": [
    {
     "name": "stderr",
     "output_type": "stream",
     "text": [
      "/opt/conda/lib/python3.7/site-packages/sklearn/base.py:444: UserWarning: X has feature names, but BayesianRidge was fitted without feature names\n",
      "  f\"X has feature names, but {self.__class__.__name__} was fitted without\"\n",
      "/opt/conda/lib/python3.7/site-packages/sklearn/base.py:444: UserWarning: X has feature names, but LassoLars was fitted without feature names\n",
      "  f\"X has feature names, but {self.__class__.__name__} was fitted without\"\n",
      "/opt/conda/lib/python3.7/site-packages/sklearn/base.py:444: UserWarning: X has feature names, but KNeighborsRegressor was fitted without feature names\n",
      "  f\"X has feature names, but {self.__class__.__name__} was fitted without\"\n",
      "/opt/conda/lib/python3.7/site-packages/sklearn/base.py:444: UserWarning: X has feature names, but LinearRegression was fitted without feature names\n",
      "  f\"X has feature names, but {self.__class__.__name__} was fitted without\"\n"
     ]
    },
    {
     "data": {
      "text/html": [
       "<div>\n",
       "<style scoped>\n",
       "    .dataframe tbody tr th:only-of-type {\n",
       "        vertical-align: middle;\n",
       "    }\n",
       "\n",
       "    .dataframe tbody tr th {\n",
       "        vertical-align: top;\n",
       "    }\n",
       "\n",
       "    .dataframe thead th {\n",
       "        text-align: right;\n",
       "    }\n",
       "</style>\n",
       "<table border=\"1\" class=\"dataframe\">\n",
       "  <thead>\n",
       "    <tr style=\"text-align: right;\">\n",
       "      <th></th>\n",
       "      <th>teams</th>\n",
       "      <th>Bay</th>\n",
       "      <th>Lars</th>\n",
       "      <th>KNN</th>\n",
       "      <th>Linear</th>\n",
       "    </tr>\n",
       "  </thead>\n",
       "  <tbody>\n",
       "    <tr>\n",
       "      <th>0</th>\n",
       "      <td>Arkansas Pine Bluff</td>\n",
       "      <td>-8.583165</td>\n",
       "      <td>0.606716</td>\n",
       "      <td>-0.362548</td>\n",
       "      <td>0.708094</td>\n",
       "    </tr>\n",
       "    <tr>\n",
       "      <th>1</th>\n",
       "      <td>Mississippi Valley St.</td>\n",
       "      <td>-10.642589</td>\n",
       "      <td>-5.087503</td>\n",
       "      <td>-0.372233</td>\n",
       "      <td>-5.367990</td>\n",
       "    </tr>\n",
       "    <tr>\n",
       "      <th>2</th>\n",
       "      <td>Jackson St.</td>\n",
       "      <td>-5.548667</td>\n",
       "      <td>2.522217</td>\n",
       "      <td>-0.302768</td>\n",
       "      <td>2.561486</td>\n",
       "    </tr>\n",
       "    <tr>\n",
       "      <th>3</th>\n",
       "      <td>Bethune Cookman</td>\n",
       "      <td>-7.771314</td>\n",
       "      <td>-2.701439</td>\n",
       "      <td>-0.083649</td>\n",
       "      <td>-2.888474</td>\n",
       "    </tr>\n",
       "    <tr>\n",
       "      <th>4</th>\n",
       "      <td>Prairie View A&amp;M</td>\n",
       "      <td>-6.674300</td>\n",
       "      <td>1.133555</td>\n",
       "      <td>0.104273</td>\n",
       "      <td>1.179369</td>\n",
       "    </tr>\n",
       "    <tr>\n",
       "      <th>5</th>\n",
       "      <td>Alcorn St.</td>\n",
       "      <td>-3.300556</td>\n",
       "      <td>3.450589</td>\n",
       "      <td>0.061761</td>\n",
       "      <td>3.574861</td>\n",
       "    </tr>\n",
       "    <tr>\n",
       "      <th>6</th>\n",
       "      <td>Grambling St.</td>\n",
       "      <td>-1.698902</td>\n",
       "      <td>0.795686</td>\n",
       "      <td>0.551694</td>\n",
       "      <td>0.662805</td>\n",
       "    </tr>\n",
       "    <tr>\n",
       "      <th>7</th>\n",
       "      <td>Texas Southern</td>\n",
       "      <td>-7.688776</td>\n",
       "      <td>0.079499</td>\n",
       "      <td>-0.289643</td>\n",
       "      <td>0.272986</td>\n",
       "    </tr>\n",
       "    <tr>\n",
       "      <th>8</th>\n",
       "      <td>Alabama A&amp;M</td>\n",
       "      <td>-6.296672</td>\n",
       "      <td>0.869104</td>\n",
       "      <td>-0.317627</td>\n",
       "      <td>0.753870</td>\n",
       "    </tr>\n",
       "    <tr>\n",
       "      <th>9</th>\n",
       "      <td>Florida A&amp;M</td>\n",
       "      <td>-9.962614</td>\n",
       "      <td>-2.002623</td>\n",
       "      <td>-0.038978</td>\n",
       "      <td>-2.021246</td>\n",
       "    </tr>\n",
       "    <tr>\n",
       "      <th>10</th>\n",
       "      <td>Southern</td>\n",
       "      <td>-5.857285</td>\n",
       "      <td>3.742432</td>\n",
       "      <td>-0.206545</td>\n",
       "      <td>3.807762</td>\n",
       "    </tr>\n",
       "    <tr>\n",
       "      <th>11</th>\n",
       "      <td>Alabama St.</td>\n",
       "      <td>-9.515299</td>\n",
       "      <td>-5.327380</td>\n",
       "      <td>-0.330402</td>\n",
       "      <td>-5.392431</td>\n",
       "    </tr>\n",
       "  </tbody>\n",
       "</table>\n",
       "</div>"
      ],
      "text/plain": [
       "                     teams        Bay      Lars       KNN    Linear\n",
       "0      Arkansas Pine Bluff  -8.583165  0.606716 -0.362548  0.708094\n",
       "1   Mississippi Valley St. -10.642589 -5.087503 -0.372233 -5.367990\n",
       "2              Jackson St.  -5.548667  2.522217 -0.302768  2.561486\n",
       "3          Bethune Cookman  -7.771314 -2.701439 -0.083649 -2.888474\n",
       "4         Prairie View A&M  -6.674300  1.133555  0.104273  1.179369\n",
       "5               Alcorn St.  -3.300556  3.450589  0.061761  3.574861\n",
       "6            Grambling St.  -1.698902  0.795686  0.551694  0.662805\n",
       "7           Texas Southern  -7.688776  0.079499 -0.289643  0.272986\n",
       "8              Alabama A&M  -6.296672  0.869104 -0.317627  0.753870\n",
       "9              Florida A&M  -9.962614 -2.002623 -0.038978 -2.021246\n",
       "10                Southern  -5.857285  3.742432 -0.206545  3.807762\n",
       "11             Alabama St.  -9.515299 -5.327380 -0.330402 -5.392431"
      ]
     },
     "execution_count": 90,
     "metadata": {},
     "output_type": "execute_result"
    }
   ],
   "source": [
    "swacBay = bay.predict(swac)\n",
    "swacLars = lars.predict(swac)\n",
    "swacKnn = knn.predict(swac)\n",
    "swacReg = reg.predict(swac)\n",
    "tableswac = pd.DataFrame({'teams':swacTeams, 'Bay':swacBay, 'Lars':swacLars, 'KNN':swacKnn, 'Linear':swacReg})\n",
    "tableswac"
   ]
  },
  {
   "cell_type": "markdown",
   "id": "aa6bf58b",
   "metadata": {
    "papermill": {
     "duration": 0.034969,
     "end_time": "2023-03-16T22:20:56.295937",
     "exception": false,
     "start_time": "2023-03-16T22:20:56.260968",
     "status": "completed"
    },
    "tags": []
   },
   "source": [
    "# SEC 2023 Predictions"
   ]
  },
  {
   "cell_type": "code",
   "execution_count": 91,
   "id": "90ae9672",
   "metadata": {
    "execution": {
     "iopub.execute_input": "2023-03-16T22:20:56.369825Z",
     "iopub.status.busy": "2023-03-16T22:20:56.369151Z",
     "iopub.status.idle": "2023-03-16T22:20:56.382500Z",
     "shell.execute_reply": "2023-03-16T22:20:56.381297Z"
    },
    "papermill": {
     "duration": 0.052454,
     "end_time": "2023-03-16T22:20:56.384641",
     "exception": false,
     "start_time": "2023-03-16T22:20:56.332187",
     "status": "completed"
    },
    "tags": []
   },
   "outputs": [
    {
     "data": {
      "text/plain": [
       "0                 LSU\n",
       "1          Vanderbilt\n",
       "2           Texas A&M\n",
       "3           Tennessee\n",
       "4         Mississippi\n",
       "5              Auburn\n",
       "6      South Carolina\n",
       "7            Kentucky\n",
       "8             Alabama\n",
       "9             Florida\n",
       "10            Georgia\n",
       "11    Mississippi St.\n",
       "12           Missouri\n",
       "13           Arkansas\n",
       "Name: Team, dtype: object"
      ]
     },
     "execution_count": 91,
     "metadata": {},
     "output_type": "execute_result"
    }
   ],
   "source": [
    "sec = pd.read_csv('../input/ncaa-tourney-training-data/SEConfData.csv')\n",
    "secTeams = sec.iloc[:,0]\n",
    "secTeams"
   ]
  },
  {
   "cell_type": "code",
   "execution_count": 92,
   "id": "68484061",
   "metadata": {
    "execution": {
     "iopub.execute_input": "2023-03-16T22:20:56.457414Z",
     "iopub.status.busy": "2023-03-16T22:20:56.456801Z",
     "iopub.status.idle": "2023-03-16T22:20:56.462070Z",
     "shell.execute_reply": "2023-03-16T22:20:56.461286Z"
    },
    "papermill": {
     "duration": 0.043436,
     "end_time": "2023-03-16T22:20:56.463713",
     "exception": false,
     "start_time": "2023-03-16T22:20:56.420277",
     "status": "completed"
    },
    "tags": []
   },
   "outputs": [],
   "source": [
    "sec = sec.drop(columns = ['Team', 'Yr']);"
   ]
  },
  {
   "cell_type": "code",
   "execution_count": 93,
   "id": "dfabb8d1",
   "metadata": {
    "execution": {
     "iopub.execute_input": "2023-03-16T22:20:56.538243Z",
     "iopub.status.busy": "2023-03-16T22:20:56.537598Z",
     "iopub.status.idle": "2023-03-16T22:20:56.561375Z",
     "shell.execute_reply": "2023-03-16T22:20:56.559392Z"
    },
    "papermill": {
     "duration": 0.064886,
     "end_time": "2023-03-16T22:20:56.563983",
     "exception": false,
     "start_time": "2023-03-16T22:20:56.499097",
     "status": "completed"
    },
    "tags": []
   },
   "outputs": [
    {
     "name": "stderr",
     "output_type": "stream",
     "text": [
      "/opt/conda/lib/python3.7/site-packages/sklearn/base.py:444: UserWarning: X has feature names, but BayesianRidge was fitted without feature names\n",
      "  f\"X has feature names, but {self.__class__.__name__} was fitted without\"\n",
      "/opt/conda/lib/python3.7/site-packages/sklearn/base.py:444: UserWarning: X has feature names, but LassoLars was fitted without feature names\n",
      "  f\"X has feature names, but {self.__class__.__name__} was fitted without\"\n",
      "/opt/conda/lib/python3.7/site-packages/sklearn/base.py:444: UserWarning: X has feature names, but KNeighborsRegressor was fitted without feature names\n",
      "  f\"X has feature names, but {self.__class__.__name__} was fitted without\"\n",
      "/opt/conda/lib/python3.7/site-packages/sklearn/base.py:444: UserWarning: X has feature names, but LinearRegression was fitted without feature names\n",
      "  f\"X has feature names, but {self.__class__.__name__} was fitted without\"\n"
     ]
    },
    {
     "data": {
      "text/html": [
       "<div>\n",
       "<style scoped>\n",
       "    .dataframe tbody tr th:only-of-type {\n",
       "        vertical-align: middle;\n",
       "    }\n",
       "\n",
       "    .dataframe tbody tr th {\n",
       "        vertical-align: top;\n",
       "    }\n",
       "\n",
       "    .dataframe thead th {\n",
       "        text-align: right;\n",
       "    }\n",
       "</style>\n",
       "<table border=\"1\" class=\"dataframe\">\n",
       "  <thead>\n",
       "    <tr style=\"text-align: right;\">\n",
       "      <th></th>\n",
       "      <th>teams</th>\n",
       "      <th>Bay</th>\n",
       "      <th>Lars</th>\n",
       "      <th>KNN</th>\n",
       "      <th>Linear</th>\n",
       "    </tr>\n",
       "  </thead>\n",
       "  <tbody>\n",
       "    <tr>\n",
       "      <th>0</th>\n",
       "      <td>LSU</td>\n",
       "      <td>-2.638465</td>\n",
       "      <td>-0.210358</td>\n",
       "      <td>0.275263</td>\n",
       "      <td>-0.181468</td>\n",
       "    </tr>\n",
       "    <tr>\n",
       "      <th>1</th>\n",
       "      <td>Vanderbilt</td>\n",
       "      <td>1.742814</td>\n",
       "      <td>-0.824087</td>\n",
       "      <td>1.613990</td>\n",
       "      <td>-0.814808</td>\n",
       "    </tr>\n",
       "    <tr>\n",
       "      <th>2</th>\n",
       "      <td>Texas A&amp;M</td>\n",
       "      <td>3.629411</td>\n",
       "      <td>2.143390</td>\n",
       "      <td>1.974282</td>\n",
       "      <td>2.126297</td>\n",
       "    </tr>\n",
       "    <tr>\n",
       "      <th>3</th>\n",
       "      <td>Tennessee</td>\n",
       "      <td>5.694566</td>\n",
       "      <td>7.597029</td>\n",
       "      <td>3.660133</td>\n",
       "      <td>7.672557</td>\n",
       "    </tr>\n",
       "    <tr>\n",
       "      <th>4</th>\n",
       "      <td>Mississippi</td>\n",
       "      <td>-2.321009</td>\n",
       "      <td>-4.133417</td>\n",
       "      <td>0.090160</td>\n",
       "      <td>-4.081962</td>\n",
       "    </tr>\n",
       "    <tr>\n",
       "      <th>5</th>\n",
       "      <td>Auburn</td>\n",
       "      <td>3.161850</td>\n",
       "      <td>1.597849</td>\n",
       "      <td>0.837598</td>\n",
       "      <td>1.606130</td>\n",
       "    </tr>\n",
       "    <tr>\n",
       "      <th>6</th>\n",
       "      <td>South Carolina</td>\n",
       "      <td>-3.701382</td>\n",
       "      <td>1.759004</td>\n",
       "      <td>0.095295</td>\n",
       "      <td>1.786306</td>\n",
       "    </tr>\n",
       "    <tr>\n",
       "      <th>7</th>\n",
       "      <td>Kentucky</td>\n",
       "      <td>4.434977</td>\n",
       "      <td>2.200894</td>\n",
       "      <td>1.802052</td>\n",
       "      <td>2.076750</td>\n",
       "    </tr>\n",
       "    <tr>\n",
       "      <th>8</th>\n",
       "      <td>Alabama</td>\n",
       "      <td>6.502344</td>\n",
       "      <td>9.574921</td>\n",
       "      <td>7.028659</td>\n",
       "      <td>9.532464</td>\n",
       "    </tr>\n",
       "    <tr>\n",
       "      <th>9</th>\n",
       "      <td>Florida</td>\n",
       "      <td>-0.843753</td>\n",
       "      <td>-3.959651</td>\n",
       "      <td>0.065449</td>\n",
       "      <td>-3.951277</td>\n",
       "    </tr>\n",
       "    <tr>\n",
       "      <th>10</th>\n",
       "      <td>Georgia</td>\n",
       "      <td>-2.603066</td>\n",
       "      <td>-0.207900</td>\n",
       "      <td>-0.137778</td>\n",
       "      <td>-0.167050</td>\n",
       "    </tr>\n",
       "    <tr>\n",
       "      <th>11</th>\n",
       "      <td>Mississippi St.</td>\n",
       "      <td>1.350984</td>\n",
       "      <td>-1.650019</td>\n",
       "      <td>0.865364</td>\n",
       "      <td>-1.630379</td>\n",
       "    </tr>\n",
       "    <tr>\n",
       "      <th>12</th>\n",
       "      <td>Missouri</td>\n",
       "      <td>5.143061</td>\n",
       "      <td>2.398581</td>\n",
       "      <td>2.095065</td>\n",
       "      <td>2.232516</td>\n",
       "    </tr>\n",
       "    <tr>\n",
       "      <th>13</th>\n",
       "      <td>Arkansas</td>\n",
       "      <td>2.335259</td>\n",
       "      <td>0.831791</td>\n",
       "      <td>1.355088</td>\n",
       "      <td>0.969785</td>\n",
       "    </tr>\n",
       "  </tbody>\n",
       "</table>\n",
       "</div>"
      ],
      "text/plain": [
       "              teams       Bay      Lars       KNN    Linear\n",
       "0               LSU -2.638465 -0.210358  0.275263 -0.181468\n",
       "1        Vanderbilt  1.742814 -0.824087  1.613990 -0.814808\n",
       "2         Texas A&M  3.629411  2.143390  1.974282  2.126297\n",
       "3         Tennessee  5.694566  7.597029  3.660133  7.672557\n",
       "4       Mississippi -2.321009 -4.133417  0.090160 -4.081962\n",
       "5            Auburn  3.161850  1.597849  0.837598  1.606130\n",
       "6    South Carolina -3.701382  1.759004  0.095295  1.786306\n",
       "7          Kentucky  4.434977  2.200894  1.802052  2.076750\n",
       "8           Alabama  6.502344  9.574921  7.028659  9.532464\n",
       "9           Florida -0.843753 -3.959651  0.065449 -3.951277\n",
       "10          Georgia -2.603066 -0.207900 -0.137778 -0.167050\n",
       "11  Mississippi St.  1.350984 -1.650019  0.865364 -1.630379\n",
       "12         Missouri  5.143061  2.398581  2.095065  2.232516\n",
       "13         Arkansas  2.335259  0.831791  1.355088  0.969785"
      ]
     },
     "execution_count": 93,
     "metadata": {},
     "output_type": "execute_result"
    }
   ],
   "source": [
    "secBay = bay.predict(sec)\n",
    "secLars = lars.predict(sec)\n",
    "secKnn = knn.predict(sec)\n",
    "secReg = reg.predict(sec)\n",
    "tablesec = pd.DataFrame({'teams':secTeams, 'Bay':secBay, 'Lars':secLars, 'KNN':secKnn, 'Linear':secReg})\n",
    "tablesec"
   ]
  },
  {
   "cell_type": "markdown",
   "id": "c3f8a671",
   "metadata": {
    "papermill": {
     "duration": 0.036427,
     "end_time": "2023-03-16T22:20:56.638181",
     "exception": false,
     "start_time": "2023-03-16T22:20:56.601754",
     "status": "completed"
    },
    "tags": []
   },
   "source": [
    "# Big Ten 2023 Predictions"
   ]
  },
  {
   "cell_type": "code",
   "execution_count": 94,
   "id": "38d974a9",
   "metadata": {
    "execution": {
     "iopub.execute_input": "2023-03-16T22:20:56.713619Z",
     "iopub.status.busy": "2023-03-16T22:20:56.712752Z",
     "iopub.status.idle": "2023-03-16T22:20:56.728370Z",
     "shell.execute_reply": "2023-03-16T22:20:56.727225Z"
    },
    "papermill": {
     "duration": 0.054889,
     "end_time": "2023-03-16T22:20:56.730434",
     "exception": false,
     "start_time": "2023-03-16T22:20:56.675545",
     "status": "completed"
    },
    "tags": []
   },
   "outputs": [
    {
     "data": {
      "text/plain": [
       "0          Indiana\n",
       "1         Maryland\n",
       "2         Penn St.\n",
       "3         Nebraska\n",
       "4        Minnesota\n",
       "5         Illinois\n",
       "6         Michigan\n",
       "7     Northwestern\n",
       "8        Wisconsin\n",
       "9     Michigan St.\n",
       "10            Iowa\n",
       "11        Ohio St.\n",
       "12          Purdue\n",
       "13         Rutgers\n",
       "Name: Team, dtype: object"
      ]
     },
     "execution_count": 94,
     "metadata": {},
     "output_type": "execute_result"
    }
   ],
   "source": [
    "bigten = pd.read_csv('../input/ncaa-tourney-training-data/B10ConfData.csv')\n",
    "bigtenTeams = bigten.iloc[:,0]\n",
    "bigtenTeams"
   ]
  },
  {
   "cell_type": "code",
   "execution_count": 95,
   "id": "913fadeb",
   "metadata": {
    "execution": {
     "iopub.execute_input": "2023-03-16T22:20:56.805013Z",
     "iopub.status.busy": "2023-03-16T22:20:56.804641Z",
     "iopub.status.idle": "2023-03-16T22:20:56.810486Z",
     "shell.execute_reply": "2023-03-16T22:20:56.809465Z"
    },
    "papermill": {
     "duration": 0.045135,
     "end_time": "2023-03-16T22:20:56.812492",
     "exception": false,
     "start_time": "2023-03-16T22:20:56.767357",
     "status": "completed"
    },
    "tags": []
   },
   "outputs": [],
   "source": [
    "bigten = bigten.drop(columns = ['Team', 'Yr']);"
   ]
  },
  {
   "cell_type": "code",
   "execution_count": 96,
   "id": "1f35635f",
   "metadata": {
    "execution": {
     "iopub.execute_input": "2023-03-16T22:20:56.890230Z",
     "iopub.status.busy": "2023-03-16T22:20:56.889821Z",
     "iopub.status.idle": "2023-03-16T22:20:56.910560Z",
     "shell.execute_reply": "2023-03-16T22:20:56.908754Z"
    },
    "papermill": {
     "duration": 0.062993,
     "end_time": "2023-03-16T22:20:56.913225",
     "exception": false,
     "start_time": "2023-03-16T22:20:56.850232",
     "status": "completed"
    },
    "tags": []
   },
   "outputs": [
    {
     "name": "stderr",
     "output_type": "stream",
     "text": [
      "/opt/conda/lib/python3.7/site-packages/sklearn/base.py:444: UserWarning: X has feature names, but BayesianRidge was fitted without feature names\n",
      "  f\"X has feature names, but {self.__class__.__name__} was fitted without\"\n",
      "/opt/conda/lib/python3.7/site-packages/sklearn/base.py:444: UserWarning: X has feature names, but LassoLars was fitted without feature names\n",
      "  f\"X has feature names, but {self.__class__.__name__} was fitted without\"\n",
      "/opt/conda/lib/python3.7/site-packages/sklearn/base.py:444: UserWarning: X has feature names, but KNeighborsRegressor was fitted without feature names\n",
      "  f\"X has feature names, but {self.__class__.__name__} was fitted without\"\n",
      "/opt/conda/lib/python3.7/site-packages/sklearn/base.py:444: UserWarning: X has feature names, but LinearRegression was fitted without feature names\n",
      "  f\"X has feature names, but {self.__class__.__name__} was fitted without\"\n"
     ]
    },
    {
     "data": {
      "text/html": [
       "<div>\n",
       "<style scoped>\n",
       "    .dataframe tbody tr th:only-of-type {\n",
       "        vertical-align: middle;\n",
       "    }\n",
       "\n",
       "    .dataframe tbody tr th {\n",
       "        vertical-align: top;\n",
       "    }\n",
       "\n",
       "    .dataframe thead th {\n",
       "        text-align: right;\n",
       "    }\n",
       "</style>\n",
       "<table border=\"1\" class=\"dataframe\">\n",
       "  <thead>\n",
       "    <tr style=\"text-align: right;\">\n",
       "      <th></th>\n",
       "      <th>teams</th>\n",
       "      <th>Bay</th>\n",
       "      <th>Lars</th>\n",
       "      <th>KNN</th>\n",
       "      <th>Linear</th>\n",
       "    </tr>\n",
       "  </thead>\n",
       "  <tbody>\n",
       "    <tr>\n",
       "      <th>0</th>\n",
       "      <td>Indiana</td>\n",
       "      <td>3.526114</td>\n",
       "      <td>1.485047</td>\n",
       "      <td>0.744236</td>\n",
       "      <td>1.337631</td>\n",
       "    </tr>\n",
       "    <tr>\n",
       "      <th>1</th>\n",
       "      <td>Maryland</td>\n",
       "      <td>2.720838</td>\n",
       "      <td>-0.075720</td>\n",
       "      <td>1.576426</td>\n",
       "      <td>-0.119678</td>\n",
       "    </tr>\n",
       "    <tr>\n",
       "      <th>2</th>\n",
       "      <td>Penn St.</td>\n",
       "      <td>2.562481</td>\n",
       "      <td>1.834619</td>\n",
       "      <td>0.932578</td>\n",
       "      <td>1.937555</td>\n",
       "    </tr>\n",
       "    <tr>\n",
       "      <th>3</th>\n",
       "      <td>Nebraska</td>\n",
       "      <td>-0.279175</td>\n",
       "      <td>-2.296194</td>\n",
       "      <td>0.511807</td>\n",
       "      <td>-2.392363</td>\n",
       "    </tr>\n",
       "    <tr>\n",
       "      <th>4</th>\n",
       "      <td>Minnesota</td>\n",
       "      <td>-5.350405</td>\n",
       "      <td>-0.527115</td>\n",
       "      <td>-0.084986</td>\n",
       "      <td>-0.436406</td>\n",
       "    </tr>\n",
       "    <tr>\n",
       "      <th>5</th>\n",
       "      <td>Illinois</td>\n",
       "      <td>1.984994</td>\n",
       "      <td>-1.404162</td>\n",
       "      <td>1.207962</td>\n",
       "      <td>-1.430698</td>\n",
       "    </tr>\n",
       "    <tr>\n",
       "      <th>6</th>\n",
       "      <td>Michigan</td>\n",
       "      <td>0.980197</td>\n",
       "      <td>-1.717445</td>\n",
       "      <td>1.200102</td>\n",
       "      <td>-1.761608</td>\n",
       "    </tr>\n",
       "    <tr>\n",
       "      <th>7</th>\n",
       "      <td>Northwestern</td>\n",
       "      <td>1.699859</td>\n",
       "      <td>0.066619</td>\n",
       "      <td>0.481456</td>\n",
       "      <td>0.014292</td>\n",
       "    </tr>\n",
       "    <tr>\n",
       "      <th>8</th>\n",
       "      <td>Wisconsin</td>\n",
       "      <td>-0.051649</td>\n",
       "      <td>-0.282191</td>\n",
       "      <td>0.579752</td>\n",
       "      <td>-0.231769</td>\n",
       "    </tr>\n",
       "    <tr>\n",
       "      <th>9</th>\n",
       "      <td>Michigan St.</td>\n",
       "      <td>3.199219</td>\n",
       "      <td>2.864280</td>\n",
       "      <td>1.669796</td>\n",
       "      <td>2.725189</td>\n",
       "    </tr>\n",
       "    <tr>\n",
       "      <th>10</th>\n",
       "      <td>Iowa</td>\n",
       "      <td>3.575655</td>\n",
       "      <td>0.688120</td>\n",
       "      <td>1.915665</td>\n",
       "      <td>0.667480</td>\n",
       "    </tr>\n",
       "    <tr>\n",
       "      <th>11</th>\n",
       "      <td>Ohio St.</td>\n",
       "      <td>1.338783</td>\n",
       "      <td>-3.265874</td>\n",
       "      <td>1.611895</td>\n",
       "      <td>-3.445845</td>\n",
       "    </tr>\n",
       "    <tr>\n",
       "      <th>12</th>\n",
       "      <td>Purdue</td>\n",
       "      <td>6.936441</td>\n",
       "      <td>8.412625</td>\n",
       "      <td>8.058787</td>\n",
       "      <td>8.402238</td>\n",
       "    </tr>\n",
       "    <tr>\n",
       "      <th>13</th>\n",
       "      <td>Rutgers</td>\n",
       "      <td>0.979540</td>\n",
       "      <td>-1.237461</td>\n",
       "      <td>0.503511</td>\n",
       "      <td>-1.183283</td>\n",
       "    </tr>\n",
       "  </tbody>\n",
       "</table>\n",
       "</div>"
      ],
      "text/plain": [
       "           teams       Bay      Lars       KNN    Linear\n",
       "0        Indiana  3.526114  1.485047  0.744236  1.337631\n",
       "1       Maryland  2.720838 -0.075720  1.576426 -0.119678\n",
       "2       Penn St.  2.562481  1.834619  0.932578  1.937555\n",
       "3       Nebraska -0.279175 -2.296194  0.511807 -2.392363\n",
       "4      Minnesota -5.350405 -0.527115 -0.084986 -0.436406\n",
       "5       Illinois  1.984994 -1.404162  1.207962 -1.430698\n",
       "6       Michigan  0.980197 -1.717445  1.200102 -1.761608\n",
       "7   Northwestern  1.699859  0.066619  0.481456  0.014292\n",
       "8      Wisconsin -0.051649 -0.282191  0.579752 -0.231769\n",
       "9   Michigan St.  3.199219  2.864280  1.669796  2.725189\n",
       "10          Iowa  3.575655  0.688120  1.915665  0.667480\n",
       "11      Ohio St.  1.338783 -3.265874  1.611895 -3.445845\n",
       "12        Purdue  6.936441  8.412625  8.058787  8.402238\n",
       "13       Rutgers  0.979540 -1.237461  0.503511 -1.183283"
      ]
     },
     "execution_count": 96,
     "metadata": {},
     "output_type": "execute_result"
    }
   ],
   "source": [
    "bigtenBay = bay.predict(bigten)\n",
    "bigtenLars = lars.predict(bigten)\n",
    "bigtenKnn = knn.predict(bigten)\n",
    "bigtenReg = reg.predict(bigten)\n",
    "tablebigten = pd.DataFrame({'teams':bigtenTeams, 'Bay':bigtenBay, 'Lars':bigtenLars, 'KNN':bigtenKnn, 'Linear':bigtenReg})\n",
    "tablebigten"
   ]
  },
  {
   "cell_type": "markdown",
   "id": "6b48f00a",
   "metadata": {
    "papermill": {
     "duration": 0.036016,
     "end_time": "2023-03-16T22:20:56.986305",
     "exception": false,
     "start_time": "2023-03-16T22:20:56.950289",
     "status": "completed"
    },
    "tags": []
   },
   "source": [
    "# MAC 2023 Predictions"
   ]
  },
  {
   "cell_type": "code",
   "execution_count": 97,
   "id": "6555a6aa",
   "metadata": {
    "execution": {
     "iopub.execute_input": "2023-03-16T22:20:57.060150Z",
     "iopub.status.busy": "2023-03-16T22:20:57.059690Z",
     "iopub.status.idle": "2023-03-16T22:20:57.072996Z",
     "shell.execute_reply": "2023-03-16T22:20:57.072277Z"
    },
    "papermill": {
     "duration": 0.052167,
     "end_time": "2023-03-16T22:20:57.074958",
     "exception": false,
     "start_time": "2023-03-16T22:20:57.022791",
     "status": "completed"
    },
    "tags": []
   },
   "outputs": [
    {
     "data": {
      "text/plain": [
       "0                Toledo\n",
       "1      Central Michigan\n",
       "2                  Ohio\n",
       "3     Northern Illinois\n",
       "4              Kent St.\n",
       "5                 Akron\n",
       "6         Bowling Green\n",
       "7               Buffalo\n",
       "8      Eastern Michigan\n",
       "9      Western Michigan\n",
       "10             Ball St.\n",
       "11             Miami OH\n",
       "Name: Team, dtype: object"
      ]
     },
     "execution_count": 97,
     "metadata": {},
     "output_type": "execute_result"
    }
   ],
   "source": [
    "mac = pd.read_csv('../input/ncaa-tourney-training-data/MAConfData.csv')\n",
    "macTeams = mac.iloc[:,0]\n",
    "macTeams"
   ]
  },
  {
   "cell_type": "code",
   "execution_count": 98,
   "id": "81cdbce9",
   "metadata": {
    "execution": {
     "iopub.execute_input": "2023-03-16T22:20:57.153893Z",
     "iopub.status.busy": "2023-03-16T22:20:57.153282Z",
     "iopub.status.idle": "2023-03-16T22:20:57.158092Z",
     "shell.execute_reply": "2023-03-16T22:20:57.157379Z"
    },
    "papermill": {
     "duration": 0.047627,
     "end_time": "2023-03-16T22:20:57.160408",
     "exception": false,
     "start_time": "2023-03-16T22:20:57.112781",
     "status": "completed"
    },
    "tags": []
   },
   "outputs": [],
   "source": [
    "mac = mac.drop(columns = ['Team', 'Yr']);"
   ]
  },
  {
   "cell_type": "code",
   "execution_count": 99,
   "id": "db651fcf",
   "metadata": {
    "execution": {
     "iopub.execute_input": "2023-03-16T22:20:57.237796Z",
     "iopub.status.busy": "2023-03-16T22:20:57.237438Z",
     "iopub.status.idle": "2023-03-16T22:20:57.259693Z",
     "shell.execute_reply": "2023-03-16T22:20:57.258631Z"
    },
    "papermill": {
     "duration": 0.06342,
     "end_time": "2023-03-16T22:20:57.261810",
     "exception": false,
     "start_time": "2023-03-16T22:20:57.198390",
     "status": "completed"
    },
    "tags": []
   },
   "outputs": [
    {
     "name": "stderr",
     "output_type": "stream",
     "text": [
      "/opt/conda/lib/python3.7/site-packages/sklearn/base.py:444: UserWarning: X has feature names, but BayesianRidge was fitted without feature names\n",
      "  f\"X has feature names, but {self.__class__.__name__} was fitted without\"\n",
      "/opt/conda/lib/python3.7/site-packages/sklearn/base.py:444: UserWarning: X has feature names, but LassoLars was fitted without feature names\n",
      "  f\"X has feature names, but {self.__class__.__name__} was fitted without\"\n",
      "/opt/conda/lib/python3.7/site-packages/sklearn/base.py:444: UserWarning: X has feature names, but KNeighborsRegressor was fitted without feature names\n",
      "  f\"X has feature names, but {self.__class__.__name__} was fitted without\"\n",
      "/opt/conda/lib/python3.7/site-packages/sklearn/base.py:444: UserWarning: X has feature names, but LinearRegression was fitted without feature names\n",
      "  f\"X has feature names, but {self.__class__.__name__} was fitted without\"\n"
     ]
    },
    {
     "data": {
      "text/html": [
       "<div>\n",
       "<style scoped>\n",
       "    .dataframe tbody tr th:only-of-type {\n",
       "        vertical-align: middle;\n",
       "    }\n",
       "\n",
       "    .dataframe tbody tr th {\n",
       "        vertical-align: top;\n",
       "    }\n",
       "\n",
       "    .dataframe thead th {\n",
       "        text-align: right;\n",
       "    }\n",
       "</style>\n",
       "<table border=\"1\" class=\"dataframe\">\n",
       "  <thead>\n",
       "    <tr style=\"text-align: right;\">\n",
       "      <th></th>\n",
       "      <th>teams</th>\n",
       "      <th>Bay</th>\n",
       "      <th>Lars</th>\n",
       "      <th>KNN</th>\n",
       "      <th>Linear</th>\n",
       "    </tr>\n",
       "  </thead>\n",
       "  <tbody>\n",
       "    <tr>\n",
       "      <th>0</th>\n",
       "      <td>Toledo</td>\n",
       "      <td>4.280251</td>\n",
       "      <td>1.193052</td>\n",
       "      <td>0.494107</td>\n",
       "      <td>1.128437</td>\n",
       "    </tr>\n",
       "    <tr>\n",
       "      <th>1</th>\n",
       "      <td>Central Michigan</td>\n",
       "      <td>-8.815486</td>\n",
       "      <td>-2.467639</td>\n",
       "      <td>-0.385019</td>\n",
       "      <td>-2.497969</td>\n",
       "    </tr>\n",
       "    <tr>\n",
       "      <th>2</th>\n",
       "      <td>Ohio</td>\n",
       "      <td>-0.148298</td>\n",
       "      <td>0.461233</td>\n",
       "      <td>0.248627</td>\n",
       "      <td>0.443851</td>\n",
       "    </tr>\n",
       "    <tr>\n",
       "      <th>3</th>\n",
       "      <td>Northern Illinois</td>\n",
       "      <td>-4.218376</td>\n",
       "      <td>0.329510</td>\n",
       "      <td>0.023328</td>\n",
       "      <td>0.289977</td>\n",
       "    </tr>\n",
       "    <tr>\n",
       "      <th>4</th>\n",
       "      <td>Kent St.</td>\n",
       "      <td>2.044115</td>\n",
       "      <td>0.278755</td>\n",
       "      <td>0.983261</td>\n",
       "      <td>0.279179</td>\n",
       "    </tr>\n",
       "    <tr>\n",
       "      <th>5</th>\n",
       "      <td>Akron</td>\n",
       "      <td>-0.144877</td>\n",
       "      <td>-1.318327</td>\n",
       "      <td>0.841116</td>\n",
       "      <td>-1.312460</td>\n",
       "    </tr>\n",
       "    <tr>\n",
       "      <th>6</th>\n",
       "      <td>Bowling Green</td>\n",
       "      <td>-5.818377</td>\n",
       "      <td>-1.200357</td>\n",
       "      <td>-0.040980</td>\n",
       "      <td>-1.210593</td>\n",
       "    </tr>\n",
       "    <tr>\n",
       "      <th>7</th>\n",
       "      <td>Buffalo</td>\n",
       "      <td>-2.961971</td>\n",
       "      <td>0.224587</td>\n",
       "      <td>0.167318</td>\n",
       "      <td>0.272586</td>\n",
       "    </tr>\n",
       "    <tr>\n",
       "      <th>8</th>\n",
       "      <td>Eastern Michigan</td>\n",
       "      <td>-7.368555</td>\n",
       "      <td>-0.386207</td>\n",
       "      <td>-0.028447</td>\n",
       "      <td>-0.257851</td>\n",
       "    </tr>\n",
       "    <tr>\n",
       "      <th>9</th>\n",
       "      <td>Western Michigan</td>\n",
       "      <td>-7.315616</td>\n",
       "      <td>-3.030606</td>\n",
       "      <td>-0.044977</td>\n",
       "      <td>-3.082426</td>\n",
       "    </tr>\n",
       "    <tr>\n",
       "      <th>10</th>\n",
       "      <td>Ball St.</td>\n",
       "      <td>-1.606364</td>\n",
       "      <td>-2.073100</td>\n",
       "      <td>-0.133147</td>\n",
       "      <td>-1.951291</td>\n",
       "    </tr>\n",
       "    <tr>\n",
       "      <th>11</th>\n",
       "      <td>Miami OH</td>\n",
       "      <td>-5.234103</td>\n",
       "      <td>-0.494096</td>\n",
       "      <td>-0.018103</td>\n",
       "      <td>-0.579930</td>\n",
       "    </tr>\n",
       "  </tbody>\n",
       "</table>\n",
       "</div>"
      ],
      "text/plain": [
       "                teams       Bay      Lars       KNN    Linear\n",
       "0              Toledo  4.280251  1.193052  0.494107  1.128437\n",
       "1    Central Michigan -8.815486 -2.467639 -0.385019 -2.497969\n",
       "2                Ohio -0.148298  0.461233  0.248627  0.443851\n",
       "3   Northern Illinois -4.218376  0.329510  0.023328  0.289977\n",
       "4            Kent St.  2.044115  0.278755  0.983261  0.279179\n",
       "5               Akron -0.144877 -1.318327  0.841116 -1.312460\n",
       "6       Bowling Green -5.818377 -1.200357 -0.040980 -1.210593\n",
       "7             Buffalo -2.961971  0.224587  0.167318  0.272586\n",
       "8    Eastern Michigan -7.368555 -0.386207 -0.028447 -0.257851\n",
       "9    Western Michigan -7.315616 -3.030606 -0.044977 -3.082426\n",
       "10           Ball St. -1.606364 -2.073100 -0.133147 -1.951291\n",
       "11           Miami OH -5.234103 -0.494096 -0.018103 -0.579930"
      ]
     },
     "execution_count": 99,
     "metadata": {},
     "output_type": "execute_result"
    }
   ],
   "source": [
    "macBay = bay.predict(mac)\n",
    "macLars = lars.predict(mac)\n",
    "macKnn = knn.predict(mac)\n",
    "macReg = reg.predict(mac)\n",
    "tablemac = pd.DataFrame({'teams':macTeams, 'Bay':macBay, 'Lars':macLars, 'KNN':macKnn, 'Linear':macReg})\n",
    "tablemac"
   ]
  },
  {
   "cell_type": "markdown",
   "id": "f5ab4f5d",
   "metadata": {
    "papermill": {
     "duration": 0.037989,
     "end_time": "2023-03-16T22:20:57.337668",
     "exception": false,
     "start_time": "2023-03-16T22:20:57.299679",
     "status": "completed"
    },
    "tags": []
   },
   "source": [
    "# Ivy League 2023 Predictions"
   ]
  },
  {
   "cell_type": "code",
   "execution_count": 100,
   "id": "f1682d3e",
   "metadata": {
    "execution": {
     "iopub.execute_input": "2023-03-16T22:20:57.415477Z",
     "iopub.status.busy": "2023-03-16T22:20:57.415096Z",
     "iopub.status.idle": "2023-03-16T22:20:57.427131Z",
     "shell.execute_reply": "2023-03-16T22:20:57.426190Z"
    },
    "papermill": {
     "duration": 0.053975,
     "end_time": "2023-03-16T22:20:57.429549",
     "exception": false,
     "start_time": "2023-03-16T22:20:57.375574",
     "status": "completed"
    },
    "tags": []
   },
   "outputs": [
    {
     "data": {
      "text/plain": [
       "0         Yale\n",
       "1      Cornell\n",
       "2         Penn\n",
       "3    Princeton\n",
       "Name: Team, dtype: object"
      ]
     },
     "execution_count": 100,
     "metadata": {},
     "output_type": "execute_result"
    }
   ],
   "source": [
    "ivy = pd.read_csv('../input/ncaa-tourney-training-data/IVYConfData.csv')\n",
    "ivyTeams = ivy.iloc[:,0]\n",
    "ivyTeams"
   ]
  },
  {
   "cell_type": "code",
   "execution_count": 101,
   "id": "7bae7b23",
   "metadata": {
    "execution": {
     "iopub.execute_input": "2023-03-16T22:20:57.508992Z",
     "iopub.status.busy": "2023-03-16T22:20:57.508611Z",
     "iopub.status.idle": "2023-03-16T22:20:57.514045Z",
     "shell.execute_reply": "2023-03-16T22:20:57.513074Z"
    },
    "papermill": {
     "duration": 0.047984,
     "end_time": "2023-03-16T22:20:57.516507",
     "exception": false,
     "start_time": "2023-03-16T22:20:57.468523",
     "status": "completed"
    },
    "tags": []
   },
   "outputs": [],
   "source": [
    "ivy = ivy.drop(columns = ['Team', 'Yr']);"
   ]
  },
  {
   "cell_type": "code",
   "execution_count": 102,
   "id": "ca301816",
   "metadata": {
    "execution": {
     "iopub.execute_input": "2023-03-16T22:20:57.593324Z",
     "iopub.status.busy": "2023-03-16T22:20:57.592866Z",
     "iopub.status.idle": "2023-03-16T22:20:57.614041Z",
     "shell.execute_reply": "2023-03-16T22:20:57.612300Z"
    },
    "papermill": {
     "duration": 0.063262,
     "end_time": "2023-03-16T22:20:57.617083",
     "exception": false,
     "start_time": "2023-03-16T22:20:57.553821",
     "status": "completed"
    },
    "tags": []
   },
   "outputs": [
    {
     "name": "stderr",
     "output_type": "stream",
     "text": [
      "/opt/conda/lib/python3.7/site-packages/sklearn/base.py:444: UserWarning: X has feature names, but BayesianRidge was fitted without feature names\n",
      "  f\"X has feature names, but {self.__class__.__name__} was fitted without\"\n",
      "/opt/conda/lib/python3.7/site-packages/sklearn/base.py:444: UserWarning: X has feature names, but LassoLars was fitted without feature names\n",
      "  f\"X has feature names, but {self.__class__.__name__} was fitted without\"\n",
      "/opt/conda/lib/python3.7/site-packages/sklearn/base.py:444: UserWarning: X has feature names, but KNeighborsRegressor was fitted without feature names\n",
      "  f\"X has feature names, but {self.__class__.__name__} was fitted without\"\n",
      "/opt/conda/lib/python3.7/site-packages/sklearn/base.py:444: UserWarning: X has feature names, but LinearRegression was fitted without feature names\n",
      "  f\"X has feature names, but {self.__class__.__name__} was fitted without\"\n"
     ]
    },
    {
     "data": {
      "text/html": [
       "<div>\n",
       "<style scoped>\n",
       "    .dataframe tbody tr th:only-of-type {\n",
       "        vertical-align: middle;\n",
       "    }\n",
       "\n",
       "    .dataframe tbody tr th {\n",
       "        vertical-align: top;\n",
       "    }\n",
       "\n",
       "    .dataframe thead th {\n",
       "        text-align: right;\n",
       "    }\n",
       "</style>\n",
       "<table border=\"1\" class=\"dataframe\">\n",
       "  <thead>\n",
       "    <tr style=\"text-align: right;\">\n",
       "      <th></th>\n",
       "      <th>teams</th>\n",
       "      <th>Bay</th>\n",
       "      <th>Lars</th>\n",
       "      <th>KNN</th>\n",
       "      <th>Linear</th>\n",
       "    </tr>\n",
       "  </thead>\n",
       "  <tbody>\n",
       "    <tr>\n",
       "      <th>0</th>\n",
       "      <td>Yale</td>\n",
       "      <td>1.208750</td>\n",
       "      <td>-1.984678</td>\n",
       "      <td>0.971350</td>\n",
       "      <td>-2.024944</td>\n",
       "    </tr>\n",
       "    <tr>\n",
       "      <th>1</th>\n",
       "      <td>Cornell</td>\n",
       "      <td>0.863721</td>\n",
       "      <td>2.035581</td>\n",
       "      <td>0.598873</td>\n",
       "      <td>1.830035</td>\n",
       "    </tr>\n",
       "    <tr>\n",
       "      <th>2</th>\n",
       "      <td>Penn</td>\n",
       "      <td>-0.049864</td>\n",
       "      <td>-1.139125</td>\n",
       "      <td>0.196843</td>\n",
       "      <td>-1.167022</td>\n",
       "    </tr>\n",
       "    <tr>\n",
       "      <th>3</th>\n",
       "      <td>Princeton</td>\n",
       "      <td>-0.417118</td>\n",
       "      <td>-1.393906</td>\n",
       "      <td>0.331776</td>\n",
       "      <td>-1.426341</td>\n",
       "    </tr>\n",
       "  </tbody>\n",
       "</table>\n",
       "</div>"
      ],
      "text/plain": [
       "       teams       Bay      Lars       KNN    Linear\n",
       "0       Yale  1.208750 -1.984678  0.971350 -2.024944\n",
       "1    Cornell  0.863721  2.035581  0.598873  1.830035\n",
       "2       Penn -0.049864 -1.139125  0.196843 -1.167022\n",
       "3  Princeton -0.417118 -1.393906  0.331776 -1.426341"
      ]
     },
     "execution_count": 102,
     "metadata": {},
     "output_type": "execute_result"
    }
   ],
   "source": [
    "ivyBay = bay.predict(ivy)\n",
    "ivyLars = lars.predict(ivy)\n",
    "ivyKnn = knn.predict(ivy)\n",
    "ivyReg = reg.predict(ivy)\n",
    "tableivy = pd.DataFrame({'teams':ivyTeams, 'Bay':ivyBay, 'Lars':ivyLars, 'KNN':ivyKnn, 'Linear':ivyReg})\n",
    "tableivy"
   ]
  },
  {
   "cell_type": "markdown",
   "id": "56e34f36",
   "metadata": {
    "papermill": {
     "duration": 0.038479,
     "end_time": "2023-03-16T22:20:57.692860",
     "exception": false,
     "start_time": "2023-03-16T22:20:57.654381",
     "status": "completed"
    },
    "tags": []
   },
   "source": [
    "# American 2023 Predictions"
   ]
  },
  {
   "cell_type": "code",
   "execution_count": 103,
   "id": "b9184e75",
   "metadata": {
    "execution": {
     "iopub.execute_input": "2023-03-16T22:20:57.768890Z",
     "iopub.status.busy": "2023-03-16T22:20:57.768508Z",
     "iopub.status.idle": "2023-03-16T22:20:57.781966Z",
     "shell.execute_reply": "2023-03-16T22:20:57.781289Z"
    },
    "papermill": {
     "duration": 0.053606,
     "end_time": "2023-03-16T22:20:57.783929",
     "exception": false,
     "start_time": "2023-03-16T22:20:57.730323",
     "status": "completed"
    },
    "tags": []
   },
   "outputs": [
    {
     "data": {
      "text/plain": [
       "0            Tulane\n",
       "1               SMU\n",
       "2           Memphis\n",
       "3     East Carolina\n",
       "4               UCF\n",
       "5             Tulsa\n",
       "6            Temple\n",
       "7           Houston\n",
       "8        Cincinnati\n",
       "9     South Florida\n",
       "10      Wichita St.\n",
       "Name: Team, dtype: object"
      ]
     },
     "execution_count": 103,
     "metadata": {},
     "output_type": "execute_result"
    }
   ],
   "source": [
    "amer = pd.read_csv('../input/ncaa-tourney-training-data/AMERConfData.csv')\n",
    "amerTeams = amer.iloc[:,0]\n",
    "amerTeams"
   ]
  },
  {
   "cell_type": "code",
   "execution_count": 104,
   "id": "507738cc",
   "metadata": {
    "execution": {
     "iopub.execute_input": "2023-03-16T22:20:57.863810Z",
     "iopub.status.busy": "2023-03-16T22:20:57.863469Z",
     "iopub.status.idle": "2023-03-16T22:20:57.868710Z",
     "shell.execute_reply": "2023-03-16T22:20:57.867463Z"
    },
    "papermill": {
     "duration": 0.048186,
     "end_time": "2023-03-16T22:20:57.871090",
     "exception": false,
     "start_time": "2023-03-16T22:20:57.822904",
     "status": "completed"
    },
    "tags": []
   },
   "outputs": [],
   "source": [
    "amer = amer.drop(columns = ['Team', 'Yr']);"
   ]
  },
  {
   "cell_type": "code",
   "execution_count": 105,
   "id": "590a69ee",
   "metadata": {
    "execution": {
     "iopub.execute_input": "2023-03-16T22:20:57.948490Z",
     "iopub.status.busy": "2023-03-16T22:20:57.948134Z",
     "iopub.status.idle": "2023-03-16T22:20:57.970133Z",
     "shell.execute_reply": "2023-03-16T22:20:57.968540Z"
    },
    "papermill": {
     "duration": 0.063035,
     "end_time": "2023-03-16T22:20:57.972236",
     "exception": false,
     "start_time": "2023-03-16T22:20:57.909201",
     "status": "completed"
    },
    "tags": []
   },
   "outputs": [
    {
     "name": "stderr",
     "output_type": "stream",
     "text": [
      "/opt/conda/lib/python3.7/site-packages/sklearn/base.py:444: UserWarning: X has feature names, but BayesianRidge was fitted without feature names\n",
      "  f\"X has feature names, but {self.__class__.__name__} was fitted without\"\n",
      "/opt/conda/lib/python3.7/site-packages/sklearn/base.py:444: UserWarning: X has feature names, but LassoLars was fitted without feature names\n",
      "  f\"X has feature names, but {self.__class__.__name__} was fitted without\"\n",
      "/opt/conda/lib/python3.7/site-packages/sklearn/base.py:444: UserWarning: X has feature names, but KNeighborsRegressor was fitted without feature names\n",
      "  f\"X has feature names, but {self.__class__.__name__} was fitted without\"\n",
      "/opt/conda/lib/python3.7/site-packages/sklearn/base.py:444: UserWarning: X has feature names, but LinearRegression was fitted without feature names\n",
      "  f\"X has feature names, but {self.__class__.__name__} was fitted without\"\n"
     ]
    },
    {
     "data": {
      "text/html": [
       "<div>\n",
       "<style scoped>\n",
       "    .dataframe tbody tr th:only-of-type {\n",
       "        vertical-align: middle;\n",
       "    }\n",
       "\n",
       "    .dataframe tbody tr th {\n",
       "        vertical-align: top;\n",
       "    }\n",
       "\n",
       "    .dataframe thead th {\n",
       "        text-align: right;\n",
       "    }\n",
       "</style>\n",
       "<table border=\"1\" class=\"dataframe\">\n",
       "  <thead>\n",
       "    <tr style=\"text-align: right;\">\n",
       "      <th></th>\n",
       "      <th>teams</th>\n",
       "      <th>Bay</th>\n",
       "      <th>Lars</th>\n",
       "      <th>KNN</th>\n",
       "      <th>Linear</th>\n",
       "    </tr>\n",
       "  </thead>\n",
       "  <tbody>\n",
       "    <tr>\n",
       "      <th>0</th>\n",
       "      <td>Tulane</td>\n",
       "      <td>-0.129942</td>\n",
       "      <td>-2.673573</td>\n",
       "      <td>0.243229</td>\n",
       "      <td>-2.759538</td>\n",
       "    </tr>\n",
       "    <tr>\n",
       "      <th>1</th>\n",
       "      <td>SMU</td>\n",
       "      <td>-4.492093</td>\n",
       "      <td>-1.605325</td>\n",
       "      <td>0.164197</td>\n",
       "      <td>-1.575049</td>\n",
       "    </tr>\n",
       "    <tr>\n",
       "      <th>2</th>\n",
       "      <td>Memphis</td>\n",
       "      <td>4.509247</td>\n",
       "      <td>4.505702</td>\n",
       "      <td>1.444022</td>\n",
       "      <td>4.608859</td>\n",
       "    </tr>\n",
       "    <tr>\n",
       "      <th>3</th>\n",
       "      <td>East Carolina</td>\n",
       "      <td>-3.567040</td>\n",
       "      <td>-0.854933</td>\n",
       "      <td>-0.251039</td>\n",
       "      <td>-0.866465</td>\n",
       "    </tr>\n",
       "    <tr>\n",
       "      <th>4</th>\n",
       "      <td>UCF</td>\n",
       "      <td>1.860307</td>\n",
       "      <td>-0.155239</td>\n",
       "      <td>0.865308</td>\n",
       "      <td>-0.062378</td>\n",
       "    </tr>\n",
       "    <tr>\n",
       "      <th>5</th>\n",
       "      <td>Tulsa</td>\n",
       "      <td>-6.555677</td>\n",
       "      <td>1.756794</td>\n",
       "      <td>-0.074607</td>\n",
       "      <td>1.856420</td>\n",
       "    </tr>\n",
       "    <tr>\n",
       "      <th>6</th>\n",
       "      <td>Temple</td>\n",
       "      <td>-1.173559</td>\n",
       "      <td>-2.391776</td>\n",
       "      <td>0.352659</td>\n",
       "      <td>-2.383438</td>\n",
       "    </tr>\n",
       "    <tr>\n",
       "      <th>7</th>\n",
       "      <td>Houston</td>\n",
       "      <td>9.635631</td>\n",
       "      <td>14.555806</td>\n",
       "      <td>13.463907</td>\n",
       "      <td>14.594813</td>\n",
       "    </tr>\n",
       "    <tr>\n",
       "      <th>8</th>\n",
       "      <td>Cincinnati</td>\n",
       "      <td>2.580510</td>\n",
       "      <td>-0.224152</td>\n",
       "      <td>1.372429</td>\n",
       "      <td>-0.198511</td>\n",
       "    </tr>\n",
       "    <tr>\n",
       "      <th>9</th>\n",
       "      <td>South Florida</td>\n",
       "      <td>-1.864743</td>\n",
       "      <td>-2.287747</td>\n",
       "      <td>0.290082</td>\n",
       "      <td>-2.282075</td>\n",
       "    </tr>\n",
       "    <tr>\n",
       "      <th>10</th>\n",
       "      <td>Wichita St.</td>\n",
       "      <td>-0.355947</td>\n",
       "      <td>-4.439409</td>\n",
       "      <td>0.574922</td>\n",
       "      <td>-4.547818</td>\n",
       "    </tr>\n",
       "  </tbody>\n",
       "</table>\n",
       "</div>"
      ],
      "text/plain": [
       "            teams       Bay       Lars        KNN     Linear\n",
       "0          Tulane -0.129942  -2.673573   0.243229  -2.759538\n",
       "1             SMU -4.492093  -1.605325   0.164197  -1.575049\n",
       "2         Memphis  4.509247   4.505702   1.444022   4.608859\n",
       "3   East Carolina -3.567040  -0.854933  -0.251039  -0.866465\n",
       "4             UCF  1.860307  -0.155239   0.865308  -0.062378\n",
       "5           Tulsa -6.555677   1.756794  -0.074607   1.856420\n",
       "6          Temple -1.173559  -2.391776   0.352659  -2.383438\n",
       "7         Houston  9.635631  14.555806  13.463907  14.594813\n",
       "8      Cincinnati  2.580510  -0.224152   1.372429  -0.198511\n",
       "9   South Florida -1.864743  -2.287747   0.290082  -2.282075\n",
       "10    Wichita St. -0.355947  -4.439409   0.574922  -4.547818"
      ]
     },
     "execution_count": 105,
     "metadata": {},
     "output_type": "execute_result"
    }
   ],
   "source": [
    "amerBay = bay.predict(amer)\n",
    "amerLars = lars.predict(amer)\n",
    "amerKnn = knn.predict(amer)\n",
    "amerReg = reg.predict(amer)\n",
    "tableamer = pd.DataFrame({'teams':amerTeams, 'Bay':amerBay, 'Lars':amerLars, 'KNN':amerKnn, 'Linear':amerReg})\n",
    "tableamer"
   ]
  }
 ],
 "metadata": {
  "kernelspec": {
   "display_name": "Python 3",
   "language": "python",
   "name": "python3"
  },
  "language_info": {
   "codemirror_mode": {
    "name": "ipython",
    "version": 3
   },
   "file_extension": ".py",
   "mimetype": "text/x-python",
   "name": "python",
   "nbconvert_exporter": "python",
   "pygments_lexer": "ipython3",
   "version": "3.7.12"
  },
  "papermill": {
   "default_parameters": {},
   "duration": 21.407429,
   "end_time": "2023-03-16T22:20:58.730199",
   "environment_variables": {},
   "exception": null,
   "input_path": "__notebook__.ipynb",
   "output_path": "__notebook__.ipynb",
   "parameters": {},
   "start_time": "2023-03-16T22:20:37.322770",
   "version": "2.4.0"
  }
 },
 "nbformat": 4,
 "nbformat_minor": 5
}
